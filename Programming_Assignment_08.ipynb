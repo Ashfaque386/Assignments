{
 "cells": [
  {
   "cell_type": "code",
   "execution_count": 1,
   "id": "fb495e92",
   "metadata": {},
   "outputs": [],
   "source": [
    "import numpy as np"
   ]
  },
  {
   "cell_type": "markdown",
   "id": "b80af799",
   "metadata": {},
   "source": [
    "### 1.\tWrite a Python Program to Add Two Matrices?"
   ]
  },
  {
   "cell_type": "code",
   "execution_count": 7,
   "id": "ec7bf42d",
   "metadata": {},
   "outputs": [
    {
     "name": "stdout",
     "output_type": "stream",
     "text": [
      "The sum of two matrix \n",
      "[[ 4  6  8]\n",
      " [ 7  5 88]\n",
      " [ 8  5 77]] and \n",
      "[[12 43 74]\n",
      " [ 5  8  3]\n",
      " [ 8  9  9]] is \n",
      "[[16 49 82]\n",
      " [12 13 91]\n",
      " [16 14 86]]\n"
     ]
    }
   ],
   "source": [
    "a = np.array([[4,6,8],[7,5,88],[8,5,77]])\n",
    "b = np.array([[12,43,74],[5,8,3],[8,9,9]])\n",
    "\n",
    "Sum = np.add(a,b)\n",
    "print(f'The sum of two matrix \\n{a} and \\n{b} is \\n{Sum}')"
   ]
  },
  {
   "cell_type": "markdown",
   "id": "20c430e2",
   "metadata": {},
   "source": [
    "### 2.\tWrite a Python Program to Multiply Two Matrices?"
   ]
  },
  {
   "cell_type": "code",
   "execution_count": 8,
   "id": "0ffec7fc",
   "metadata": {},
   "outputs": [
    {
     "name": "stdout",
     "output_type": "stream",
     "text": [
      "The Multiplication of two matrix \n",
      "[[ 4  6  8]\n",
      " [ 7  5 88]\n",
      " [ 8  5 77]] and \n",
      "[[12 43 74]\n",
      " [ 5  8  3]\n",
      " [ 8  9  9]] is \n",
      "[[ 142  292  386]\n",
      " [ 813 1133 1325]\n",
      " [ 737 1077 1300]]\n"
     ]
    }
   ],
   "source": [
    "a = np.array([[4,6,8],[7,5,88],[8,5,77]])\n",
    "b = np.array([[12,43,74],[5,8,3],[8,9,9]])\n",
    "\n",
    "Sum = np.dot(a,b)\n",
    "print(f'The Multiplication of two matrix \\n{a} and \\n{b} is \\n{Sum}')"
   ]
  },
  {
   "cell_type": "markdown",
   "id": "5f2b7b3e",
   "metadata": {},
   "source": [
    "### 3.\tWrite a Python Program to Transpose a Matrix?"
   ]
  },
  {
   "cell_type": "code",
   "execution_count": 18,
   "id": "46a2e547",
   "metadata": {},
   "outputs": [
    {
     "name": "stdout",
     "output_type": "stream",
     "text": [
      "The transpose of matrix \n",
      "[[ 4  6  8]\n",
      " [ 7  5 88]\n",
      " [ 8  5 77]] is \n",
      "[[ 4  7  8]\n",
      " [ 6  5  5]\n",
      " [ 8 88 77]]\n"
     ]
    }
   ],
   "source": [
    "a = np.array([[4,6,8],[7,5,88],[8,5,77]])\n",
    "\n",
    "a_transpose = np.transpose(a)\n",
    "print(f'The transpose of matrix \\n{a} is \\n{a_transpose}')\n"
   ]
  },
  {
   "cell_type": "markdown",
   "id": "47e700d6",
   "metadata": {},
   "source": [
    "### 4.\tWrite a Python Program to Sort Words in Alphabetic Order?"
   ]
  },
  {
   "cell_type": "code",
   "execution_count": 22,
   "id": "03a145e0",
   "metadata": {},
   "outputs": [
    {
     "name": "stdout",
     "output_type": "stream",
     "text": [
      "Enter string : Sort Words in Alphabetic Order\n",
      "alphabetic\n",
      "in\n",
      "order\n",
      "sort\n",
      "words\n"
     ]
    }
   ],
   "source": [
    "Arr = input(\"Enter string : \").lower()\n",
    "\n",
    "words = Arr.split()\n",
    "words.sort()\n",
    "for word in words:\n",
    "    print(word)"
   ]
  },
  {
   "cell_type": "markdown",
   "id": "84b2cca6",
   "metadata": {},
   "source": [
    "### 5.\tWrite a Python Program to Remove Punctuation From a String?"
   ]
  },
  {
   "cell_type": "code",
   "execution_count": 23,
   "id": "7511a7de",
   "metadata": {},
   "outputs": [
    {
     "name": "stdout",
     "output_type": "stream",
     "text": [
      "Enter a string with punctuationsHello!!!, he said ---and went.\n",
      "Hello he said and went\n"
     ]
    }
   ],
   "source": [
    "punctuations = '''!()-[]{};:'\"\\,<>./?@#$%^&*_~'''\n",
    "\n",
    "x = input(\"Enter a string with punctuations\")\n",
    "\n",
    "\n",
    "s = \"\"\n",
    "for i in x:\n",
    "    if i not in punctuations:\n",
    "        s = s + i\n",
    "\n",
    "print(s)"
   ]
  },
  {
   "cell_type": "code",
   "execution_count": null,
   "id": "0fb544fc",
   "metadata": {},
   "outputs": [],
   "source": []
  }
 ],
 "metadata": {
  "kernelspec": {
   "display_name": "Python 3 (ipykernel)",
   "language": "python",
   "name": "python3"
  },
  "language_info": {
   "codemirror_mode": {
    "name": "ipython",
    "version": 3
   },
   "file_extension": ".py",
   "mimetype": "text/x-python",
   "name": "python",
   "nbconvert_exporter": "python",
   "pygments_lexer": "ipython3",
   "version": "3.9.7"
  }
 },
 "nbformat": 4,
 "nbformat_minor": 5
}
