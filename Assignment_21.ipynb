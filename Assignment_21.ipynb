{
 "cells": [
  {
   "cell_type": "markdown",
   "id": "fe1d3bad",
   "metadata": {},
   "source": [
    "### 1. Add the current date to the text file today.txt as a string."
   ]
  },
  {
   "cell_type": "code",
   "execution_count": 1,
   "id": "ea3ff911",
   "metadata": {},
   "outputs": [],
   "source": [
    "import datetime"
   ]
  },
  {
   "cell_type": "code",
   "execution_count": 2,
   "id": "cbd88042",
   "metadata": {},
   "outputs": [
    {
     "data": {
      "text/plain": [
       "'2023-03-15'"
      ]
     },
     "execution_count": 2,
     "metadata": {},
     "output_type": "execute_result"
    }
   ],
   "source": [
    "datetime.date.today().isoformat()"
   ]
  },
  {
   "cell_type": "code",
   "execution_count": 3,
   "id": "edbacc4f",
   "metadata": {},
   "outputs": [],
   "source": [
    "with open('selectiveFolder/today.txt','w') as file:\n",
    "    file.write(datetime.date.today().isoformat())"
   ]
  },
  {
   "cell_type": "markdown",
   "id": "08a0b7a0",
   "metadata": {},
   "source": [
    "### 2. Read the text file today.txt into the string today_string"
   ]
  },
  {
   "cell_type": "code",
   "execution_count": 4,
   "id": "674a0983",
   "metadata": {},
   "outputs": [],
   "source": [
    "with open('selectiveFolder/today.txt','r') as file:\n",
    "    today_string = file.read()"
   ]
  },
  {
   "cell_type": "code",
   "execution_count": 5,
   "id": "dfa9b262",
   "metadata": {},
   "outputs": [
    {
     "data": {
      "text/plain": [
       "'2023-03-15'"
      ]
     },
     "execution_count": 5,
     "metadata": {},
     "output_type": "execute_result"
    }
   ],
   "source": [
    "today_string"
   ]
  },
  {
   "cell_type": "markdown",
   "id": "bef2d774",
   "metadata": {},
   "source": [
    "### 3. Parse the date from today_string."
   ]
  },
  {
   "cell_type": "code",
   "execution_count": 6,
   "id": "9ea32ee7",
   "metadata": {},
   "outputs": [
    {
     "data": {
      "text/plain": [
       "datetime.datetime(2023, 3, 15, 0, 0)"
      ]
     },
     "execution_count": 6,
     "metadata": {},
     "output_type": "execute_result"
    }
   ],
   "source": [
    "datetime.datetime.strptime(today_string,\"%Y-%m-%d\")"
   ]
  },
  {
   "cell_type": "markdown",
   "id": "7972e07a",
   "metadata": {},
   "source": [
    "### 4. List the files in your current directory"
   ]
  },
  {
   "cell_type": "code",
   "execution_count": 7,
   "id": "cb4ec85d",
   "metadata": {},
   "outputs": [
    {
     "name": "stdout",
     "output_type": "stream",
     "text": [
      " Volume in drive D is New Volume\n",
      " Volume Serial Number is 060C-7916\n",
      "\n",
      " Directory of D:\\iNeurone\\01 Python & Data Science\\01 Assignment\\01 Python Basics\\Assignment\\Solutions\n",
      "\n",
      "25-02-2023  06:02 PM    <DIR>          .\n",
      "25-02-2023  06:02 PM    <DIR>          ..\n",
      "25-02-2023  06:02 PM    <DIR>          .ipynb_checkpoints\n",
      "25-02-2023  06:02 PM    <DIR>          __pycache__\n",
      "30-09-2022  03:48 PM             8,345 Assignment_1.ipynb\n",
      "01-12-2022  04:31 PM             4,016 Assignment_10.ipynb\n",
      "01-12-2022  08:05 PM            10,037 Assignment_11.ipynb\n",
      "07-12-2022  11:28 PM            76,715 Assignment_12.ipynb\n",
      "08-12-2022  10:26 AM             5,978 Assignment_13.ipynb\n",
      "08-12-2022  01:37 PM             4,588 Assignment_14.ipynb\n",
      "08-12-2022  02:20 PM             5,480 Assignment_15.ipynb\n",
      "08-12-2022  05:37 PM             9,642 Assignment_16.ipynb\n",
      "08-12-2022  09:05 PM             8,760 Assignment_17.ipynb\n",
      "15-12-2022  04:17 PM             4,847 Assignment_18.ipynb\n",
      "28-12-2022  05:48 PM            13,745 Assignment_19.ipynb\n",
      "30-09-2022  04:33 PM            12,376 Assignment_2.ipynb\n",
      "17-02-2023  11:32 AM             9,659 Assignment_20.ipynb\n",
      "17-02-2023  11:57 AM             6,910 Assignment_21.ipynb\n",
      "22-02-2023  10:51 AM             7,376 Assignment_22.ipynb\n",
      "22-02-2023  11:50 AM             6,598 Assignment_23.ipynb\n",
      "22-02-2023  12:54 PM            12,400 Assignment_24.ipynb\n",
      "22-02-2023  02:06 PM             7,636 Assignment_25.ipynb\n",
      "30-09-2022  05:57 PM             8,394 Assignment_3.ipynb\n",
      "30-09-2022  07:52 PM            14,071 Assignment_4.ipynb\n",
      "30-09-2022  10:19 PM             7,142 Assignment_5.ipynb\n",
      "01-11-2022  01:32 PM            10,144 Assignment_6.ipynb\n",
      "01-12-2022  12:55 PM            20,033 Assignment_7.ipynb\n",
      "01-12-2022  02:29 PM            15,392 Assignment_8.ipynb\n",
      "01-12-2022  03:10 PM             4,499 Assignment_9.ipynb\n",
      "16-02-2023  04:10 PM             8,192 books.db\n",
      "25-02-2023  06:02 PM    <DIR>          selectiveFolder\n",
      "15-12-2022  04:03 PM                43 zoo.py\n",
      "              27 File(s)        303,018 bytes\n",
      "               5 Dir(s)  57,122,746,368 bytes free\n"
     ]
    }
   ],
   "source": [
    "ls"
   ]
  },
  {
   "cell_type": "markdown",
   "id": "d43f902e",
   "metadata": {},
   "source": [
    "### 5. Create a list of all of the files in your parent directory (minimum five files should be available)."
   ]
  },
  {
   "cell_type": "code",
   "execution_count": 8,
   "id": "0364646d",
   "metadata": {},
   "outputs": [],
   "source": [
    "import os"
   ]
  },
  {
   "cell_type": "code",
   "execution_count": 12,
   "id": "63c1fa7c",
   "metadata": {},
   "outputs": [
    {
     "data": {
      "text/plain": [
       "['Assignment_1.docx',\n",
       " 'Assignment_10.docx',\n",
       " 'Assignment_11.docx',\n",
       " 'Assignment_12.docx',\n",
       " 'Assignment_13.docx',\n",
       " 'Assignment_14.docx',\n",
       " 'Assignment_15.docx',\n",
       " 'Assignment_16.docx',\n",
       " 'Assignment_17.docx',\n",
       " 'Assignment_18.docx',\n",
       " 'Assignment_19.docx',\n",
       " 'Assignment_2.docx',\n",
       " 'Assignment_20.docx',\n",
       " 'Assignment_21.docx',\n",
       " 'Assignment_22.docx',\n",
       " 'Assignment_23.docx',\n",
       " 'Assignment_24.docx',\n",
       " 'Assignment_25.docx',\n",
       " 'Assignment_3.docx',\n",
       " 'Assignment_4.docx',\n",
       " 'Assignment_5.docx',\n",
       " 'Assignment_6.docx',\n",
       " 'Assignment_7.docx',\n",
       " 'Assignment_8.docx',\n",
       " 'Assignment_9.docx',\n",
       " 'Solutions']"
      ]
     },
     "execution_count": 12,
     "metadata": {},
     "output_type": "execute_result"
    }
   ],
   "source": [
    "os.listdir('..')"
   ]
  },
  {
   "cell_type": "markdown",
   "id": "e705bc4a",
   "metadata": {},
   "source": [
    "### 6. Use multiprocessing to create three separate processes. Make each one wait a random number of seconds between one and five, print the current time, and then exit."
   ]
  },
  {
   "cell_type": "code",
   "execution_count": 13,
   "id": "d6ef0e36",
   "metadata": {},
   "outputs": [],
   "source": [
    "import multiprocessing"
   ]
  },
  {
   "cell_type": "code",
   "execution_count": 15,
   "id": "9ad1827f",
   "metadata": {},
   "outputs": [],
   "source": [
    "def printsec(seconds):\n",
    "    from datetime import datetime\n",
    "    from time import sleep\n",
    "    sleep(seconds)\n",
    "    print('wait', seconds, 'seconds, time is', datetime.utcnow())\n",
    "    \n",
    "if __name__ == '__main__':\n",
    "    import random    \n",
    "    for n in range(3):\n",
    "        seconds = random.random()\n",
    "        proc = multiprocessing.Process(target=printsec, args=(seconds,))\n",
    "        proc.start()"
   ]
  },
  {
   "cell_type": "markdown",
   "id": "649f9995",
   "metadata": {},
   "source": [
    "### 7. Create a date object of your day of birth."
   ]
  },
  {
   "cell_type": "code",
   "execution_count": 16,
   "id": "f2e1e210",
   "metadata": {},
   "outputs": [],
   "source": [
    "my_dob = datetime.date(1998,9,7)"
   ]
  },
  {
   "cell_type": "code",
   "execution_count": 17,
   "id": "ceae08a0",
   "metadata": {},
   "outputs": [
    {
     "data": {
      "text/plain": [
       "datetime.date(1998, 9, 7)"
      ]
     },
     "execution_count": 17,
     "metadata": {},
     "output_type": "execute_result"
    }
   ],
   "source": [
    "my_dob"
   ]
  },
  {
   "cell_type": "markdown",
   "id": "29155216",
   "metadata": {},
   "source": [
    "### 8. What day of the week was your day of birth?"
   ]
  },
  {
   "cell_type": "code",
   "execution_count": 18,
   "id": "0a9fc193",
   "metadata": {},
   "outputs": [
    {
     "data": {
      "text/plain": [
       "0"
      ]
     },
     "execution_count": 18,
     "metadata": {},
     "output_type": "execute_result"
    }
   ],
   "source": [
    "my_dob.weekday()"
   ]
  },
  {
   "cell_type": "markdown",
   "id": "b0598ea5",
   "metadata": {},
   "source": [
    "### 9. When will you be (or when were you) 10,000 days old?"
   ]
  },
  {
   "cell_type": "code",
   "execution_count": 20,
   "id": "ef49add1",
   "metadata": {},
   "outputs": [
    {
     "data": {
      "text/plain": [
       "datetime.date(2026, 1, 23)"
      ]
     },
     "execution_count": 20,
     "metadata": {},
     "output_type": "execute_result"
    }
   ],
   "source": [
    "my_dob + datetime.timedelta(days=10000)"
   ]
  },
  {
   "cell_type": "code",
   "execution_count": null,
   "id": "4852014b",
   "metadata": {},
   "outputs": [],
   "source": []
  }
 ],
 "metadata": {
  "kernelspec": {
   "display_name": "Python 3 (ipykernel)",
   "language": "python",
   "name": "python3"
  },
  "language_info": {
   "codemirror_mode": {
    "name": "ipython",
    "version": 3
   },
   "file_extension": ".py",
   "mimetype": "text/x-python",
   "name": "python",
   "nbconvert_exporter": "python",
   "pygments_lexer": "ipython3",
   "version": "3.9.7"
  }
 },
 "nbformat": 4,
 "nbformat_minor": 5
}
