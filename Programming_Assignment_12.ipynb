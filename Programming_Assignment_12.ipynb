{
 "cells": [
  {
   "cell_type": "markdown",
   "id": "4b105672",
   "metadata": {},
   "source": [
    "### 1.\tWrite a Python program to Extract Unique values dictionary values?"
   ]
  },
  {
   "cell_type": "code",
   "execution_count": 1,
   "id": "b185061d",
   "metadata": {},
   "outputs": [
    {
     "name": "stdout",
     "output_type": "stream",
     "text": [
      "The original dictonary is :  {'a': [3, 64, 17, 66], 'b': [1, 21, 47, 45], 'c': [0, 17, 7, 81], 'd': [3, 3, 4, 8]}\n",
      "The unique values list is :  [3, 64, 17, 66, 1, 21, 47, 45, 0, 17, 7, 81, 3, 3, 4, 8]\n"
     ]
    }
   ],
   "source": [
    "d = {'a' : [3, 64, 17, 66],\n",
    "     'b' : [1, 21, 47, 45],\n",
    "     'c' : [0, 17, 7, 81],\n",
    "     'd' : [3, 3, 4,8]}\n",
    "\n",
    "print(\"The original dictonary is : \", str(d))\n",
    "\n",
    "unique = [i for j in d.values() for i in j]\n",
    "print(\"The unique values list is : \", str(unique))"
   ]
  },
  {
   "cell_type": "markdown",
   "id": "52ee19e6",
   "metadata": {},
   "source": [
    "### 2.\tWrite a Python program to find the sum of all items in a dictionary?"
   ]
  },
  {
   "cell_type": "code",
   "execution_count": 2,
   "id": "0adfb70b",
   "metadata": {},
   "outputs": [
    {
     "name": "stdout",
     "output_type": "stream",
     "text": [
      "Summ of all item in dictonary is : 151\n"
     ]
    }
   ],
   "source": [
    "d = {'a' : 22, 'b' :  21,'c' : 52,'d' : 56}\n",
    "\n",
    "s = 0\n",
    "for i in d.values():\n",
    "    s = s + i\n",
    "print(f'Summ of all item in dictonary is : {s}')"
   ]
  },
  {
   "cell_type": "markdown",
   "id": "5442be4a",
   "metadata": {},
   "source": [
    "### 3.\tWrite a Python program to Merging two Dictionaries?"
   ]
  },
  {
   "cell_type": "code",
   "execution_count": 3,
   "id": "0287c5d8",
   "metadata": {},
   "outputs": [
    {
     "name": "stdout",
     "output_type": "stream",
     "text": [
      "{1: 'a', 2: 'c', 4: 'd'}\n"
     ]
    }
   ],
   "source": [
    "dict_1 = {1: 'a', 2: 'b'}\n",
    "dict_2 = {2: 'c', 4: 'd'}\n",
    "\n",
    "dict_3 = dict_1.copy()\n",
    "dict_3.update(dict_2)\n",
    "\n",
    "print(dict_3)"
   ]
  },
  {
   "cell_type": "code",
   "execution_count": 4,
   "id": "dba4bede",
   "metadata": {},
   "outputs": [
    {
     "name": "stdout",
     "output_type": "stream",
     "text": [
      "{1: 'a', 2: 'c', 4: 'd'}\n"
     ]
    }
   ],
   "source": [
    "dict_1 = {1: 'a', 2: 'b'}\n",
    "dict_2 = {2: 'c', 4: 'd'}\n",
    "\n",
    "print(dict_1 | dict_2)"
   ]
  },
  {
   "cell_type": "markdown",
   "id": "f5059fa9",
   "metadata": {},
   "source": [
    "### 4.\tWrite a Python program to convert key-values list to flat dictionary?"
   ]
  },
  {
   "cell_type": "code",
   "execution_count": 5,
   "id": "6574ecb3",
   "metadata": {},
   "outputs": [
    {
     "name": "stdout",
     "output_type": "stream",
     "text": [
      "{'month': [1, 2, 3], 'name': ['Jan', 'Feb', 'March']}\n",
      "{1: 'Jan', 2: 'Feb', 3: 'March'}\n"
     ]
    }
   ],
   "source": [
    "dict1 = {'month' : [1, 2, 3],\n",
    "             'name' : ['Jan', 'Feb', 'March']}\n",
    "print(dict1)\n",
    "\n",
    "res = dict(zip(dict1['month'], dict1['name']))\n",
    "print(res)"
   ]
  },
  {
   "cell_type": "markdown",
   "id": "16012e47",
   "metadata": {},
   "source": [
    "### 5.\tWrite a Python program to insertion at the beginning in OrderedDict?"
   ]
  },
  {
   "cell_type": "code",
   "execution_count": 6,
   "id": "1d54dceb",
   "metadata": {},
   "outputs": [],
   "source": [
    "from collections import OrderedDict"
   ]
  },
  {
   "cell_type": "code",
   "execution_count": 7,
   "id": "172627f0",
   "metadata": {},
   "outputs": [
    {
     "name": "stdout",
     "output_type": "stream",
     "text": [
      "Resulting Dictionary : OrderedDict([('Jan', '1'), ('Feb', '2'), ('Mar', '3')])\n"
     ]
    }
   ],
   "source": [
    "ord_dict = OrderedDict([('Feb', '2'), ('Mar', '3')])\n",
    "\n",
    "ord_dict.update({'Jan':'1'})\n",
    "ord_dict.move_to_end('Jan', last = False)\n",
    "\n",
    "print (\"Resulting Dictionary : \"+str(ord_dict))"
   ]
  },
  {
   "cell_type": "markdown",
   "id": "f0e1f28a",
   "metadata": {},
   "source": [
    "### 6.\tWrite a Python program to check order of character in string using OrderedDict()?"
   ]
  },
  {
   "cell_type": "code",
   "execution_count": 12,
   "id": "38991b77",
   "metadata": {},
   "outputs": [
    {
     "name": "stdout",
     "output_type": "stream",
     "text": [
      "enter string : ashfaque\n",
      "Enter Pattern : ue\n",
      "The order of pattern is correct\n"
     ]
    }
   ],
   "source": [
    "def checkorder(string, pattern):\n",
    "    d = OrderedDict.fromkeys(string)\n",
    "    ptrlen = 0\n",
    "    for key,value in d.items():\n",
    "        if (key == pattern[ptrlen]) :\n",
    "            ptrlen = ptrlen + 1\n",
    "            \n",
    "        if (ptrlen == (len(pattern))) :\n",
    "            return \"The order of pattern is correct\"\n",
    "    return \"The order of pattern is incorrect\"\n",
    "\n",
    "string = input(\"enter string : \")\n",
    "pattern = input(\"Enter Pattern : \")\n",
    "print(checkorder(string,pattern))"
   ]
  },
  {
   "cell_type": "markdown",
   "id": "150f452d",
   "metadata": {},
   "source": [
    "### 7.\tWrite a Python program to sort Python Dictionaries by Key or Value?"
   ]
  },
  {
   "cell_type": "code",
   "execution_count": 25,
   "id": "ed1f6c6b",
   "metadata": {},
   "outputs": [
    {
     "name": "stdout",
     "output_type": "stream",
     "text": [
      "{4: 2, 7: 8, 6: 9, 9: 5}\n",
      "sort Python Dictionaries by key/value : vAlue\n",
      "Sorted by dictonary values :  [2, 5, 8, 9]\n"
     ]
    }
   ],
   "source": [
    "d = {4:5 ,7:8 ,4:3 ,6:9 ,9:5 ,4:2}\n",
    "print(d)\n",
    "\n",
    "s = input(\"sort Python Dictionaries by key/value : \")\n",
    "\n",
    "if s.lower()=='key':\n",
    "    print(\"Sorted by dictonary key : \",sorted(d.keys()))\n",
    "elif s.lower()=='value':\n",
    "    print(\"Sorted by dictonary values : \",sorted(d.values()))\n",
    "else:\n",
    "    print(\"Give correct input\")"
   ]
  },
  {
   "cell_type": "code",
   "execution_count": null,
   "id": "3e37707b",
   "metadata": {},
   "outputs": [],
   "source": []
  }
 ],
 "metadata": {
  "kernelspec": {
   "display_name": "Python 3 (ipykernel)",
   "language": "python",
   "name": "python3"
  },
  "language_info": {
   "codemirror_mode": {
    "name": "ipython",
    "version": 3
   },
   "file_extension": ".py",
   "mimetype": "text/x-python",
   "name": "python",
   "nbconvert_exporter": "python",
   "pygments_lexer": "ipython3",
   "version": "3.9.7"
  }
 },
 "nbformat": 4,
 "nbformat_minor": 5
}
