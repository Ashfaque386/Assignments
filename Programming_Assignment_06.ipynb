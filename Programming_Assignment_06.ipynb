{
 "cells": [
  {
   "cell_type": "markdown",
   "id": "a3589632",
   "metadata": {},
   "source": [
    "### 1. Write a Python Program to Display Fibonacci Sequence Using Recursion?"
   ]
  },
  {
   "cell_type": "code",
   "execution_count": 1,
   "id": "07322103",
   "metadata": {},
   "outputs": [
    {
     "name": "stdout",
     "output_type": "stream",
     "text": [
      "Enter number: 10\n",
      "Fibonacci sequence:\n",
      "0\n",
      "1\n",
      "1\n",
      "2\n",
      "3\n",
      "5\n",
      "8\n",
      "13\n",
      "21\n",
      "34\n"
     ]
    }
   ],
   "source": [
    "def fibo_recu(n):\n",
    "    if n <= 1:\n",
    "        return n\n",
    "    else:\n",
    "        return(fibo_recu(n-1) + fibo_recu(n-2))\n",
    "\n",
    "num = int(input(\"Enter number: \"))\n",
    "\n",
    "# check if the number of terms is valid\n",
    "if num <= 0:\n",
    "    print(\"Plese enter a positive integer\")\n",
    "else:\n",
    "    print(\"Fibonacci sequence:\")\n",
    "    for i in range(num):\n",
    "        print(fibo_recu(i))"
   ]
  },
  {
   "cell_type": "markdown",
   "id": "14307cf5",
   "metadata": {},
   "source": [
    "### 2.\tWrite a Python Program to Find Factorial of Number Using Recursion?"
   ]
  },
  {
   "cell_type": "code",
   "execution_count": 6,
   "id": "de94152e",
   "metadata": {},
   "outputs": [
    {
     "name": "stdout",
     "output_type": "stream",
     "text": [
      "Enter number: 5\n",
      "The factorial of 5 is 120\n"
     ]
    }
   ],
   "source": [
    "def fact_recur(n):\n",
    "    if n == 1:\n",
    "        return n\n",
    "    else:\n",
    "        return n*fact_recur(n-1)\n",
    "    \n",
    "num = int(input(\"Enter number: \"))\n",
    "\n",
    "if num < 0:\n",
    "    print(\"Sorry, factorial does not exist for negative numbers\")\n",
    "elif num == 0:\n",
    "    print(\"The factorial of 0 is 1\")\n",
    "else:\n",
    "    print(\"The factorial of\", num, \"is\", fact_recur(num))"
   ]
  },
  {
   "cell_type": "markdown",
   "id": "d834330b",
   "metadata": {},
   "source": [
    "### 3.\tWrite a Python Program to calculate your Body Mass Index?"
   ]
  },
  {
   "cell_type": "code",
   "execution_count": 8,
   "id": "8c97601d",
   "metadata": {},
   "outputs": [
    {
     "name": "stdout",
     "output_type": "stream",
     "text": [
      "enter your height in feet : 5.6\n",
      "enter your weight in kilo : 80\n",
      "The Body Mass Index is =  27.45895514466766\n"
     ]
    }
   ],
   "source": [
    "h = float(input(\"enter your height in feet : \"))\n",
    "w = float(input(\"enter your weight in kilo : \"))\n",
    "# 1 feet is equal to 0.3048 meters:\n",
    "#Body mass index = weight / height(in meter)*height(in meter)\n",
    "h_meter = h*0.3048\n",
    "bmi = w/(h_meter**2)\n",
    "print(\"The Body Mass Index is = \",bmi)"
   ]
  },
  {
   "cell_type": "markdown",
   "id": "f575e387",
   "metadata": {},
   "source": [
    "### 4.\tWrite a Python Program to calculate the natural logarithm of any number?"
   ]
  },
  {
   "cell_type": "code",
   "execution_count": 10,
   "id": "3c981b7e",
   "metadata": {},
   "outputs": [
    {
     "name": "stdout",
     "output_type": "stream",
     "text": [
      "Enter a number : 4\n",
      "Natural logarithm of 4 is 1.3862943611198906\n"
     ]
    }
   ],
   "source": [
    "import math\n",
    "x = int(input((\"Enter a number : \")))\n",
    "n_log = math.log(x)\n",
    "print(f\"Natural logarithm of {x} is {n_log}\")"
   ]
  },
  {
   "cell_type": "markdown",
   "id": "ad5bd98c",
   "metadata": {},
   "source": [
    "### 5.\tWrite a Python Program for cube sum of first n natural numbers?"
   ]
  },
  {
   "cell_type": "code",
   "execution_count": 11,
   "id": "e4ff7d5a",
   "metadata": {},
   "outputs": [
    {
     "name": "stdout",
     "output_type": "stream",
     "text": [
      "Enter number : 4\n",
      "Cube sum of 4 natural numbers is 100\n"
     ]
    }
   ],
   "source": [
    "n = int(input(\"Enter number : \"))\n",
    "summ = 0\n",
    "for i in range(1, n+1):\n",
    "    summ = summ + i**3\n",
    "print(f\"Cube sum of {n} natural numbers is {summ}\")"
   ]
  },
  {
   "cell_type": "code",
   "execution_count": null,
   "id": "87a26e97",
   "metadata": {},
   "outputs": [],
   "source": []
  }
 ],
 "metadata": {
  "kernelspec": {
   "display_name": "Python 3 (ipykernel)",
   "language": "python",
   "name": "python3"
  },
  "language_info": {
   "codemirror_mode": {
    "name": "ipython",
    "version": 3
   },
   "file_extension": ".py",
   "mimetype": "text/x-python",
   "name": "python",
   "nbconvert_exporter": "python",
   "pygments_lexer": "ipython3",
   "version": "3.9.7"
  }
 },
 "nbformat": 4,
 "nbformat_minor": 5
}
