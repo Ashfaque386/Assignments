{
 "cells": [
  {
   "cell_type": "markdown",
   "id": "d88f4d11",
   "metadata": {},
   "source": [
    "### 1.\tWrite a Python program to convert kilometers to miles?"
   ]
  },
  {
   "cell_type": "code",
   "execution_count": 2,
   "id": "607591de",
   "metadata": {},
   "outputs": [
    {
     "name": "stdout",
     "output_type": "stream",
     "text": [
      "Enter Kilometer : 46\n",
      "46.0 kilometers is equals to 28.583019999999998 miles\n"
     ]
    }
   ],
   "source": [
    "km = float(input(\"Enter Kilometer : \"))\n",
    "miles = km * 0.62137      # 1 kilometer equals 0.62137 miles\n",
    "print(f\"{km} kilometers is equals to {miles} miles\")"
   ]
  },
  {
   "cell_type": "markdown",
   "id": "c22f71c5",
   "metadata": {},
   "source": [
    "### 2.\tWrite a Python program to convert Celsius to Fahrenheit?"
   ]
  },
  {
   "cell_type": "code",
   "execution_count": 3,
   "id": "5e033696",
   "metadata": {},
   "outputs": [
    {
     "name": "stdout",
     "output_type": "stream",
     "text": [
      "Temperature value in degree Celsius: 37.5\n",
      "37.5 degree Celsius is equal to 99.5 degree Fahrenheit\n"
     ]
    }
   ],
   "source": [
    "celsius = float(input(\"Temperature value in degree Celsius: \"))\n",
    "fahrenheit = (celsius * 1.8) + 32    # calculate fahrenheit\n",
    "print(f'{celsius} degree Celsius is equal to {fahrenheit} degree Fahrenheit')"
   ]
  },
  {
   "cell_type": "markdown",
   "id": "8892aadf",
   "metadata": {},
   "source": [
    "### 3.\tWrite a Python program to display calendar?"
   ]
  },
  {
   "cell_type": "code",
   "execution_count": 5,
   "id": "1a7a1f94",
   "metadata": {},
   "outputs": [
    {
     "name": "stdout",
     "output_type": "stream",
     "text": [
      "Enter year: 2017\n",
      "Enter month: 9\n",
      "   September 2017\n",
      "Mo Tu We Th Fr Sa Su\n",
      "             1  2  3\n",
      " 4  5  6  7  8  9 10\n",
      "11 12 13 14 15 16 17\n",
      "18 19 20 21 22 23 24\n",
      "25 26 27 28 29 30\n",
      "\n"
     ]
    }
   ],
   "source": [
    "# importing calendar module\n",
    "import calendar\n",
    "\n",
    "year  =  int(input(\"Enter year: \"))\n",
    "month = int(input(\"Enter month: \"))\n",
    "print(calendar.month(year,month))"
   ]
  },
  {
   "cell_type": "markdown",
   "id": "edac7d82",
   "metadata": {},
   "source": [
    "### 4.\tWrite a Python program to solve quadratic equation?"
   ]
  },
  {
   "cell_type": "code",
   "execution_count": 10,
   "id": "52b12c89",
   "metadata": {},
   "outputs": [
    {
     "name": "stdout",
     "output_type": "stream",
     "text": [
      "Enter a = 1\n",
      "Enter b = 6\n",
      "Enter c = 5\n",
      "Solutions of quadratic equation :  (-1+0j) , (-5+0j)\n"
     ]
    }
   ],
   "source": [
    "import cmath\n",
    "\n",
    "a=int(input(\"Enter a = \"))\n",
    "b=int(input(\"Enter b = \"))\n",
    "c=int(input(\"Enter c = \"))\n",
    "\n",
    "d = (b**2) - (4 * a * c)\n",
    "\n",
    "sol_one = (- b + cmath.sqrt(d)) / (2 * a)\n",
    "sol_two = (- b - cmath.sqrt(d)) / (2 * a)\n",
    "\n",
    "print(\"Solutions of quadratic equation : \",sol_one ,\",\", sol_two)"
   ]
  },
  {
   "cell_type": "markdown",
   "id": "2ffd0710",
   "metadata": {},
   "source": [
    "### 5.\tWrite a Python program to swap two variables without temp variable?"
   ]
  },
  {
   "cell_type": "code",
   "execution_count": 9,
   "id": "0b8829d1",
   "metadata": {},
   "outputs": [
    {
     "name": "stdout",
     "output_type": "stream",
     "text": [
      "First variable : 6\n",
      "Second variable : 8\n",
      "After swap value of x :  8\n",
      "After swap value of y :  6\n"
     ]
    }
   ],
   "source": [
    "x = int(input(\"First variable : \"))\n",
    "y = int(input(\"Second variable : \"))\n",
    "\n",
    "x , y = y , x\n",
    "\n",
    "print(\"After swap value of x : \",x)\n",
    "print(\"After swap value of y : \",y)"
   ]
  },
  {
   "cell_type": "code",
   "execution_count": null,
   "id": "ae5507d9",
   "metadata": {},
   "outputs": [],
   "source": []
  }
 ],
 "metadata": {
  "kernelspec": {
   "display_name": "Python 3 (ipykernel)",
   "language": "python",
   "name": "python3"
  },
  "language_info": {
   "codemirror_mode": {
    "name": "ipython",
    "version": 3
   },
   "file_extension": ".py",
   "mimetype": "text/x-python",
   "name": "python",
   "nbconvert_exporter": "python",
   "pygments_lexer": "ipython3",
   "version": "3.9.7"
  }
 },
 "nbformat": 4,
 "nbformat_minor": 5
}
