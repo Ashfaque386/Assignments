{
 "cells": [
  {
   "cell_type": "markdown",
   "id": "d4d6b3d5",
   "metadata": {},
   "source": [
    "### 1.\tWrite a Python program to print \"Hello Python\"?"
   ]
  },
  {
   "cell_type": "code",
   "execution_count": 1,
   "id": "4b8df5b7",
   "metadata": {},
   "outputs": [
    {
     "name": "stdout",
     "output_type": "stream",
     "text": [
      "Hello Python\n"
     ]
    }
   ],
   "source": [
    "print(\"Hello Python\")"
   ]
  },
  {
   "cell_type": "markdown",
   "id": "98306237",
   "metadata": {},
   "source": [
    "### 2.\tWrite a Python program to do arithmetical operations addition and division.?"
   ]
  },
  {
   "cell_type": "code",
   "execution_count": 2,
   "id": "bb1c9798",
   "metadata": {},
   "outputs": [
    {
     "name": "stdout",
     "output_type": "stream",
     "text": [
      "66\n",
      "12\n",
      "Addition :  78\n",
      "Division :  5.5\n"
     ]
    }
   ],
   "source": [
    "a = int(input())\n",
    "b = int(input())\n",
    "print(\"Addition : \", a + b)\n",
    "print(\"Division : \", a / b)"
   ]
  },
  {
   "cell_type": "markdown",
   "id": "652af938",
   "metadata": {},
   "source": [
    "### 3.\tWrite a Python program to find the area of a triangle?"
   ]
  },
  {
   "cell_type": "code",
   "execution_count": 4,
   "id": "5d938c0b",
   "metadata": {},
   "outputs": [
    {
     "name": "stdout",
     "output_type": "stream",
     "text": [
      "Base of triangle : 18\n",
      "Height of triangle : 24\n",
      "Area of triangle is 216.0\n"
     ]
    }
   ],
   "source": [
    "base = int(input(\"Base of triangle : \"))\n",
    "height = int(input(\"Height of triangle : \"))\n",
    "area = (base*height)/2\n",
    "print(f\"Area of triangle is {area}\")"
   ]
  },
  {
   "cell_type": "markdown",
   "id": "c25cc8ed",
   "metadata": {},
   "source": [
    "### 4.\tWrite a Python program to swap two variables?"
   ]
  },
  {
   "cell_type": "code",
   "execution_count": 6,
   "id": "b5f04a36",
   "metadata": {},
   "outputs": [
    {
     "name": "stdout",
     "output_type": "stream",
     "text": [
      "First Variable =46\n",
      "Second Variable =97\n",
      "First Variable After swap : 97\n",
      "Second Variable After swap : 46\n"
     ]
    }
   ],
   "source": [
    "x = int(input(\"First Variable =\"))\n",
    "y = int(input(\"Second Variable =\"))\n",
    "temp = x\n",
    "x = y\n",
    "y = temp\n",
    "print(f\"First Variable After swap : {x}\")\n",
    "print(f\"Second Variable After swap : {y}\")"
   ]
  },
  {
   "cell_type": "markdown",
   "id": "a28c78b3",
   "metadata": {},
   "source": [
    "### 5.\tWrite a Python program to generate a random number?"
   ]
  },
  {
   "cell_type": "code",
   "execution_count": 7,
   "id": "bca9bd24",
   "metadata": {},
   "outputs": [
    {
     "name": "stdout",
     "output_type": "stream",
     "text": [
      "0.12991058916172993\n"
     ]
    }
   ],
   "source": [
    "import random\n",
    "num = random.random()\n",
    "print(num)"
   ]
  },
  {
   "cell_type": "code",
   "execution_count": null,
   "id": "66772bdf",
   "metadata": {},
   "outputs": [],
   "source": []
  }
 ],
 "metadata": {
  "kernelspec": {
   "display_name": "Python 3 (ipykernel)",
   "language": "python",
   "name": "python3"
  },
  "language_info": {
   "codemirror_mode": {
    "name": "ipython",
    "version": 3
   },
   "file_extension": ".py",
   "mimetype": "text/x-python",
   "name": "python",
   "nbconvert_exporter": "python",
   "pygments_lexer": "ipython3",
   "version": "3.9.7"
  }
 },
 "nbformat": 4,
 "nbformat_minor": 5
}
