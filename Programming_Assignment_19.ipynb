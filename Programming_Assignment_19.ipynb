{
 "cells": [
  {
   "cell_type": "markdown",
   "id": "4a5d5bb9",
   "metadata": {},
   "source": [
    "### Question1: Create a function that takes a string and returns a string in which each character is repeated once.\n",
    "    Examples\n",
    "    double_char(\"String\") ➞ \"SSttrriinngg\"\n",
    "\n",
    "    double_char(\"Hello World!\") ➞ \"HHeelllloo  WWoorrlldd!!\"\n",
    "\n",
    "    double_char(\"1234!_ \") ➞ \"11223344!!__  \""
   ]
  },
  {
   "cell_type": "code",
   "execution_count": 7,
   "id": "80526aec",
   "metadata": {},
   "outputs": [],
   "source": [
    "def double_char(s):\n",
    "    n = ''\n",
    "    for i in s:\n",
    "        n += ''.join(i+i)\n",
    "    return n"
   ]
  },
  {
   "cell_type": "code",
   "execution_count": 8,
   "id": "a99c8706",
   "metadata": {},
   "outputs": [
    {
     "data": {
      "text/plain": [
       "'SSttrriinngg'"
      ]
     },
     "execution_count": 8,
     "metadata": {},
     "output_type": "execute_result"
    }
   ],
   "source": [
    "double_char(\"String\")"
   ]
  },
  {
   "cell_type": "code",
   "execution_count": 9,
   "id": "9b4cb231",
   "metadata": {},
   "outputs": [
    {
     "data": {
      "text/plain": [
       "'HHeelllloo  WWoorrlldd!!'"
      ]
     },
     "execution_count": 9,
     "metadata": {},
     "output_type": "execute_result"
    }
   ],
   "source": [
    "double_char(\"Hello World!\")"
   ]
  },
  {
   "cell_type": "code",
   "execution_count": 10,
   "id": "c7f75002",
   "metadata": {},
   "outputs": [
    {
     "data": {
      "text/plain": [
       "'11223344!!__  '"
      ]
     },
     "execution_count": 10,
     "metadata": {},
     "output_type": "execute_result"
    }
   ],
   "source": [
    "double_char(\"1234!_ \")"
   ]
  },
  {
   "cell_type": "markdown",
   "id": "f6728b38",
   "metadata": {},
   "source": [
    "### Question2: Create a function that reverses a boolean value and returns the string \"boolean expected\" if another variable type is given.\n",
    "    Examples\n",
    "    reverse(True) ➞ False\n",
    "\n",
    "    reverse(False) ➞ True\n",
    "\n",
    "    reverse(0) ➞ \"boolean expected\"\n",
    "\n",
    "    reverse(None) ➞ \"boolean expected\""
   ]
  },
  {
   "cell_type": "code",
   "execution_count": 11,
   "id": "21b1aa5a",
   "metadata": {},
   "outputs": [],
   "source": [
    "def reverse(x):\n",
    "    if type(x) == bool:\n",
    "        return not x\n",
    "    else:\n",
    "        return \"boolean expected\""
   ]
  },
  {
   "cell_type": "code",
   "execution_count": 12,
   "id": "86b45c52",
   "metadata": {},
   "outputs": [
    {
     "data": {
      "text/plain": [
       "False"
      ]
     },
     "execution_count": 12,
     "metadata": {},
     "output_type": "execute_result"
    }
   ],
   "source": [
    "reverse(True)"
   ]
  },
  {
   "cell_type": "code",
   "execution_count": 13,
   "id": "ce6b140a",
   "metadata": {},
   "outputs": [
    {
     "data": {
      "text/plain": [
       "True"
      ]
     },
     "execution_count": 13,
     "metadata": {},
     "output_type": "execute_result"
    }
   ],
   "source": [
    "reverse(False)"
   ]
  },
  {
   "cell_type": "code",
   "execution_count": 14,
   "id": "2bd727f0",
   "metadata": {},
   "outputs": [
    {
     "data": {
      "text/plain": [
       "'boolean expected'"
      ]
     },
     "execution_count": 14,
     "metadata": {},
     "output_type": "execute_result"
    }
   ],
   "source": [
    "reverse(0)"
   ]
  },
  {
   "cell_type": "code",
   "execution_count": 15,
   "id": "99278946",
   "metadata": {},
   "outputs": [
    {
     "data": {
      "text/plain": [
       "'boolean expected'"
      ]
     },
     "execution_count": 15,
     "metadata": {},
     "output_type": "execute_result"
    }
   ],
   "source": [
    "reverse(None)"
   ]
  },
  {
   "cell_type": "markdown",
   "id": "c731ab15",
   "metadata": {},
   "source": [
    "### Question3: Create a function that returns the thickness (in meters) of a piece of paper after folding it n number of times. The paper starts off with a thickness of 0.5mm.\n",
    "    Examples\n",
    "    num_layers(1) ➞ \"0.001m\"\n",
    "    # Paper folded once is 1mm (equal to 0.001m)\n",
    "\n",
    "    num_layers(4) ➞ \"0.008m\"\n",
    "    # Paper folded 4 times is 8mm (equal to 0.008m)\n",
    "\n",
    "    num_layers(21) ➞ \"1048.576m\"\n",
    "    # Paper folded 21 times is 1048576mm (equal to 1048.576m)"
   ]
  },
  {
   "cell_type": "code",
   "execution_count": 16,
   "id": "5d0c8543",
   "metadata": {},
   "outputs": [],
   "source": [
    "def num_layers(n):\n",
    "    thickness = 0.5\n",
    "    for i in range(n):\n",
    "        thickness = thickness * 2\n",
    "    return f'{thickness/1000}m'"
   ]
  },
  {
   "cell_type": "code",
   "execution_count": 17,
   "id": "488b1f23",
   "metadata": {},
   "outputs": [
    {
     "data": {
      "text/plain": [
       "'0.001m'"
      ]
     },
     "execution_count": 17,
     "metadata": {},
     "output_type": "execute_result"
    }
   ],
   "source": [
    "num_layers(1)"
   ]
  },
  {
   "cell_type": "code",
   "execution_count": 18,
   "id": "f598cd27",
   "metadata": {},
   "outputs": [
    {
     "data": {
      "text/plain": [
       "'0.008m'"
      ]
     },
     "execution_count": 18,
     "metadata": {},
     "output_type": "execute_result"
    }
   ],
   "source": [
    "num_layers(4)"
   ]
  },
  {
   "cell_type": "code",
   "execution_count": 19,
   "id": "0c00f7c6",
   "metadata": {},
   "outputs": [
    {
     "data": {
      "text/plain": [
       "'1048.576m'"
      ]
     },
     "execution_count": 19,
     "metadata": {},
     "output_type": "execute_result"
    }
   ],
   "source": [
    "num_layers(21)"
   ]
  },
  {
   "cell_type": "markdown",
   "id": "82af7e6b",
   "metadata": {},
   "source": [
    "### Question4: Create a function that takes a single string as argument and returns an ordered list containing the indices of all capital letters in the string.\n",
    "    Examples\n",
    "    index_of_caps(\"eDaBiT\") ➞ [1, 3, 5]\n",
    "\n",
    "    index_of_caps(\"eQuINoX\") ➞ [1, 3, 4, 6]\n",
    "\n",
    "    index_of_caps(\"determine\") ➞ []\n",
    "\n",
    "    index_of_caps(\"STRIKE\") ➞ [0, 1, 2, 3, 4, 5]\n",
    "\n",
    "    index_of_caps(\"sUn\") ➞ [1]"
   ]
  },
  {
   "cell_type": "code",
   "execution_count": 20,
   "id": "789c349a",
   "metadata": {},
   "outputs": [],
   "source": [
    "def index_of_caps(s):\n",
    "    indices = []\n",
    "    for i in range(len(s)):\n",
    "        if s[i].isupper():\n",
    "            indices.append(i)\n",
    "    return indices"
   ]
  },
  {
   "cell_type": "code",
   "execution_count": 21,
   "id": "3965cd1c",
   "metadata": {},
   "outputs": [
    {
     "data": {
      "text/plain": [
       "[1, 3, 5]"
      ]
     },
     "execution_count": 21,
     "metadata": {},
     "output_type": "execute_result"
    }
   ],
   "source": [
    "index_of_caps(\"eDaBiT\")"
   ]
  },
  {
   "cell_type": "code",
   "execution_count": 22,
   "id": "89956803",
   "metadata": {},
   "outputs": [
    {
     "data": {
      "text/plain": [
       "[1, 3, 4, 6]"
      ]
     },
     "execution_count": 22,
     "metadata": {},
     "output_type": "execute_result"
    }
   ],
   "source": [
    "index_of_caps(\"eQuINoX\")"
   ]
  },
  {
   "cell_type": "code",
   "execution_count": 23,
   "id": "a9243161",
   "metadata": {},
   "outputs": [
    {
     "data": {
      "text/plain": [
       "[]"
      ]
     },
     "execution_count": 23,
     "metadata": {},
     "output_type": "execute_result"
    }
   ],
   "source": [
    "index_of_caps(\"determine\")"
   ]
  },
  {
   "cell_type": "code",
   "execution_count": 24,
   "id": "5837a87c",
   "metadata": {},
   "outputs": [
    {
     "data": {
      "text/plain": [
       "[0, 1, 2, 3, 4, 5]"
      ]
     },
     "execution_count": 24,
     "metadata": {},
     "output_type": "execute_result"
    }
   ],
   "source": [
    "index_of_caps(\"STRIKE\")"
   ]
  },
  {
   "cell_type": "code",
   "execution_count": 25,
   "id": "1ac28bf5",
   "metadata": {},
   "outputs": [
    {
     "data": {
      "text/plain": [
       "[1]"
      ]
     },
     "execution_count": 25,
     "metadata": {},
     "output_type": "execute_result"
    }
   ],
   "source": [
    "index_of_caps(\"sUn\")"
   ]
  },
  {
   "cell_type": "markdown",
   "id": "99e74b12",
   "metadata": {},
   "source": [
    "### Question5: Using list comprehensions, create a function that finds all even numbers from 1 to the given number.\n",
    "    Examples\n",
    "    find_even_nums(8) ➞ [2, 4, 6, 8]\n",
    "\n",
    "    find_even_nums(4) ➞ [2, 4]\n",
    "\n",
    "    find_even_nums(2) ➞ [2]"
   ]
  },
  {
   "cell_type": "code",
   "execution_count": 26,
   "id": "d8f31a6d",
   "metadata": {},
   "outputs": [],
   "source": [
    "def find_even_nums(n):\n",
    "    even = [x for x in range(1,n+1) if x % 2 == 0]\n",
    "    return even"
   ]
  },
  {
   "cell_type": "code",
   "execution_count": 27,
   "id": "c532e6f6",
   "metadata": {},
   "outputs": [
    {
     "data": {
      "text/plain": [
       "[2, 4, 6, 8]"
      ]
     },
     "execution_count": 27,
     "metadata": {},
     "output_type": "execute_result"
    }
   ],
   "source": [
    "find_even_nums(8)"
   ]
  },
  {
   "cell_type": "code",
   "execution_count": 28,
   "id": "80eb108e",
   "metadata": {},
   "outputs": [
    {
     "data": {
      "text/plain": [
       "[2, 4]"
      ]
     },
     "execution_count": 28,
     "metadata": {},
     "output_type": "execute_result"
    }
   ],
   "source": [
    "find_even_nums(4)"
   ]
  },
  {
   "cell_type": "code",
   "execution_count": 29,
   "id": "c397bfe2",
   "metadata": {},
   "outputs": [
    {
     "data": {
      "text/plain": [
       "[2]"
      ]
     },
     "execution_count": 29,
     "metadata": {},
     "output_type": "execute_result"
    }
   ],
   "source": [
    "find_even_nums(2)"
   ]
  },
  {
   "cell_type": "code",
   "execution_count": null,
   "id": "6ff416a0",
   "metadata": {},
   "outputs": [],
   "source": []
  }
 ],
 "metadata": {
  "kernelspec": {
   "display_name": "Python 3 (ipykernel)",
   "language": "python",
   "name": "python3"
  },
  "language_info": {
   "codemirror_mode": {
    "name": "ipython",
    "version": 3
   },
   "file_extension": ".py",
   "mimetype": "text/x-python",
   "name": "python",
   "nbconvert_exporter": "python",
   "pygments_lexer": "ipython3",
   "version": "3.9.7"
  }
 },
 "nbformat": 4,
 "nbformat_minor": 5
}
