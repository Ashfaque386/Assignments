{
 "cells": [
  {
   "cell_type": "markdown",
   "id": "018e2f30",
   "metadata": {},
   "source": [
    "### Question 1: Please write a program using generator to print the numbers which can be divisible by 5 and 7 between 0 and n in comma separated form while n is input by console.\n",
    "    Example:\n",
    "    If the following n is given as input to the program:\n",
    "    100\n",
    "    Then, the output of the program should be:\n",
    "    0,35,70"
   ]
  },
  {
   "cell_type": "code",
   "execution_count": 1,
   "id": "9aa9b666",
   "metadata": {},
   "outputs": [
    {
     "name": "stdout",
     "output_type": "stream",
     "text": [
      "Enter value of n : 100\n",
      "0,35,70\n"
     ]
    }
   ],
   "source": [
    "n = int(input(\"Enter value of n : \"))\n",
    "l1 = []\n",
    "for i in range(0,n):\n",
    "    if i%5==0 and i%7==0:\n",
    "        l1.append(str(i))\n",
    "print(','.join(l1))"
   ]
  },
  {
   "cell_type": "markdown",
   "id": "1f3219db",
   "metadata": {},
   "source": [
    "### Question 2: Please write a program using generator to print the even numbers between 0 and n in comma separated form while n is input by console.\n",
    "    Example:\n",
    "    If the following n is given as input to the program:\n",
    "    10\n",
    "    Then, the output of the program should be:\n",
    "    0,2,4,6,8,10"
   ]
  },
  {
   "cell_type": "code",
   "execution_count": 3,
   "id": "7be89638",
   "metadata": {},
   "outputs": [
    {
     "name": "stdout",
     "output_type": "stream",
     "text": [
      "Enter value of n : 10\n",
      "0,2,4,6,8\n"
     ]
    }
   ],
   "source": [
    "n = int(input(\"Enter value of n : \"))\n",
    "l2 = []\n",
    "for i in range(0,n):\n",
    "    if i%2==0:\n",
    "        l2.append(str(i))\n",
    "print(','.join(l2))"
   ]
  },
  {
   "cell_type": "markdown",
   "id": "c6c2c020",
   "metadata": {},
   "source": [
    "### Question 3: The Fibonacci Sequence is computed based on the following formula:\n",
    "    f(n)=0 if n=0\n",
    "    f(n)=1 if n=1\n",
    "    f(n)=f(n-1)+f(n-2) if n>1\n",
    "    Please write a program using list comprehension to print the Fibonacci Sequence in comma separated form with a given n input by console.\n",
    "    Example:\n",
    "    If the following n is given as input to the program:\n",
    "    7\n",
    "\n",
    "    Then, the output of the program should be:\n",
    "    0,1,1,2,3,5,8,13"
   ]
  },
  {
   "cell_type": "code",
   "execution_count": 4,
   "id": "1b91d82a",
   "metadata": {},
   "outputs": [
    {
     "name": "stdout",
     "output_type": "stream",
     "text": [
      "Enter value of n : 7\n",
      "0,1,1,2,3,5,8,13\n"
     ]
    }
   ],
   "source": [
    "def f(n):\n",
    "    if n == 0:\n",
    "        return 0\n",
    "    elif n == 1:\n",
    "        return 1\n",
    "    else:\n",
    "        return f(n-1)+f(n-2)\n",
    "\n",
    "n=int(input(\"Enter value of n : \"))\n",
    "values = [str(f(x)) for x in range(0, n+1)]\n",
    "print(\",\".join(values))"
   ]
  },
  {
   "cell_type": "markdown",
   "id": "1d89cd98",
   "metadata": {},
   "source": [
    "### Question 4: Assuming that we have some email addresses in the \"username@companyname.com\" format, please write program to print the user name of a given email address. Both user names and company names are composed of letters only.\n",
    "    Example:\n",
    "    If the following email address is given as input to the program:\n",
    "    john@google.com\n",
    "    Then, the output of the program should be:\n",
    "    john"
   ]
  },
  {
   "cell_type": "code",
   "execution_count": 7,
   "id": "ce83e658",
   "metadata": {},
   "outputs": [
    {
     "name": "stdout",
     "output_type": "stream",
     "text": [
      "Enter the email address : john@google.com\n",
      "User name :  john\n",
      "Company name :  google\n"
     ]
    }
   ],
   "source": [
    "email = input(\"Enter the email address : \").split('@')\n",
    "company = str(email[1]).split('.')\n",
    "print(\"User name : \",email[0])\n",
    "print(\"Company name : \",company[0])"
   ]
  },
  {
   "cell_type": "markdown",
   "id": "38719e9d",
   "metadata": {},
   "source": [
    "### Question 5: Define a class named Shape and its subclass Square. The Square class has an init function which takes a length as argument. Both classes have a area function which can print the area of the shape where Shape's area is 0 by default."
   ]
  },
  {
   "cell_type": "code",
   "execution_count": 9,
   "id": "96473043",
   "metadata": {},
   "outputs": [
    {
     "name": "stdout",
     "output_type": "stream",
     "text": [
      "Enter length of square : 10\n",
      "100\n"
     ]
    }
   ],
   "source": [
    "class Shape(object):\n",
    "    def __init__(self):\n",
    "        pass\n",
    "\n",
    "    def area(self):\n",
    "        return 0\n",
    "\n",
    "class Square(Shape):\n",
    "    def __init__(self, l):\n",
    "        self.length = l\n",
    "\n",
    "    def area(self):\n",
    "        return self.length*self.length\n",
    "\n",
    "l = int(input(\"Enter length of square : \"))\n",
    "print(Square(l).area())"
   ]
  },
  {
   "cell_type": "code",
   "execution_count": 10,
   "id": "b4b63512",
   "metadata": {},
   "outputs": [
    {
     "data": {
      "text/plain": [
       "0"
      ]
     },
     "execution_count": 10,
     "metadata": {},
     "output_type": "execute_result"
    }
   ],
   "source": [
    "Shape().area()"
   ]
  },
  {
   "cell_type": "code",
   "execution_count": null,
   "id": "cf69c73f",
   "metadata": {},
   "outputs": [],
   "source": []
  }
 ],
 "metadata": {
  "kernelspec": {
   "display_name": "Python 3 (ipykernel)",
   "language": "python",
   "name": "python3"
  },
  "language_info": {
   "codemirror_mode": {
    "name": "ipython",
    "version": 3
   },
   "file_extension": ".py",
   "mimetype": "text/x-python",
   "name": "python",
   "nbconvert_exporter": "python",
   "pygments_lexer": "ipython3",
   "version": "3.9.7"
  }
 },
 "nbformat": 4,
 "nbformat_minor": 5
}
