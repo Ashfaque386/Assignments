{
 "cells": [
  {
   "cell_type": "markdown",
   "id": "a61931e0",
   "metadata": {},
   "source": [
    "### 1.\tWrite a Python program to check if the given number is a Disarium Number?"
   ]
  },
  {
   "cell_type": "markdown",
   "id": "af0271f5",
   "metadata": {},
   "source": [
    "A number is said to be the Disarium number when the sum of its digit raised to the power of their respective positions becomes equal to the number itself.\n",
    "\n",
    "For example, 175 is a Disarium number as follows:\n",
    "\n",
    "1^1+ 7^2 + 5^3 = 1+ 49 + 125 = 175"
   ]
  },
  {
   "cell_type": "code",
   "execution_count": 13,
   "id": "4be63f48",
   "metadata": {},
   "outputs": [
    {
     "name": "stdout",
     "output_type": "stream",
     "text": [
      "Enter number :89\n",
      "89  is Disarium Number\n"
     ]
    }
   ],
   "source": [
    "def is_disarium(num):\n",
    "    temp = 0\n",
    "    for i in range(len(str(num))):\n",
    "        temp += int(str(num)[i]) ** (i + 1)\n",
    "    return temp\n",
    "\n",
    "num = int(input(\"Enter number :\"))\n",
    "\n",
    "Sum = is_disarium(num)\n",
    "if Sum == num:\n",
    "    print(num,\" is Disarium Number\")\n",
    "else:\n",
    "    print(num,\" is not Disarium Number\")"
   ]
  },
  {
   "cell_type": "markdown",
   "id": "d37fc7c0",
   "metadata": {},
   "source": [
    "### 2.\tWrite a Python program to print all disarium numbers between 1 to 100?"
   ]
  },
  {
   "cell_type": "code",
   "execution_count": 17,
   "id": "9b430704",
   "metadata": {},
   "outputs": [
    {
     "name": "stdout",
     "output_type": "stream",
     "text": [
      "1\n",
      "2\n",
      "3\n",
      "4\n",
      "5\n",
      "6\n",
      "7\n",
      "8\n",
      "9\n",
      "89\n"
     ]
    }
   ],
   "source": [
    "def is_disarium(num):\n",
    "    temp = 0\n",
    "    for i in range(len(str(num))):\n",
    "        temp += int(str(num)[i]) ** (i + 1)\n",
    "    return temp\n",
    "\n",
    "for i in range(1,101):\n",
    "    Sum = is_disarium(i)\n",
    "    if Sum == i:\n",
    "        print(i)       "
   ]
  },
  {
   "cell_type": "markdown",
   "id": "206adf81",
   "metadata": {},
   "source": [
    "### 3.\tWrite a Python program to check if the given number is Happy Number?"
   ]
  },
  {
   "cell_type": "markdown",
   "id": "326902c7",
   "metadata": {},
   "source": [
    "Starting with any positive integer, replace the number by the sum of the squares of its digits, and repeat the process until the number equals 1 (where it will stay), or it loops endlessly in a cycle which does not include 1. Those numbers for which this process ends in 1 are happy numbers, while those that do not end in 1 are unhappy numbers."
   ]
  },
  {
   "cell_type": "code",
   "execution_count": 23,
   "id": "49ff713c",
   "metadata": {},
   "outputs": [
    {
     "name": "stdout",
     "output_type": "stream",
     "text": [
      "Enter number : 7\n",
      "Is 7 Happy Number? : True\n"
     ]
    }
   ],
   "source": [
    "def is_happy(n):\n",
    "    s = set()\n",
    "    while n != 1:\n",
    "        n = sum(int(i)**2 for i in str(n))\n",
    "        if n in s:\n",
    "            return False\n",
    "        s.add(n)\n",
    "    return True\n",
    "\n",
    "n = int(input(\"Enter number : \"))\n",
    "print(f\"Is {n} Happy Number? : {is_happy(n)}\")"
   ]
  },
  {
   "cell_type": "markdown",
   "id": "e67ce95d",
   "metadata": {},
   "source": [
    "### 4.\tWrite a Python program to print all happy numbers between 1 and 100?"
   ]
  },
  {
   "cell_type": "code",
   "execution_count": 33,
   "id": "60847cfd",
   "metadata": {},
   "outputs": [
    {
     "name": "stdout",
     "output_type": "stream",
     "text": [
      "1\n",
      "7\n",
      "10\n",
      "13\n",
      "19\n",
      "23\n",
      "28\n",
      "31\n",
      "32\n",
      "44\n",
      "49\n",
      "68\n",
      "70\n",
      "79\n",
      "82\n",
      "86\n",
      "91\n",
      "94\n",
      "97\n",
      "100\n"
     ]
    }
   ],
   "source": [
    "def check_happy_num(my_num):\n",
    "    remaining = sum_val = 0\n",
    "    while(my_num > 0):\n",
    "        remaining = my_num%10\n",
    "        sum_val = sum_val + (remaining*remaining)\n",
    "        my_num = my_num//10\n",
    "    return sum_val\n",
    "\n",
    "for i in range(1, 101):\n",
    "    my_result = i\n",
    "    while(my_result != 1 and my_result != 4):\n",
    "        my_result = check_happy_num(my_result)\n",
    "    if(my_result == 1):\n",
    "        print(i)"
   ]
  },
  {
   "cell_type": "markdown",
   "id": "44143848",
   "metadata": {},
   "source": [
    "### 5.\tWrite a Python program to determine whether the given number is a Harshad Number?"
   ]
  },
  {
   "cell_type": "markdown",
   "id": "80e98177",
   "metadata": {},
   "source": [
    "If a number is divisible by the sum of its digits, then it will be known as a Harshad Number.\n",
    "\n",
    "For example:\n",
    "\n",
    "The number 156 is divisible by the sum (12) of its digits (1, 5, 6 )."
   ]
  },
  {
   "cell_type": "code",
   "execution_count": 31,
   "id": "91f09394",
   "metadata": {},
   "outputs": [
    {
     "name": "stdout",
     "output_type": "stream",
     "text": [
      "Enter number : 11\n",
      "No\n"
     ]
    }
   ],
   "source": [
    "def checkHarshad(n) :\n",
    "    sum = 0\n",
    "    temp = n\n",
    "    while temp > 0 :\n",
    "        sum = sum + temp % 10\n",
    "        temp = temp // 10\n",
    "    return n % sum == 0\n",
    "\n",
    "n = int(input(\"Enter number : \"))\n",
    "if(checkHarshad(n)):\n",
    "    print(\"Yes\")\n",
    "else:\n",
    "    print (\"No\")"
   ]
  },
  {
   "cell_type": "markdown",
   "id": "910ce566",
   "metadata": {},
   "source": [
    "### 6.\tWrite a Python program to print all pronic numbers between 1 and 100?"
   ]
  },
  {
   "cell_type": "markdown",
   "id": "16c2a9cd",
   "metadata": {},
   "source": [
    "The pronic number is a product of two consecutive integers of the form: n(n+1).\n",
    "\n",
    "For example:\n",
    "\n",
    "6 = 2(2+1)= n(n+1),\n",
    "72 =8(8+1) = n(n+1)"
   ]
  },
  {
   "cell_type": "code",
   "execution_count": 32,
   "id": "00360e6e",
   "metadata": {},
   "outputs": [
    {
     "name": "stdout",
     "output_type": "stream",
     "text": [
      "Pronic numbers between 1 and 100: \n",
      "2\n",
      "6\n",
      "12\n",
      "20\n",
      "30\n",
      "42\n",
      "56\n",
      "72\n",
      "90\n"
     ]
    }
   ],
   "source": [
    "def isPronicNumber(num):\n",
    "    flag = False;    \n",
    "    for n in range(1, num+1):\n",
    "        if((n*(n+1)) == num):\n",
    "            flag = True;\n",
    "            break;\n",
    "    return flag;    \n",
    "\n",
    "  \n",
    "print(\"Pronic numbers between 1 and 100: \");    \n",
    "for i in range(1, 101):\n",
    "    if(isPronicNumber(i)):\n",
    "        print(i)"
   ]
  },
  {
   "cell_type": "code",
   "execution_count": null,
   "id": "cb79dad6",
   "metadata": {},
   "outputs": [],
   "source": []
  }
 ],
 "metadata": {
  "kernelspec": {
   "display_name": "Python 3 (ipykernel)",
   "language": "python",
   "name": "python3"
  },
  "language_info": {
   "codemirror_mode": {
    "name": "ipython",
    "version": 3
   },
   "file_extension": ".py",
   "mimetype": "text/x-python",
   "name": "python",
   "nbconvert_exporter": "python",
   "pygments_lexer": "ipython3",
   "version": "3.9.7"
  }
 },
 "nbformat": 4,
 "nbformat_minor": 5
}
