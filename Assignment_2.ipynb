{
 "cells": [
  {
   "cell_type": "markdown",
   "id": "6af5354a",
   "metadata": {},
   "source": [
    "### 1.What are the two values of the Boolean data type? How do you write them?"
   ]
  },
  {
   "cell_type": "markdown",
   "id": "bc98593f",
   "metadata": {},
   "source": [
    "The two values of the Boolean data type are True and False. They can be written as :"
   ]
  },
  {
   "cell_type": "code",
   "execution_count": 1,
   "id": "905be8aa",
   "metadata": {},
   "outputs": [
    {
     "data": {
      "text/plain": [
       "True"
      ]
     },
     "execution_count": 1,
     "metadata": {},
     "output_type": "execute_result"
    }
   ],
   "source": [
    "True"
   ]
  },
  {
   "cell_type": "code",
   "execution_count": 2,
   "id": "16bc7301",
   "metadata": {},
   "outputs": [
    {
     "data": {
      "text/plain": [
       "False"
      ]
     },
     "execution_count": 2,
     "metadata": {},
     "output_type": "execute_result"
    }
   ],
   "source": [
    "False"
   ]
  },
  {
   "cell_type": "markdown",
   "id": "426943ca",
   "metadata": {},
   "source": [
    "### 2. What are the three different types of Boolean operators?"
   ]
  },
  {
   "cell_type": "markdown",
   "id": "2fed6e42",
   "metadata": {},
   "source": [
    "The three different types of Boolean operators are:\n",
    "1. AND : Checks and gives results when both condition are True.\n",
    "2. OR  : It will provide result when either condition is True\n",
    "3. NOT : Eliminates items that contain the specified term."
   ]
  },
  {
   "cell_type": "markdown",
   "id": "13349151",
   "metadata": {},
   "source": [
    "### 3. Make a list of each Boolean operator's truth tables (i.e. every possible combination of Boolean values for the operator and what it evaluate )."
   ]
  },
  {
   "cell_type": "markdown",
   "id": "88d67280",
   "metadata": {},
   "source": [
    "AND Truth table:\n",
    "<table>\n",
    "    <tr>\n",
    "        <th>X</th>\n",
    "        <th>AND</th>\n",
    "        <th>Y</th>\n",
    "        <th>Returns</th>\n",
    "    </tr>\n",
    "    <tr>\n",
    "        <td>True</td>\n",
    "        <td>AND</td>\n",
    "        <td>True</td>\n",
    "        <td>True</td>\n",
    "    </tr>\n",
    "    <tr>\n",
    "        <td>True</td>\n",
    "        <td>AND</td>\n",
    "        <td>False</td>\n",
    "        <td>False</td>\n",
    "    </tr>\n",
    "    <tr>\n",
    "        <td>False</td>\n",
    "        <td>AND</td>\n",
    "        <td>True</td>\n",
    "        <td>False</td>\n",
    "    </tr>\n",
    "    <tr>\n",
    "        <td>False</td>\n",
    "        <td>AND</td>\n",
    "        <td>False</td>\n",
    "        <td>False</td>\n",
    "    </tr>"
   ]
  },
  {
   "cell_type": "markdown",
   "id": "d0c7f415",
   "metadata": {},
   "source": [
    "OR Truth table:\n",
    "<table>\n",
    "    <tr>\n",
    "        <th>X</th>\n",
    "        <th>OR</th>\n",
    "        <th>Y</th>\n",
    "        <th>Returns</th>\n",
    "    </tr>\n",
    "    <tr>\n",
    "        <td>True</td>\n",
    "        <td>OR</td>\n",
    "        <td>True</td>\n",
    "        <td>True</td>\n",
    "    </tr>\n",
    "    <tr>\n",
    "        <td>True</td>\n",
    "        <td>OR</td>\n",
    "        <td>False</td>\n",
    "        <td>True</td>\n",
    "    </tr>\n",
    "    <tr>\n",
    "        <td>False</td>\n",
    "        <td>OR</td>\n",
    "        <td>True</td>\n",
    "        <td>True</td>\n",
    "    </tr>\n",
    "    <tr>\n",
    "        <td>False</td>\n",
    "        <td>OR</td>\n",
    "        <td>False</td>\n",
    "        <td>False</td>\n",
    "    </tr>"
   ]
  },
  {
   "cell_type": "markdown",
   "id": "768b9c5b",
   "metadata": {},
   "source": [
    "NOT Truth table:\n",
    "<table>\n",
    "    <tr>\n",
    "        <th>NOT</th>\n",
    "        <th>X</th>\n",
    "        <th>Returns</th>\n",
    "    </tr>\n",
    "    <tr>\n",
    "        <td>NOT</td>\n",
    "        <td>True</td>\n",
    "        <td>False</td>\n",
    "    </tr>\n",
    "    <tr>\n",
    "        <td>NOT</td>\n",
    "        <td>False</td>\n",
    "        <td>True</td>\n",
    "    </tr>"
   ]
  },
  {
   "cell_type": "markdown",
   "id": "5d887b26",
   "metadata": {},
   "source": [
    "### 4. What are the values of the following expressions?\n",
    "(5 > 4) and (3 == 5)\n",
    "\n",
    "\n",
    "not (5 > 4)\n",
    "\n",
    "\n",
    "(5 > 4) or (3 == 5)\n",
    "\n",
    "\n",
    "not ((5 > 4) or (3 == 5))\n",
    "\n",
    "\n",
    "(True and True) and (True == False)\n",
    "\n",
    "\n",
    "(not False) or (not True)"
   ]
  },
  {
   "cell_type": "code",
   "execution_count": 3,
   "id": "cc6e1f54",
   "metadata": {},
   "outputs": [
    {
     "name": "stdout",
     "output_type": "stream",
     "text": [
      "(5 > 4) and (3 == 5)                :  False\n",
      "not (5 > 4)                         :  False\n",
      "(5 > 4) or (3 == 5)                 :  True\n",
      "not ((5 > 4) or (3 == 5))           :  False\n",
      "(True and True) and (True == False) :  False\n",
      "(not False) or (not True)           :  True\n"
     ]
    }
   ],
   "source": [
    "print('(5 > 4) and (3 == 5)                : ',(5 > 4) and (3 == 5))\n",
    "print('not (5 > 4)                         : ',not (5 > 4))\n",
    "print('(5 > 4) or (3 == 5)                 : ',(5 > 4) or (3 == 5))\n",
    "print('not ((5 > 4) or (3 == 5))           : ',not ((5 > 4) or (3 == 5)))\n",
    "print('(True and True) and (True == False) : ',(True and True) and (True == False))\n",
    "print('(not False) or (not True)           : ',(not False) or (not True))"
   ]
  },
  {
   "cell_type": "markdown",
   "id": "f5f71933",
   "metadata": {},
   "source": [
    "### 5. What are the six comparison operators?"
   ]
  },
  {
   "cell_type": "markdown",
   "id": "f43eac4d",
   "metadata": {},
   "source": [
    "Python has six comparison operators, which are as follows:\n",
    "-  \"<\"  : Less than\n",
    "-  \"<=\" : Less than or equal to\n",
    "-  \">\"  : Greater than\n",
    "-  \">=\"  : Greater than or equal to\n",
    "-  \"==\" : Equal to\n",
    "-  \"!=\" : Not equal to"
   ]
  },
  {
   "cell_type": "markdown",
   "id": "d1b504bc",
   "metadata": {},
   "source": [
    "### 6. How do you tell the difference between the equal to and assignment operators?Describe a condition and when you would use one."
   ]
  },
  {
   "cell_type": "markdown",
   "id": "043ff27b",
   "metadata": {},
   "source": [
    "The \"==\" is an equal to operator. Which checks whether the two given operands are equal or not. If so, it returns true. Otherwise it returns false.</br>\n",
    "    For example:</br>\n",
    "        5==5</br>\n",
    "</br>\n",
    "The \"=\" is an assignment operator. Which is used to assign the value on the right to the variable on the left.</br>\n",
    "    For example:</br>\n",
    "        a = 10</br>\n",
    "        b = 20</br>\n",
    "        c = 'ydtfg'"
   ]
  },
  {
   "cell_type": "markdown",
   "id": "438fccad",
   "metadata": {},
   "source": [
    "### 7. Identify the three blocks in this code:"
   ]
  },
  {
   "cell_type": "markdown",
   "id": "059f2e50",
   "metadata": {},
   "source": [
    "spam = 0\n",
    "if spam == 10:\n",
    "print('eggs')\n",
    "if spam > 5:\n",
    "print('bacon')\n",
    "else:\n",
    "print('ham')\n",
    "print('spam')\n",
    "print('spam')"
   ]
  },
  {
   "cell_type": "code",
   "execution_count": 4,
   "id": "18afaa3a",
   "metadata": {},
   "outputs": [
    {
     "name": "stdout",
     "output_type": "stream",
     "text": [
      "spam\n"
     ]
    }
   ],
   "source": [
    "spam = 0\n",
    "if spam == 10:\n",
    "    print('eggs')        # indent increased, block 1st\n",
    "    if spam > 5:         \n",
    "        print('bacon')   # indent increased, block 2nd inside block 1st\n",
    "    else:                \n",
    "        print('ham')     # increased, block 3rd inside block 1st\n",
    "    print('spam')        \n",
    "print('spam')            "
   ]
  },
  {
   "cell_type": "markdown",
   "id": "53840cd5",
   "metadata": {},
   "source": [
    "### 8. Write code that prints Hello if 1 is stored in spam, prints Howdy if 2 is stored in spam, and prints Greetings! if anything else is stored in spam."
   ]
  },
  {
   "cell_type": "code",
   "execution_count": 5,
   "id": "4539624c",
   "metadata": {},
   "outputs": [
    {
     "name": "stdout",
     "output_type": "stream",
     "text": [
      "Greetings!\n"
     ]
    }
   ],
   "source": [
    "spam = 0\n",
    "if spam == 1:\n",
    "    print(\"Hello\")\n",
    "elif spam == 2:\n",
    "    print(\"howdy\")\n",
    "else:\n",
    "    print(\"Greetings!\")"
   ]
  },
  {
   "cell_type": "markdown",
   "id": "fdc51531",
   "metadata": {},
   "source": [
    "### 9.If your programme is stuck in an endless loop, what keys you’ll press?"
   ]
  },
  {
   "cell_type": "markdown",
   "id": "39d33ddb",
   "metadata": {},
   "source": [
    "To exit out of infinite loops on the command line,will press CTRL + C \n",
    "and in jupyter notebook will click on intrupt the kernel button."
   ]
  },
  {
   "cell_type": "markdown",
   "id": "937d897d",
   "metadata": {},
   "source": [
    "### 10. How can you tell the difference between break and continue?"
   ]
  },
  {
   "cell_type": "markdown",
   "id": "5331b684",
   "metadata": {},
   "source": [
    "The main difference between **break** and **continue** statements is when **break** keyword comes, it terminates the execution of the current loop and passes the control over the next loop or main body, whereas when **continue** keyword is encountered, it skips the current iteration and executes the very next iteration in the loop."
   ]
  },
  {
   "cell_type": "markdown",
   "id": "75f685e7",
   "metadata": {},
   "source": [
    "### 11. In a for loop, what is the difference between range(10), range(0, 10), and range(0, 10, 1)?"
   ]
  },
  {
   "cell_type": "markdown",
   "id": "0bdee5c5",
   "metadata": {},
   "source": [
    "In a for Loop there is no difference between range(10), range(0, 10), and range(0, 10, 1) as all these will give same out starting from 0 till 9."
   ]
  },
  {
   "cell_type": "markdown",
   "id": "6b72c063",
   "metadata": {},
   "source": [
    "### 12. Write a short program that prints the numbers 1 to 10 using a for loop. Then write an equivalent program that prints the numbers 1 to 10 using a while loop."
   ]
  },
  {
   "cell_type": "code",
   "execution_count": 6,
   "id": "63f55dd6",
   "metadata": {},
   "outputs": [
    {
     "name": "stdout",
     "output_type": "stream",
     "text": [
      "1\n",
      "2\n",
      "3\n",
      "4\n",
      "5\n",
      "6\n",
      "7\n",
      "8\n",
      "9\n",
      "10\n"
     ]
    }
   ],
   "source": [
    "for i in range(1,11):\n",
    "    print(i)"
   ]
  },
  {
   "cell_type": "code",
   "execution_count": 7,
   "id": "6c72bade",
   "metadata": {},
   "outputs": [
    {
     "name": "stdout",
     "output_type": "stream",
     "text": [
      "1\n",
      "2\n",
      "3\n",
      "4\n",
      "5\n",
      "6\n",
      "7\n",
      "8\n",
      "9\n",
      "10\n"
     ]
    }
   ],
   "source": [
    "a = 1\n",
    "while a <= 10:\n",
    "    print(a)\n",
    "    a = a + 1"
   ]
  },
  {
   "cell_type": "markdown",
   "id": "0f25a65f",
   "metadata": {},
   "source": [
    "### 13. If you had a function named bacon() inside a module named spam, how would you call it after importing spam?"
   ]
  },
  {
   "cell_type": "markdown",
   "id": "0f908ecd",
   "metadata": {},
   "source": [
    "spam.bacon()"
   ]
  }
 ],
 "metadata": {
  "kernelspec": {
   "display_name": "Python 3 (ipykernel)",
   "language": "python",
   "name": "python3"
  },
  "language_info": {
   "codemirror_mode": {
    "name": "ipython",
    "version": 3
   },
   "file_extension": ".py",
   "mimetype": "text/x-python",
   "name": "python",
   "nbconvert_exporter": "python",
   "pygments_lexer": "ipython3",
   "version": "3.9.7"
  }
 },
 "nbformat": 4,
 "nbformat_minor": 5
}
