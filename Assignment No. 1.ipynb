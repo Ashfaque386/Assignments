{
 "cells": [
  {
   "cell_type": "markdown",
   "id": "ead33e87",
   "metadata": {},
   "source": [
    "### 1. Find out all the types of error that we have encountered in our lecture and why? Also include the examples."
   ]
  },
  {
   "cell_type": "code",
   "execution_count": 1,
   "id": "b4dea33d",
   "metadata": {},
   "outputs": [
    {
     "ename": "NameError",
     "evalue": "name 'Print' is not defined",
     "output_type": "error",
     "traceback": [
      "\u001b[1;31m---------------------------------------------------------------------------\u001b[0m",
      "\u001b[1;31mNameError\u001b[0m                                 Traceback (most recent call last)",
      "\u001b[1;32m~\\AppData\\Local\\Temp\\ipykernel_28184\\1317454665.py\u001b[0m in \u001b[0;36m<module>\u001b[1;34m\u001b[0m\n\u001b[0;32m      1\u001b[0m \u001b[1;31m#1. NameError: Used capital 'P' in print\u001b[0m\u001b[1;33m\u001b[0m\u001b[1;33m\u001b[0m\u001b[0m\n\u001b[1;32m----> 2\u001b[1;33m \u001b[0mPrint\u001b[0m\u001b[1;33m(\u001b[0m\u001b[1;34m\"Good Night\"\u001b[0m\u001b[1;33m)\u001b[0m\u001b[1;33m\u001b[0m\u001b[1;33m\u001b[0m\u001b[0m\n\u001b[0m",
      "\u001b[1;31mNameError\u001b[0m: name 'Print' is not defined"
     ]
    }
   ],
   "source": [
    "#1. NameError: Used capital 'P' in print\n",
    "Print(\"Good Night\")"
   ]
  },
  {
   "cell_type": "code",
   "execution_count": null,
   "id": "c681f021",
   "metadata": {},
   "outputs": [],
   "source": [
    "#2. SyntaxError : used operator in variable name\n",
    "ten%number = 10"
   ]
  },
  {
   "cell_type": "code",
   "execution_count": 2,
   "id": "ae345be3",
   "metadata": {},
   "outputs": [
    {
     "ename": "TypeError",
     "evalue": "can only concatenate str (not \"int\") to str",
     "output_type": "error",
     "traceback": [
      "\u001b[1;31m---------------------------------------------------------------------------\u001b[0m",
      "\u001b[1;31mTypeError\u001b[0m                                 Traceback (most recent call last)",
      "\u001b[1;32m~\\AppData\\Local\\Temp\\ipykernel_28184\\672847949.py\u001b[0m in \u001b[0;36m<module>\u001b[1;34m\u001b[0m\n\u001b[0;32m      1\u001b[0m \u001b[1;31m#3. TypeError : concatinating integer to string\u001b[0m\u001b[1;33m\u001b[0m\u001b[1;33m\u001b[0m\u001b[0m\n\u001b[1;32m----> 2\u001b[1;33m \u001b[1;34m\"Day \"\u001b[0m \u001b[1;33m+\u001b[0m \u001b[1;36m1\u001b[0m\u001b[1;33m\u001b[0m\u001b[1;33m\u001b[0m\u001b[0m\n\u001b[0m",
      "\u001b[1;31mTypeError\u001b[0m: can only concatenate str (not \"int\") to str"
     ]
    }
   ],
   "source": [
    "#3. TypeError : concatinating integer to string\n",
    "\"Day \" + 1"
   ]
  },
  {
   "cell_type": "code",
   "execution_count": 3,
   "id": "8f202ced",
   "metadata": {},
   "outputs": [
    {
     "name": "stdout",
     "output_type": "stream",
     "text": [
      "Enter value of A: 45\n",
      "Enter value of B: 12.5\n"
     ]
    },
    {
     "ename": "ValueError",
     "evalue": "invalid literal for int() with base 10: '12.5'",
     "output_type": "error",
     "traceback": [
      "\u001b[1;31m---------------------------------------------------------------------------\u001b[0m",
      "\u001b[1;31mValueError\u001b[0m                                Traceback (most recent call last)",
      "\u001b[1;32m~\\AppData\\Local\\Temp\\ipykernel_28184\\3662427078.py\u001b[0m in \u001b[0;36m<module>\u001b[1;34m\u001b[0m\n\u001b[0;32m      1\u001b[0m \u001b[1;31m#4. ValueError : provided float value for int\u001b[0m\u001b[1;33m\u001b[0m\u001b[1;33m\u001b[0m\u001b[0m\n\u001b[0;32m      2\u001b[0m \u001b[0mA\u001b[0m \u001b[1;33m=\u001b[0m \u001b[0mfloat\u001b[0m\u001b[1;33m(\u001b[0m\u001b[0minput\u001b[0m\u001b[1;33m(\u001b[0m\u001b[1;34m\"Enter value of A: \"\u001b[0m\u001b[1;33m)\u001b[0m\u001b[1;33m)\u001b[0m\u001b[1;33m\u001b[0m\u001b[1;33m\u001b[0m\u001b[0m\n\u001b[1;32m----> 3\u001b[1;33m \u001b[0mB\u001b[0m \u001b[1;33m=\u001b[0m \u001b[0mint\u001b[0m\u001b[1;33m(\u001b[0m\u001b[0minput\u001b[0m\u001b[1;33m(\u001b[0m\u001b[1;34m\"Enter value of B: \"\u001b[0m\u001b[1;33m)\u001b[0m\u001b[1;33m)\u001b[0m\u001b[1;33m\u001b[0m\u001b[1;33m\u001b[0m\u001b[0m\n\u001b[0m\u001b[0;32m      4\u001b[0m \u001b[1;33m\u001b[0m\u001b[0m\n\u001b[0;32m      5\u001b[0m \u001b[0mprint\u001b[0m\u001b[1;33m(\u001b[0m\u001b[1;34mf\"Sum of A and B is: {A+B}\"\u001b[0m\u001b[1;33m)\u001b[0m\u001b[1;33m\u001b[0m\u001b[1;33m\u001b[0m\u001b[0m\n",
      "\u001b[1;31mValueError\u001b[0m: invalid literal for int() with base 10: '12.5'"
     ]
    }
   ],
   "source": [
    "#4. ValueError : provided float value for int \n",
    "A = float(input(\"Enter value of A: \"))\n",
    "B = int(input(\"Enter value of B: \")) \n",
    "\n",
    "print(f\"Sum of A and B is: {A+B}\")"
   ]
  },
  {
   "cell_type": "markdown",
   "id": "1a7ecde3",
   "metadata": {},
   "source": [
    "### 2. Take input A and B and print their sum, mul, div, square of the nos."
   ]
  },
  {
   "cell_type": "code",
   "execution_count": 4,
   "id": "668c5198",
   "metadata": {},
   "outputs": [
    {
     "name": "stdout",
     "output_type": "stream",
     "text": [
      "19\n",
      "8\n",
      "Sum : 27\n",
      "Multiplication : 152\n",
      "Divide : 2.375\n",
      "Square : 16983563041\n"
     ]
    }
   ],
   "source": [
    "A = int(input())\n",
    "B = int(input())\n",
    "\n",
    "print(f\"Sum : {A + B}\")\n",
    "print(f\"Multiplication : {A * B}\")\n",
    "print(f\"Divide : {A / B}\")\n",
    "print(f\"Square : {A ** B}\")"
   ]
  },
  {
   "cell_type": "markdown",
   "id": "5acae2e7",
   "metadata": {},
   "source": [
    "### 3. How many reserve keywords are there in python and why we should not use them as a variable name."
   ]
  },
  {
   "cell_type": "raw",
   "id": "7e437a1e",
   "metadata": {},
   "source": [
    "There are 33 reserved keywords in Python. This means no object can have the same name as one of these keywords because they have predefined meanings."
   ]
  },
  {
   "cell_type": "markdown",
   "id": "b9e8c086",
   "metadata": {},
   "source": [
    "### 4. Create email ids with the user inputs. in the following format - lastname.firstname@gmail.com"
   ]
  },
  {
   "cell_type": "code",
   "execution_count": 5,
   "id": "d67b14df",
   "metadata": {},
   "outputs": [
    {
     "name": "stdout",
     "output_type": "stream",
     "text": [
      "Enter first name : ashfaque\n",
      "Enter last name : ahmad\n",
      "ahmad.ashfaque@gmail.com\n"
     ]
    }
   ],
   "source": [
    "first_name = input(\"Enter first name : \")\n",
    "last_name = input(\"Enter last name : \")\n",
    "\n",
    "print(f\"{last_name}.{first_name}@gmail.com\")"
   ]
  },
  {
   "cell_type": "markdown",
   "id": "7ff62346",
   "metadata": {},
   "source": [
    "### 5. Try to print the following lines -\n",
    "- Hi I'm Sunny\n",
    "- My address is 22\\3\n",
    "- I earn 20$ daily."
   ]
  },
  {
   "cell_type": "code",
   "execution_count": 6,
   "id": "1b35a597",
   "metadata": {},
   "outputs": [
    {
     "name": "stdout",
     "output_type": "stream",
     "text": [
      "Hi I'm Sunny\n"
     ]
    }
   ],
   "source": [
    "print(\"Hi I'm Sunny\")"
   ]
  },
  {
   "cell_type": "code",
   "execution_count": 7,
   "id": "b5e10330",
   "metadata": {},
   "outputs": [
    {
     "name": "stdout",
     "output_type": "stream",
     "text": [
      "My address is 22 \\ 3\n"
     ]
    }
   ],
   "source": [
    "print('My address is 22 \\ 3')"
   ]
  },
  {
   "cell_type": "code",
   "execution_count": 8,
   "id": "2e0e6731",
   "metadata": {},
   "outputs": [
    {
     "name": "stdout",
     "output_type": "stream",
     "text": [
      "I earn 20$ daily.\n"
     ]
    }
   ],
   "source": [
    "print(\"I earn 20$ daily.\")"
   ]
  },
  {
   "cell_type": "markdown",
   "id": "9b47635a",
   "metadata": {},
   "source": [
    "### 6. Take user input (name, address, date of birth etc) to fill a form for your college and print their email IDs"
   ]
  },
  {
   "cell_type": "code",
   "execution_count": 9,
   "id": "70f3b003",
   "metadata": {},
   "outputs": [
    {
     "name": "stdout",
     "output_type": "stream",
     "text": [
      "Enter name : ashfaque\n",
      "Enter address : mbfmb,vokbp,v knge\n",
      "Enter Date of birth : 07/09/98\n",
      "Enter Email Id : nbrijo@fguc.ji\n",
      "nbrijo@fguc.ji\n"
     ]
    }
   ],
   "source": [
    "name = input('Enter name : ')\n",
    "address = input(\"Enter address : \")\n",
    "dob = input(\"Enter Date of birth : \")\n",
    "email = input(\"Enter Email Id : \")\n",
    "print(email)"
   ]
  },
  {
   "cell_type": "markdown",
   "id": "e565150f",
   "metadata": {},
   "source": [
    "### 7. Convert the following -\n",
    "- \"22.4\" into integer\n",
    "- \"22\" into complex no."
   ]
  },
  {
   "cell_type": "code",
   "execution_count": 13,
   "id": "c227a9f9",
   "metadata": {},
   "outputs": [
    {
     "data": {
      "text/plain": [
       "22"
      ]
     },
     "execution_count": 13,
     "metadata": {},
     "output_type": "execute_result"
    }
   ],
   "source": [
    "int(float(\"22.4\"))"
   ]
  },
  {
   "cell_type": "code",
   "execution_count": 11,
   "id": "9648dcac",
   "metadata": {},
   "outputs": [
    {
     "data": {
      "text/plain": [
       "(22+0j)"
      ]
     },
     "execution_count": 11,
     "metadata": {},
     "output_type": "execute_result"
    }
   ],
   "source": [
    "complex(\"22\")"
   ]
  },
  {
   "cell_type": "code",
   "execution_count": null,
   "id": "e0838ee7",
   "metadata": {},
   "outputs": [],
   "source": []
  }
 ],
 "metadata": {
  "kernelspec": {
   "display_name": "Python 3 (ipykernel)",
   "language": "python",
   "name": "python3"
  },
  "language_info": {
   "codemirror_mode": {
    "name": "ipython",
    "version": 3
   },
   "file_extension": ".py",
   "mimetype": "text/x-python",
   "name": "python",
   "nbconvert_exporter": "python",
   "pygments_lexer": "ipython3",
   "version": "3.9.7"
  }
 },
 "nbformat": 4,
 "nbformat_minor": 5
}
