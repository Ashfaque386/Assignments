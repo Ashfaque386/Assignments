{
 "cells": [
  {
   "cell_type": "markdown",
   "id": "d7c39caa",
   "metadata": {},
   "source": [
    "### Question1: Create a function that takes a list of strings and integers, and filters out the list so that it returns a list of integers only.\n",
    "    Examples\n",
    "    filter_list([1, 2, 3, \"a\", \"b\", 4]) ➞ [1, 2, 3, 4]\n",
    "\n",
    "    filter_list([\"A\", 0, \"Edabit\", 1729, \"Python\", \"1729\"]) ➞ [0, 1729]\n",
    "\n",
    "    filter_list([\"Nothing\", \"here\"]) ➞ []"
   ]
  },
  {
   "cell_type": "code",
   "execution_count": 1,
   "id": "d06c0375",
   "metadata": {},
   "outputs": [],
   "source": [
    "def filter_list(l):\n",
    "    int_l = []\n",
    "    for i in l:\n",
    "        if type(i)==int:\n",
    "            int_l.append(i)\n",
    "    return int_l"
   ]
  },
  {
   "cell_type": "code",
   "execution_count": 2,
   "id": "156fec0f",
   "metadata": {},
   "outputs": [
    {
     "data": {
      "text/plain": [
       "[1, 2, 3, 4]"
      ]
     },
     "execution_count": 2,
     "metadata": {},
     "output_type": "execute_result"
    }
   ],
   "source": [
    "filter_list([1, 2, 3, \"a\", \"b\", 4])"
   ]
  },
  {
   "cell_type": "code",
   "execution_count": 3,
   "id": "f5a86508",
   "metadata": {},
   "outputs": [
    {
     "data": {
      "text/plain": [
       "[0, 1729]"
      ]
     },
     "execution_count": 3,
     "metadata": {},
     "output_type": "execute_result"
    }
   ],
   "source": [
    "filter_list([\"A\", 0, \"Edabit\", 1729, \"Python\", \"1729\"])"
   ]
  },
  {
   "cell_type": "code",
   "execution_count": 4,
   "id": "89f94c3d",
   "metadata": {},
   "outputs": [
    {
     "data": {
      "text/plain": [
       "[]"
      ]
     },
     "execution_count": 4,
     "metadata": {},
     "output_type": "execute_result"
    }
   ],
   "source": [
    "filter_list([\"Nothing\", \"here\"])"
   ]
  },
  {
   "cell_type": "markdown",
   "id": "7eb622be",
   "metadata": {},
   "source": [
    "### Question2: Given a list of numbers, create a function which returns the list but with each element's index in the list added to itself. This means you add 0 to the number at index 0, add 1 to the number at index 1, etc...\n",
    "    Examples\n",
    "    add_indexes([0, 0, 0, 0, 0]) ➞ [0, 1, 2, 3, 4]\n",
    "\n",
    "    add_indexes([1, 2, 3, 4, 5]) ➞ [1, 3, 5, 7, 9]\n",
    "\n",
    "    add_indexes([5, 4, 3, 2, 1]) ➞ [5, 5, 5, 5, 5]"
   ]
  },
  {
   "cell_type": "code",
   "execution_count": 20,
   "id": "0ccf0e3b",
   "metadata": {},
   "outputs": [],
   "source": [
    "def add_indexes(l):\n",
    "    Index = 0\n",
    "    l1 = []\n",
    "    for i in l:\n",
    "        l1.append(l.index(i,Index)+i)\n",
    "        Index += 1\n",
    "    return l1"
   ]
  },
  {
   "cell_type": "code",
   "execution_count": 21,
   "id": "e329ee84",
   "metadata": {},
   "outputs": [
    {
     "data": {
      "text/plain": [
       "[0, 1, 2, 3, 4]"
      ]
     },
     "execution_count": 21,
     "metadata": {},
     "output_type": "execute_result"
    }
   ],
   "source": [
    "add_indexes([0, 0, 0, 0, 0])"
   ]
  },
  {
   "cell_type": "code",
   "execution_count": 22,
   "id": "c834b3fc",
   "metadata": {},
   "outputs": [
    {
     "data": {
      "text/plain": [
       "[1, 3, 5, 7, 9]"
      ]
     },
     "execution_count": 22,
     "metadata": {},
     "output_type": "execute_result"
    }
   ],
   "source": [
    "add_indexes([1, 2, 3, 4, 5])"
   ]
  },
  {
   "cell_type": "code",
   "execution_count": 23,
   "id": "2642a14b",
   "metadata": {},
   "outputs": [
    {
     "data": {
      "text/plain": [
       "[5, 5, 5, 5, 5]"
      ]
     },
     "execution_count": 23,
     "metadata": {},
     "output_type": "execute_result"
    }
   ],
   "source": [
    "add_indexes([5, 4, 3, 2, 1])"
   ]
  },
  {
   "cell_type": "markdown",
   "id": "cb908c60",
   "metadata": {},
   "source": [
    "### Question3: Create a function that takes the height and radius of a cone as arguments and returns the volume of the cone rounded to the nearest hundredth. See the resources tab for the formula.\n",
    " \n",
    "    Examples\n",
    "    cone_volume(3, 2) ➞ 12.57\n",
    "\n",
    "    cone_volume(15, 6) ➞ 565.49\n",
    "\n",
    "    cone_volume(18, 0) ➞ 0"
   ]
  },
  {
   "cell_type": "code",
   "execution_count": 35,
   "id": "e75be458",
   "metadata": {},
   "outputs": [],
   "source": [
    "def cone_volume(h,r):\n",
    "    pi = 3.14159\n",
    "    return round((1/3) * pi * r*r * h, 2)"
   ]
  },
  {
   "cell_type": "code",
   "execution_count": 36,
   "id": "df563848",
   "metadata": {},
   "outputs": [
    {
     "data": {
      "text/plain": [
       "12.57"
      ]
     },
     "execution_count": 36,
     "metadata": {},
     "output_type": "execute_result"
    }
   ],
   "source": [
    "cone_volume(3, 2)"
   ]
  },
  {
   "cell_type": "code",
   "execution_count": 37,
   "id": "d3b624fc",
   "metadata": {},
   "outputs": [
    {
     "data": {
      "text/plain": [
       "565.49"
      ]
     },
     "execution_count": 37,
     "metadata": {},
     "output_type": "execute_result"
    }
   ],
   "source": [
    "cone_volume(15, 6)"
   ]
  },
  {
   "cell_type": "code",
   "execution_count": 38,
   "id": "73119221",
   "metadata": {},
   "outputs": [
    {
     "data": {
      "text/plain": [
       "0.0"
      ]
     },
     "execution_count": 38,
     "metadata": {},
     "output_type": "execute_result"
    }
   ],
   "source": [
    "cone_volume(18, 0)"
   ]
  },
  {
   "cell_type": "markdown",
   "id": "1fd051a5",
   "metadata": {},
   "source": [
    "### Question4: This Triangular Number Sequence is generated from a pattern of dots that form a triangle. The first 5 numbers of the sequence, or dots, are: \n",
    "### 1, 3, 6, 10, 15\n",
    "### This means that the first triangle has just one dot, the second one has three dots, the third one has 6 dots and so on. Write a function that gives the number of dots with its corresponding triangle number of the sequence.\n",
    "    Examples\n",
    "    triangle(1) ➞ 1\n",
    "\n",
    "    triangle(6) ➞ 21\n",
    "\n",
    "    triangle(215) ➞ 23220"
   ]
  },
  {
   "cell_type": "code",
   "execution_count": 70,
   "id": "ba6f2193",
   "metadata": {},
   "outputs": [],
   "source": [
    "def triangle(n):\n",
    "    return round(n*(n+1)*0.5)"
   ]
  },
  {
   "cell_type": "code",
   "execution_count": 71,
   "id": "ad8ad936",
   "metadata": {},
   "outputs": [
    {
     "data": {
      "text/plain": [
       "1"
      ]
     },
     "execution_count": 71,
     "metadata": {},
     "output_type": "execute_result"
    }
   ],
   "source": [
    "triangle(1)"
   ]
  },
  {
   "cell_type": "code",
   "execution_count": 72,
   "id": "c5d459bb",
   "metadata": {},
   "outputs": [
    {
     "data": {
      "text/plain": [
       "21"
      ]
     },
     "execution_count": 72,
     "metadata": {},
     "output_type": "execute_result"
    }
   ],
   "source": [
    "triangle(6)"
   ]
  },
  {
   "cell_type": "code",
   "execution_count": 73,
   "id": "837bbd7a",
   "metadata": {},
   "outputs": [
    {
     "data": {
      "text/plain": [
       "23220"
      ]
     },
     "execution_count": 73,
     "metadata": {},
     "output_type": "execute_result"
    }
   ],
   "source": [
    "triangle(215)"
   ]
  },
  {
   "cell_type": "markdown",
   "id": "65e04a22",
   "metadata": {},
   "source": [
    "### Question5: Create a function that takes a list of numbers between 1 and 10 (excluding one number) and returns the missing number.\n",
    "    Examples\n",
    "    missing_num([1, 2, 3, 4, 6, 7, 8, 9, 10]) ➞ 5\n",
    "\n",
    "    missing_num([7, 2, 3, 6, 5, 9, 1, 4, 8]) ➞ 10\n",
    "\n",
    "    missing_num([10, 5, 1, 2, 4, 6, 8, 3, 9]) ➞ 7"
   ]
  },
  {
   "cell_type": "code",
   "execution_count": 76,
   "id": "e89a8e71",
   "metadata": {},
   "outputs": [],
   "source": [
    "def missing_num(l):\n",
    "    total = sum([x for x in range(11)])\n",
    "    sum_of_list = sum(l)\n",
    "    return total - sum_of_list"
   ]
  },
  {
   "cell_type": "code",
   "execution_count": 77,
   "id": "15990151",
   "metadata": {},
   "outputs": [
    {
     "data": {
      "text/plain": [
       "5"
      ]
     },
     "execution_count": 77,
     "metadata": {},
     "output_type": "execute_result"
    }
   ],
   "source": [
    "missing_num([1, 2, 3, 4, 6, 7, 8, 9, 10])"
   ]
  },
  {
   "cell_type": "code",
   "execution_count": 78,
   "id": "23c991d2",
   "metadata": {},
   "outputs": [
    {
     "data": {
      "text/plain": [
       "10"
      ]
     },
     "execution_count": 78,
     "metadata": {},
     "output_type": "execute_result"
    }
   ],
   "source": [
    "missing_num([7, 2, 3, 6, 5, 9, 1, 4, 8])"
   ]
  },
  {
   "cell_type": "code",
   "execution_count": 79,
   "id": "05203450",
   "metadata": {},
   "outputs": [
    {
     "data": {
      "text/plain": [
       "7"
      ]
     },
     "execution_count": 79,
     "metadata": {},
     "output_type": "execute_result"
    }
   ],
   "source": [
    "missing_num([10, 5, 1, 2, 4, 6, 8, 3, 9])"
   ]
  },
  {
   "cell_type": "code",
   "execution_count": null,
   "id": "0e2bb67a",
   "metadata": {},
   "outputs": [],
   "source": []
  }
 ],
 "metadata": {
  "kernelspec": {
   "display_name": "Python 3 (ipykernel)",
   "language": "python",
   "name": "python3"
  },
  "language_info": {
   "codemirror_mode": {
    "name": "ipython",
    "version": 3
   },
   "file_extension": ".py",
   "mimetype": "text/x-python",
   "name": "python",
   "nbconvert_exporter": "python",
   "pygments_lexer": "ipython3",
   "version": "3.9.7"
  }
 },
 "nbformat": 4,
 "nbformat_minor": 5
}
