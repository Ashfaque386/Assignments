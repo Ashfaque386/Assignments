{
 "cells": [
  {
   "cell_type": "markdown",
   "id": "2fc0ee8b",
   "metadata": {},
   "source": [
    "### 1.\tWrite a Python Program to find sum of array?"
   ]
  },
  {
   "cell_type": "code",
   "execution_count": 10,
   "id": "28b24a77",
   "metadata": {},
   "outputs": [],
   "source": [
    "def array_sum(n):\n",
    "    if type(n)==list:\n",
    "        summ = 0\n",
    "        for i in range(0,len(n)):\n",
    "            summ = summ + n[i]     \n",
    "        print(\"Sum of array is \", summ)\n",
    "    else:\n",
    "        print(\"Not a list Input\")"
   ]
  },
  {
   "cell_type": "code",
   "execution_count": 12,
   "id": "0fdb4e88",
   "metadata": {},
   "outputs": [
    {
     "name": "stdout",
     "output_type": "stream",
     "text": [
      "Sum of array is  13.559999999999999\n"
     ]
    }
   ],
   "source": [
    "array_sum([1,3,4,5.56])"
   ]
  },
  {
   "cell_type": "markdown",
   "id": "17e08a26",
   "metadata": {},
   "source": [
    "### 2.\tWrite a Python Program to find largest element in an array?"
   ]
  },
  {
   "cell_type": "code",
   "execution_count": 25,
   "id": "f0a1fb41",
   "metadata": {},
   "outputs": [],
   "source": [
    "def largest(arr):\n",
    "    max = arr[0]\n",
    "    for i in range(1,len(arr)):\n",
    "        if arr[i] > max:\n",
    "            max = arr[i]\n",
    "    return max"
   ]
  },
  {
   "cell_type": "code",
   "execution_count": 26,
   "id": "c9e91a9f",
   "metadata": {},
   "outputs": [
    {
     "data": {
      "text/plain": [
       "9808"
      ]
     },
     "execution_count": 26,
     "metadata": {},
     "output_type": "execute_result"
    }
   ],
   "source": [
    "largest([10, 324,45, 90, 9808,253])"
   ]
  },
  {
   "cell_type": "markdown",
   "id": "b3752afb",
   "metadata": {},
   "source": [
    "### 3.\tWrite a Python Program for array rotation?"
   ]
  },
  {
   "cell_type": "code",
   "execution_count": 32,
   "id": "8f3a8df0",
   "metadata": {},
   "outputs": [
    {
     "name": "stdout",
     "output_type": "stream",
     "text": [
      "Array after rotation is: \n"
     ]
    },
    {
     "data": {
      "text/plain": [
       "[2, 3, 4, 5, 6, 7, 1]"
      ]
     },
     "execution_count": 32,
     "metadata": {},
     "output_type": "execute_result"
    }
   ],
   "source": [
    "def rotatearray(a,d):\n",
    "    temp = []\n",
    "    for i in range(d,len(a)):\n",
    "        temp.append(a[i])\n",
    "    i = 0   \n",
    "    for i in range(0,d):\n",
    "        temp.append(a[i])\n",
    "    return temp\n",
    "\n",
    "print(\"Array after rotation is: \")\n",
    "rotatearray([1, 2, 3, 4, 5, 6, 7], 1)"
   ]
  },
  {
   "cell_type": "code",
   "execution_count": 34,
   "id": "13bd7e7b",
   "metadata": {},
   "outputs": [
    {
     "name": "stdout",
     "output_type": "stream",
     "text": [
      "Enter the lenth of arr : 7\n",
      "Enter array element: 1\n",
      "Enter array element: 2\n",
      "Enter array element: 3\n",
      "Enter array element: 4\n",
      "Enter array element: 5\n",
      "Enter array element: 6\n",
      "Enter array element: 7\n",
      "Arr is  [1, 2, 3, 4, 5, 6, 7]\n",
      "Enter Rotation Right/Left : right\n",
      "Enter the number of elements to rotate  : 1\n",
      "After right rotation :  [7, 1, 2, 3, 4, 5, 6]\n"
     ]
    }
   ],
   "source": [
    "l = int(input(\"Enter the lenth of arr : \"))\n",
    "arr = []\n",
    "for i in range(l):\n",
    "    arr.append(int(input(\"Enter array element: \")))\n",
    "print(\"Arr is \",arr)\n",
    "\n",
    "rotation = input(\"Enter Rotation Right/Left : \")\n",
    "d = int(input(\"Enter the number of elements to rotate  : \"))\n",
    "if d > l:\n",
    "    print(\"can not rotate as elements to rotate is larger then arr length\")\n",
    "else:\n",
    "    temp = []\n",
    "    if rotation.upper() == \"RIGHT\":\n",
    "        temp[:] = arr[-d:] + arr[:(l-d)]\n",
    "        print(\"After right rotation : \",temp)\n",
    "    elif rotation.upper() == \"LEFT\":\n",
    "        temp[:] = arr[d:l] + arr[:d] \n",
    "        print(\"After Left rotation : \",temp)\n",
    "    else:\n",
    "        print(\"Wrong Entry\")"
   ]
  },
  {
   "cell_type": "markdown",
   "id": "818a2b01",
   "metadata": {},
   "source": [
    "### 4.\tWrite a Python Program to Split the array and add the first part to the end?"
   ]
  },
  {
   "cell_type": "code",
   "execution_count": 38,
   "id": "f538ab31",
   "metadata": {},
   "outputs": [],
   "source": [
    "def sparr(arr,d):\n",
    "    if d > len(arr):\n",
    "        print(\"can not split as elements to split is larger then list lengh\")\n",
    "    else:\n",
    "        print(\"The split list is :\",arr[:d])\n",
    "        temp[:] = arr[d:l] + arr[:d]\n",
    "        print(\"The List after split and add :\", temp)"
   ]
  },
  {
   "cell_type": "code",
   "execution_count": 36,
   "id": "66b29a8b",
   "metadata": {},
   "outputs": [
    {
     "name": "stdout",
     "output_type": "stream",
     "text": [
      "The split list is : [12, 10]\n",
      "The List after split and add : [5, 6, 52, 36, 12, 10]\n"
     ]
    }
   ],
   "source": [
    "sparr([12, 10, 5, 6, 52, 36],2)"
   ]
  },
  {
   "cell_type": "markdown",
   "id": "7b9c5407",
   "metadata": {},
   "source": [
    "### 5.\tWrite a Python Program to check if given array is Monotonic?"
   ]
  },
  {
   "cell_type": "code",
   "execution_count": 50,
   "id": "a5a8df88",
   "metadata": {},
   "outputs": [],
   "source": [
    "\"\"\"\n",
    "Monotonic array:-\n",
    "    An array is monotonic if it is either monotone increasing or monotone decreasing\n",
    "    An array A is monotone increasing if for all i <= j, A[i] <=A[j]\n",
    "    An array A is monotone decreasing if for all i <= j, A[i] >=A[j]\n",
    "    Return True if and only if the given array A is monotonic\n",
    "\"\"\"\n",
    "def ismonotonic(arr):\n",
    "    decreasing = False\n",
    "    if arr[0] > arr[1]:\n",
    "        decreasing = True\n",
    "    for i in range(len(arr)-1):\n",
    "        if arr[i]<=arr[i+1] and decreasing or arr[i]>=arr[i+1] and not decreasing:\n",
    "            return False\n",
    "    return True"
   ]
  },
  {
   "cell_type": "code",
   "execution_count": 51,
   "id": "591c0954",
   "metadata": {},
   "outputs": [
    {
     "data": {
      "text/plain": [
       "True"
      ]
     },
     "execution_count": 51,
     "metadata": {},
     "output_type": "execute_result"
    }
   ],
   "source": [
    "ismonotonic([1,2,3,6])"
   ]
  },
  {
   "cell_type": "code",
   "execution_count": 52,
   "id": "dfeaa29e",
   "metadata": {},
   "outputs": [
    {
     "data": {
      "text/plain": [
       "False"
      ]
     },
     "execution_count": 52,
     "metadata": {},
     "output_type": "execute_result"
    }
   ],
   "source": [
    "ismonotonic([1,2,3,4,8,6])"
   ]
  },
  {
   "cell_type": "code",
   "execution_count": null,
   "id": "9bc3c3a9",
   "metadata": {},
   "outputs": [],
   "source": []
  }
 ],
 "metadata": {
  "kernelspec": {
   "display_name": "Python 3 (ipykernel)",
   "language": "python",
   "name": "python3"
  },
  "language_info": {
   "codemirror_mode": {
    "name": "ipython",
    "version": 3
   },
   "file_extension": ".py",
   "mimetype": "text/x-python",
   "name": "python",
   "nbconvert_exporter": "python",
   "pygments_lexer": "ipython3",
   "version": "3.9.7"
  }
 },
 "nbformat": 4,
 "nbformat_minor": 5
}
