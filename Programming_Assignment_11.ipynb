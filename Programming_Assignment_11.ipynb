{
 "cells": [
  {
   "cell_type": "markdown",
   "id": "63f7eb21",
   "metadata": {},
   "source": [
    "### 1.\tWrite a Python program to find words which are greater than given length k?"
   ]
  },
  {
   "cell_type": "code",
   "execution_count": 3,
   "id": "d68110a9",
   "metadata": {},
   "outputs": [
    {
     "name": "stdout",
     "output_type": "stream",
     "text": [
      "Enter sentence : Full Stack Data Science BootCamp\n",
      "Enter length k : 5\n",
      "Words greater than 5 are : ['Science', 'BootCamp']\n"
     ]
    }
   ],
   "source": [
    "def string_k(k,str):\n",
    "    string = []\n",
    "    text = str.split(\" \")\n",
    "    for x in text:\n",
    "        if len(x) > k:\n",
    "            string.append(x)\n",
    "    return string\n",
    "\n",
    "str = input(\"Enter sentence : \")\n",
    "k = int(input(\"Enter length k : \"))\n",
    "print(f'Words greater than {k} are : {string_k(k,str)}')"
   ]
  },
  {
   "cell_type": "markdown",
   "id": "00688d4c",
   "metadata": {},
   "source": [
    "### 2.\tWrite a Python program for removing i-th character from a string?"
   ]
  },
  {
   "cell_type": "code",
   "execution_count": 5,
   "id": "7153390b",
   "metadata": {},
   "outputs": [
    {
     "name": "stdout",
     "output_type": "stream",
     "text": [
      "Enter the string : Science\n",
      "Enter the index to remove : 4\n",
      "The new string :  Sciece\n"
     ]
    }
   ],
   "source": [
    "def remove(string, i):\n",
    "    for j in range(len(string)):\n",
    "        if j == i:\n",
    "            string = string.replace(string[i],\"\",1)\n",
    "    return string\n",
    "\n",
    "string = input(\"Enter the string : \")\n",
    "i = int(input(\"Enter the index to remove : \"))  \n",
    "print(\"The new string : \", remove(string, i))"
   ]
  },
  {
   "cell_type": "markdown",
   "id": "2edac204",
   "metadata": {},
   "source": [
    "### 3.\tWrite a Python program to split and join a string?"
   ]
  },
  {
   "cell_type": "code",
   "execution_count": 6,
   "id": "cb8f1e32",
   "metadata": {},
   "outputs": [
    {
     "name": "stdout",
     "output_type": "stream",
     "text": [
      "Enter String : Full Stack Data Science BootCamp\n",
      "Spliting a string :  ['Full', 'Stack', 'Data', 'Science', 'BootCamp']\n",
      "Joining a string :  Full-Stack-Data-Science-BootCamp\n"
     ]
    }
   ],
   "source": [
    "string = input('Enter String : ')\n",
    "s = string.split(\" \")\n",
    "print(\"Spliting a string : \", s)\n",
    "\n",
    "s2 = '-'.join(s)\n",
    "print(\"Joining a string : \",s2)"
   ]
  },
  {
   "cell_type": "markdown",
   "id": "eabfa951",
   "metadata": {},
   "source": [
    "### 4.\tWrite a Python to check if a given string is binary string or not?"
   ]
  },
  {
   "cell_type": "code",
   "execution_count": 9,
   "id": "04150c6d",
   "metadata": {},
   "outputs": [
    {
     "name": "stdout",
     "output_type": "stream",
     "text": [
      "Enter the string : Full Stack Data Science BootCamp\n",
      "Not Binary\n"
     ]
    }
   ],
   "source": [
    "def ifbinary(string):\n",
    "    binary = '01'\n",
    "    for i in range(len(string)):\n",
    "        if string[i] not in binary:\n",
    "            print('Not Binary')\n",
    "            break\n",
    "        else:\n",
    "            print('Binary')\n",
    "\n",
    "string = input(\"Enter the string : \")\n",
    "ifbinary(string)"
   ]
  },
  {
   "cell_type": "markdown",
   "id": "926f7457",
   "metadata": {},
   "source": [
    "### 5.\tWrite a Python program to find uncommon words from two Strings?"
   ]
  },
  {
   "cell_type": "code",
   "execution_count": 13,
   "id": "5933b299",
   "metadata": {},
   "outputs": [
    {
     "name": "stdout",
     "output_type": "stream",
     "text": [
      "Enter 1st string : Python to find all duplicate characters in string\n",
      "Enter 2nd string : Python to check if a given string is binary string or not\n",
      "Uncommon woords are :  ['find', 'all', 'duplicate', 'characters', 'in', 'check', 'if', 'a', 'given', 'is', 'binary', 'or', 'not']\n"
     ]
    }
   ],
   "source": [
    "def uncommon(a,b):\n",
    "    a = a.lower().split()\n",
    "    b = b.lower().split()\n",
    "    x = []\n",
    "    for i in a:\n",
    "        if i not in b:\n",
    "            x.append(i)\n",
    "    for i in b:\n",
    "        if i not in a:\n",
    "            x.append(i)\n",
    "    return x\n",
    "\n",
    "\n",
    "a = input(\"Enter 1st string : \")\n",
    "b = input(\"Enter 2nd string : \")\n",
    "print(\"Uncommon woords are : \",uncommon(a,b))"
   ]
  },
  {
   "cell_type": "markdown",
   "id": "0274db79",
   "metadata": {},
   "source": [
    "### 6.\tWrite a Python to find all duplicate characters in string?"
   ]
  },
  {
   "cell_type": "code",
   "execution_count": 15,
   "id": "b54d9912",
   "metadata": {},
   "outputs": [
    {
     "name": "stdout",
     "output_type": "stream",
     "text": [
      "Enter the string a : python is powerful\n"
     ]
    },
    {
     "data": {
      "text/plain": [
       "['p', 'o', ' ']"
      ]
     },
     "execution_count": 15,
     "metadata": {},
     "output_type": "execute_result"
    }
   ],
   "source": [
    "string = input(\"Enter the string a : \").lower()\n",
    "duplicate = []\n",
    "\n",
    "for i in string:\n",
    "    if string.count(i)>1:\n",
    "        if i not in duplicate:\n",
    "            duplicate.append(i)\n",
    "            \n",
    "            \n",
    "duplicate"
   ]
  },
  {
   "cell_type": "markdown",
   "id": "6b76a72a",
   "metadata": {},
   "source": [
    "### 7.\tWrite a Python Program to check if a string contains any special character?"
   ]
  },
  {
   "cell_type": "code",
   "execution_count": 16,
   "id": "cad9f73e",
   "metadata": {},
   "outputs": [],
   "source": [
    "import string"
   ]
  },
  {
   "cell_type": "code",
   "execution_count": 17,
   "id": "d0de73aa",
   "metadata": {},
   "outputs": [
    {
     "name": "stdout",
     "output_type": "stream",
     "text": [
      "Enter the string a : i am !@##$%\n",
      "String i am !@##$% has special charecter/s : ['!', '@', '#', '#', '$', '%']\n"
     ]
    }
   ],
   "source": [
    "punct = string.punctuation\n",
    "special_char = []\n",
    "\n",
    "string = input(\"Enter the string a : \").lower()\n",
    "for i in string:\n",
    "    if i in punct:\n",
    "        special_char.append(i)\n",
    "if len(special_char) > 0:\n",
    "    print(\"String {} has special charecter/s : {}\".format(string,special_char))"
   ]
  },
  {
   "cell_type": "code",
   "execution_count": null,
   "id": "07f1a793",
   "metadata": {},
   "outputs": [],
   "source": []
  }
 ],
 "metadata": {
  "kernelspec": {
   "display_name": "Python 3 (ipykernel)",
   "language": "python",
   "name": "python3"
  },
  "language_info": {
   "codemirror_mode": {
    "name": "ipython",
    "version": 3
   },
   "file_extension": ".py",
   "mimetype": "text/x-python",
   "name": "python",
   "nbconvert_exporter": "python",
   "pygments_lexer": "ipython3",
   "version": "3.9.7"
  }
 },
 "nbformat": 4,
 "nbformat_minor": 5
}
