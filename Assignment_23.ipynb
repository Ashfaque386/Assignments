{
 "cells": [
  {
   "cell_type": "markdown",
   "id": "47aa4219",
   "metadata": {},
   "source": [
    "### 1. What is the result of the code, and why?\n",
    "'''\n",
    "\n",
    "    >>> def func(a, b=6, c=8):\n",
    "    print(a, b, c)\n",
    "    >>> func(1, 2)\n",
    "\n",
    "'''"
   ]
  },
  {
   "cell_type": "markdown",
   "id": "0d88739a",
   "metadata": {},
   "source": [
    "**This funtion is taking a positional argument and 2 keyward argument. When function call is made, parameter passed are a=1,b=2. When the function is executed , parameter c=8 will be taken by default as its a keyword argument.\n",
    "solution is = 1,2,8**"
   ]
  },
  {
   "cell_type": "code",
   "execution_count": 1,
   "id": "ca237d30",
   "metadata": {},
   "outputs": [
    {
     "name": "stdout",
     "output_type": "stream",
     "text": [
      "1 2 8\n"
     ]
    }
   ],
   "source": [
    "def func(a, b=6, c=8):\n",
    "    print(a,b,c)\n",
    "func(1,2)"
   ]
  },
  {
   "cell_type": "markdown",
   "id": "d7c9c087",
   "metadata": {},
   "source": [
    "### 2. What is the result of this code, and why?\n",
    "'''\n",
    "\n",
    "    >>> def func(a, b, c=5):\n",
    "    print(a, b, c)\n",
    "    >>> func(1, c=3, b=2)\n",
    "\n",
    "'''"
   ]
  },
  {
   "cell_type": "markdown",
   "id": "66be9f9c",
   "metadata": {},
   "source": [
    "**When we make function call, order will be positional argument and then keywords arguments. we can pass the keyword arguments in any order we want. Solution is 1,2,3**"
   ]
  },
  {
   "cell_type": "code",
   "execution_count": 2,
   "id": "f1c372b4",
   "metadata": {},
   "outputs": [
    {
     "name": "stdout",
     "output_type": "stream",
     "text": [
      "1 2 3\n"
     ]
    }
   ],
   "source": [
    "def func(a,b,c=5):\n",
    "    print(a,b,c)\n",
    "\n",
    "func(1,c=3, b =2)"
   ]
  },
  {
   "cell_type": "markdown",
   "id": "ab216f63",
   "metadata": {},
   "source": [
    "### 3. How about this code: what is its result, and why?\n",
    "'''\n",
    "\n",
    "    >>> def func(a, *pargs):\n",
    "    print(a, pargs)\n",
    "    >>> func(1, 2, 3)\n",
    "'''"
   ]
  },
  {
   "cell_type": "markdown",
   "id": "8409446f",
   "metadata": {},
   "source": [
    "**The return type of *args parameter is tuple. Solution: 1,(2,3)**"
   ]
  },
  {
   "cell_type": "code",
   "execution_count": 3,
   "id": "9db5e5a4",
   "metadata": {},
   "outputs": [
    {
     "name": "stdout",
     "output_type": "stream",
     "text": [
      "1 (2, 3)\n"
     ]
    }
   ],
   "source": [
    "def func(a, *pargs):\n",
    "    print(a,pargs)\n",
    "\n",
    "func(1,2,3)"
   ]
  },
  {
   "cell_type": "markdown",
   "id": "ff9e9ca0",
   "metadata": {},
   "source": [
    "### 4. What does this code print, and why?\n",
    "'''\n",
    "\n",
    "    >>> def func(a, **kargs):\n",
    "    print(a, kargs)\n",
    "    >>> func(a=1, c=3, b=2)\n",
    "'''"
   ]
  },
  {
   "cell_type": "markdown",
   "id": "fb1792c1",
   "metadata": {},
   "source": [
    "**The return type of  **kargs is  dictionary. solution is = 1,{'c':3,'b':2}**"
   ]
  },
  {
   "cell_type": "code",
   "execution_count": 4,
   "id": "92d598e0",
   "metadata": {},
   "outputs": [
    {
     "name": "stdout",
     "output_type": "stream",
     "text": [
      "1 {'c': 3, 'b': 2}\n"
     ]
    }
   ],
   "source": [
    "def func(a, **kargs):\n",
    "    print(a, kargs)\n",
    "    \n",
    "func(a = 1, c = 3,b = 2)"
   ]
  },
  {
   "cell_type": "markdown",
   "id": "0746debb",
   "metadata": {},
   "source": [
    "### 5. What gets printed by this, and explain?\n",
    "'''\n",
    "\n",
    "    >>> def func(a, b, c=8, d=5): print(a, b, c, d)\n",
    "    >>> func(1, *(5, 6))\n",
    "'''"
   ]
  },
  {
   "cell_type": "markdown",
   "id": "e495067e",
   "metadata": {},
   "source": [
    "**\\* is the unpacking operator and are operators that unpack the values from iterable objects in Python. The single asterisk operator * can be used on any iterable that Python provides, while the double asterisk operator ** can only be used on dictionaries. In the example the value *(5,6) will be unpacked and will be assigned to b and c and passed as arguments, d =5 will taken by default keyword arguments.\n",
    "Solution= 1,5,6,5**"
   ]
  },
  {
   "cell_type": "code",
   "execution_count": 5,
   "id": "45bcc538",
   "metadata": {},
   "outputs": [
    {
     "name": "stdout",
     "output_type": "stream",
     "text": [
      "1 5 6 5\n"
     ]
    }
   ],
   "source": [
    "def func(a, b, c=8,d=5):\n",
    "    print(a,b,c,d)\n",
    "    \n",
    "func(1,*(5,6))"
   ]
  },
  {
   "cell_type": "markdown",
   "id": "27e7aa5c",
   "metadata": {},
   "source": [
    "### 6. what is the result of this, and explain?\n",
    "'''\n",
    "\n",
    "    >>> def func(a, b, c): a = 2; b[0] = 'x'; c['a'] = 'y'\n",
    "    >>> l=1; m=[1]; n={'a':0}\n",
    "    >>> func(l, m, n)\n",
    "    >>> l, m, n\n",
    "'''"
   ]
  },
  {
   "cell_type": "markdown",
   "id": "0e244e14",
   "metadata": {},
   "source": [
    "**Here in the code, the list and dict are passed as argument, and those are mutable. Here the list m and parameter b point to the same list in the memory location where as dict n and c point to the same memory location. Any updates to this list will update in the memory location**\n",
    "\n",
    "**l = 1 , integer values, immutable, m is list, mutable, n is dict, mutable.\n",
    "output will be = 1,['x'],{'a':'y'}**"
   ]
  },
  {
   "cell_type": "code",
   "execution_count": 6,
   "id": "6d6926aa",
   "metadata": {},
   "outputs": [
    {
     "data": {
      "text/plain": [
       "(1, ['x'], {'a': 'y'})"
      ]
     },
     "execution_count": 6,
     "metadata": {},
     "output_type": "execute_result"
    }
   ],
   "source": [
    "def func(a,b,c):\n",
    "    a = 2; b[0] = 'x'; c['a'] = 'y'\n",
    "\n",
    "l=1; m=[1]; n={'a':0}\n",
    "func(l, m, n)\n",
    "l,m,n"
   ]
  },
  {
   "cell_type": "code",
   "execution_count": null,
   "id": "ed555bb2",
   "metadata": {},
   "outputs": [],
   "source": []
  }
 ],
 "metadata": {
  "kernelspec": {
   "display_name": "Python 3 (ipykernel)",
   "language": "python",
   "name": "python3"
  },
  "language_info": {
   "codemirror_mode": {
    "name": "ipython",
    "version": 3
   },
   "file_extension": ".py",
   "mimetype": "text/x-python",
   "name": "python",
   "nbconvert_exporter": "python",
   "pygments_lexer": "ipython3",
   "version": "3.9.7"
  }
 },
 "nbformat": 4,
 "nbformat_minor": 5
}
