{
 "cells": [
  {
   "cell_type": "markdown",
   "id": "670971b3",
   "metadata": {},
   "source": [
    "### Question 1: Write a program that calculates and prints the value according to the given formula:\n",
    "\n",
    "\n",
    "    Q = Square root of [(2 * C * D)/H]\n",
    "\n",
    "    Following are the fixed values of C and H:\n",
    "\n",
    "    C is 50. H is 30.\n",
    "\n",
    "    D is the variable whose values should be input to your program in a comma-separated sequence.\n",
    "\n",
    "    Example\n",
    "\n",
    "    Let us assume the following comma separated input sequence is given to the program:\n",
    "\n",
    "    100,150,180\n",
    "\n",
    "    The output of the program should be:\n",
    "\n",
    "    18,22,24\n"
   ]
  },
  {
   "cell_type": "code",
   "execution_count": 1,
   "id": "e1b5eaed",
   "metadata": {},
   "outputs": [],
   "source": [
    "import math"
   ]
  },
  {
   "cell_type": "code",
   "execution_count": 3,
   "id": "f3a5d7be",
   "metadata": {},
   "outputs": [
    {
     "name": "stdout",
     "output_type": "stream",
     "text": [
      "Enter the value of D in comma separated: 100,150,180\n",
      "Square root of the given values : 18,22,24\n"
     ]
    }
   ],
   "source": [
    "values = input(\"Enter the value of D in comma separated: \")\n",
    "values = values.split(',')\n",
    "\n",
    "final = []\n",
    "\n",
    "for D in values:\n",
    "    a = round(math.sqrt(2 * 50 * int(D) / 30))\n",
    "    final.append(str(a))\n",
    "    \n",
    "print(\"Square root of the given values :\",','.join(final))"
   ]
  },
  {
   "cell_type": "markdown",
   "id": "11df4ea9",
   "metadata": {},
   "source": [
    "### Question 2: Write a program which takes 2 digits, X,Y as input and generates a 2-dimensional array. The element value in the i-th row and j-th column of the array should be i*j.\n",
    "\n",
    "    Note: i=0,1.., X-1; j=0,1,¡¬Y-1.\n",
    "\n",
    "    Example\n",
    "\n",
    "    Suppose the following inputs are given to the program:\n",
    "\n",
    "    3,5\n",
    "\n",
    "    Then, the output of the program should be:\n",
    "\n",
    "    [[0, 0, 0, 0, 0], [0, 1, 2, 3, 4], [0, 2, 4, 6, 8]] \n"
   ]
  },
  {
   "cell_type": "code",
   "execution_count": 6,
   "id": "63c085fe",
   "metadata": {},
   "outputs": [
    {
     "name": "stdout",
     "output_type": "stream",
     "text": [
      "Enter value for X,Y : 3,5\n",
      "[[0, 0, 0, 0, 0], [0, 1, 2, 3, 4], [0, 2, 4, 6, 8]]\n"
     ]
    }
   ],
   "source": [
    "n = input(\"Enter value for X,Y : \").split(',')\n",
    "\n",
    "a = []\n",
    "for i in range(int(n[0])):\n",
    "    row = []\n",
    "    for j in range(int(n[1])):\n",
    "        row.append(i*j)\n",
    "    a.append(row)\n",
    "    \n",
    "print(a)"
   ]
  },
  {
   "cell_type": "markdown",
   "id": "5f7cd83a",
   "metadata": {},
   "source": [
    "### Question 3: Write a program that accepts a comma separated sequence of words as input and prints the words in a comma-separated sequence after sorting them alphabetically.\n",
    "\n",
    "    Suppose the following input is supplied to the program:\n",
    "\n",
    "    without,hello,bag,world\n",
    "\n",
    "    Then, the output should be:\n",
    "\n",
    "    bag,hello,without,world\n"
   ]
  },
  {
   "cell_type": "code",
   "execution_count": 18,
   "id": "9f57541c",
   "metadata": {},
   "outputs": [
    {
     "name": "stdout",
     "output_type": "stream",
     "text": [
      "Enter comma separated sequence of word : without,hello,bag,world\n",
      "Sorted words :  ['bag', 'hello', 'without', 'world']\n"
     ]
    }
   ],
   "source": [
    "words = input(\"Enter comma separated sequence of word : \")\n",
    "words = [i for i in words.split(',')]\n",
    "words.sort()\n",
    "print(\"Sorted words : \",words)"
   ]
  },
  {
   "cell_type": "markdown",
   "id": "00df76dc",
   "metadata": {},
   "source": [
    "### Question 4: Write a program that accepts a sequence of whitespace separated words as input and prints the words after removing all duplicate words and sorting them alphanumerically.\n",
    "\n",
    "    Suppose the following input is supplied to the program:\n",
    "\n",
    "    hello world and practice makes perfect and hello world again\n",
    "\n",
    "    Then, the output should be:\n",
    "\n",
    "    again and hello makes perfect practice world\n",
    "\n"
   ]
  },
  {
   "cell_type": "code",
   "execution_count": 23,
   "id": "1bd2650e",
   "metadata": {},
   "outputs": [
    {
     "name": "stdout",
     "output_type": "stream",
     "text": [
      "Enter whitespace separated sequence of word : hello world and practice makes perfect and hello world again\n",
      "Sorted words :  ['again', 'and', 'hello', 'makes', 'perfect', 'practice', 'world']\n"
     ]
    }
   ],
   "source": [
    "words = input(\"Enter whitespace separated sequence of word : \")\n",
    "words = [i for i in words.split(' ')]\n",
    "\n",
    "l = []\n",
    "for i in words:\n",
    "    if i not in l:\n",
    "        l.append(i)\n",
    "    else:\n",
    "        continue\n",
    "l.sort()\n",
    "print(\"Sorted words : \", l)"
   ]
  },
  {
   "cell_type": "markdown",
   "id": "7bd4ead6",
   "metadata": {},
   "source": [
    "### Question 5:Write a program that accepts a sentence and calculate the number of letters and digits.\n",
    "\n",
    "    Suppose the following input is supplied to the program:\n",
    "\n",
    "    hello world! 123\n",
    "\n",
    "    Then, the output should be:\n",
    "\n",
    "    LETTERS 10\n",
    "\n",
    "    DIGITS 3\n"
   ]
  },
  {
   "cell_type": "code",
   "execution_count": 24,
   "id": "a351063f",
   "metadata": {},
   "outputs": [
    {
     "name": "stdout",
     "output_type": "stream",
     "text": [
      "Input a string : hello world! 123\n",
      "Letters  10\n",
      "Digits  3\n"
     ]
    }
   ],
   "source": [
    "a = input(\"Input a string : \")\n",
    "digits=letters=0\n",
    "for i in a:\n",
    "    if i.isdigit():\n",
    "        digits += 1\n",
    "    elif i.isalpha():\n",
    "        letters += 1\n",
    "    else:\n",
    "        pass\n",
    "print(\"Letters \", letters)\n",
    "print(\"Digits \", digits)"
   ]
  },
  {
   "cell_type": "markdown",
   "id": "989e26aa",
   "metadata": {},
   "source": [
    "### Question 6: A website requires the users to input username and password to register. Write a program to check the validity of password input by users.\n",
    "\n",
    "    Following are the criteria for checking the password:\n",
    "\n",
    "    1. At least 1 letter between [a-z]\n",
    "\n",
    "    2. At least 1 number between [0-9]\n",
    "\n",
    "    3. At least 1 letter between [A-Z]\n",
    "\n",
    "    4. At least 1 character from [$#@]\n",
    "\n",
    "    5. Minimum length of transaction password: 6\n",
    "\n",
    "    6. Maximum length of transaction password: 12\n",
    "\n",
    "    Your program should accept a sequence of comma separated passwords and will check them according to the above criteria. Passwords that match the criteria are to be printed, each separated by a comma.\n",
    "\n",
    "    Example\n",
    "\n",
    "    If the following passwords are given as input to the program:\n",
    "\n",
    "    ABd1234@1,a F1#,2w3E*,2We3345\n",
    "\n",
    "    Then, the output of the program should be:\n",
    "\n",
    "    ABd1234@1\n"
   ]
  },
  {
   "cell_type": "code",
   "execution_count": 25,
   "id": "c7957b4f",
   "metadata": {},
   "outputs": [],
   "source": [
    "import re"
   ]
  },
  {
   "cell_type": "code",
   "execution_count": 28,
   "id": "af666821",
   "metadata": {},
   "outputs": [
    {
     "name": "stdout",
     "output_type": "stream",
     "text": [
      "Type in passwords : ABd1234@1,a F1#,2w3E*,2We3345\n",
      "Valid passwords :  ABd1234@1\n"
     ]
    }
   ],
   "source": [
    "passwords = input(\"Type in passwords : \")\n",
    "passwords = passwords.split(\",\")\n",
    "\n",
    "accepted_pass = []\n",
    "for i in passwords:\n",
    "    \n",
    "    if len(i) < 6 or len(i) > 12:\n",
    "        continue\n",
    "\n",
    "    elif not re.search(\"([a-z])+\", i):\n",
    "        continue\n",
    "\n",
    "    elif not re.search(\"([A-Z])+\", i):\n",
    "        continue\n",
    "\n",
    "    elif not re.search(\"([0-9])+\", i):\n",
    "        continue\n",
    "\n",
    "    elif not re.search(\"([$#@])+\", i):\n",
    "        continue\n",
    "\n",
    "    else:\n",
    "        accepted_pass.append(i)\n",
    "\n",
    "print(\"Valid passwords : \",(\" \").join(accepted_pass))"
   ]
  },
  {
   "cell_type": "code",
   "execution_count": null,
   "id": "386a7739",
   "metadata": {},
   "outputs": [],
   "source": []
  }
 ],
 "metadata": {
  "kernelspec": {
   "display_name": "Python 3 (ipykernel)",
   "language": "python",
   "name": "python3"
  },
  "language_info": {
   "codemirror_mode": {
    "name": "ipython",
    "version": 3
   },
   "file_extension": ".py",
   "mimetype": "text/x-python",
   "name": "python",
   "nbconvert_exporter": "python",
   "pygments_lexer": "ipython3",
   "version": "3.9.7"
  }
 },
 "nbformat": 4,
 "nbformat_minor": 5
}
