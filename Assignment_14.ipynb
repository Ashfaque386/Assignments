{
 "cells": [
  {
   "cell_type": "markdown",
   "id": "b5a278f4",
   "metadata": {},
   "source": [
    "### 1. What does RGBA stand for?"
   ]
  },
  {
   "cell_type": "markdown",
   "id": "dfc3973e",
   "metadata": {},
   "source": [
    "RGBA stands for **red, green, blue, and alpha** (transparency) in the color"
   ]
  },
  {
   "cell_type": "markdown",
   "id": "1259a76f",
   "metadata": {},
   "source": [
    "### 2. From the Pillow module, how do you get the RGBA value of any images?"
   ]
  },
  {
   "cell_type": "markdown",
   "id": "553b96c6",
   "metadata": {},
   "source": [
    "We can get RGBA value from any image using getdata() Function"
   ]
  },
  {
   "cell_type": "code",
   "execution_count": 15,
   "id": "0c9bf1b8",
   "metadata": {},
   "outputs": [
    {
     "data": {
      "text/plain": [
       "[(255, 255, 255, 255),\n",
       " (0, 0, 0, 255),\n",
       " (237, 28, 36, 255),\n",
       " (34, 177, 76, 255),\n",
       " (153, 217, 234, 255),\n",
       " (63, 72, 204, 255),\n",
       " (181, 230, 29, 255)]"
      ]
     },
     "execution_count": 15,
     "metadata": {},
     "output_type": "execute_result"
    }
   ],
   "source": [
    "from PIL import Image\n",
    "\n",
    "img = Image.open('selectiveFolder/Sample.png')\n",
    "rgba = img.convert(\"RGBA\")\n",
    "datas = rgba.getdata()\n",
    "\n",
    "newData = []\n",
    "for item in datas:\n",
    "    if item in newData:\n",
    "        pass\n",
    "    else:\n",
    "        newData.append(item)\n",
    "\n",
    "newData"
   ]
  },
  {
   "cell_type": "markdown",
   "id": "57cab8d3",
   "metadata": {},
   "source": [
    "### 3. What is a box tuple, and how does it work?"
   ]
  },
  {
   "cell_type": "markdown",
   "id": "8a9378f7",
   "metadata": {},
   "source": [
    "A box tuple is a tuple value of four integers: the left edge x-coordinate, the top edge y-coordinate, the width, and the height, respectively"
   ]
  },
  {
   "cell_type": "markdown",
   "id": "e8401288",
   "metadata": {},
   "source": [
    "### 4. Use your image and load in notebook then, How can you find out the width and height of an Image object?"
   ]
  },
  {
   "cell_type": "code",
   "execution_count": 33,
   "id": "289178fc",
   "metadata": {},
   "outputs": [
    {
     "data": {
      "text/plain": [
       "(1152, 648)"
      ]
     },
     "execution_count": 33,
     "metadata": {},
     "output_type": "execute_result"
    }
   ],
   "source": [
    "from PIL import Image\n",
    "\n",
    "img = Image.open('selectiveFolder/Sample.png')\n",
    "img.size"
   ]
  },
  {
   "cell_type": "markdown",
   "id": "da790ae3",
   "metadata": {},
   "source": [
    "### 5. What method would you call to get Image object for a 100×100 image, excluding the lower-left quarter of it?"
   ]
  },
  {
   "cell_type": "markdown",
   "id": "d97ec5e9",
   "metadata": {},
   "source": [
    "ImageObject.resize((100,100)).crop(left, upper, right, lower)"
   ]
  },
  {
   "cell_type": "markdown",
   "id": "81f37c00",
   "metadata": {},
   "source": [
    "### 6. After making changes to an Image object, how could you save it as an image file?"
   ]
  },
  {
   "cell_type": "markdown",
   "id": "c67dee25",
   "metadata": {},
   "source": [
    "By Calling the imageObj.save('new_filename.png') method of the Image object"
   ]
  },
  {
   "cell_type": "markdown",
   "id": "e7106992",
   "metadata": {},
   "source": [
    "### 7. What module contains Pillow’s shape-drawing code?"
   ]
  },
  {
   "cell_type": "markdown",
   "id": "9a28c800",
   "metadata": {},
   "source": [
    "The ImageDraw module contains code to draw on images"
   ]
  },
  {
   "cell_type": "markdown",
   "id": "21c58322",
   "metadata": {},
   "source": [
    "### 8. Image objects do not have drawing methods. What kind of object does? How do you get this kind of object?"
   ]
  },
  {
   "cell_type": "markdown",
   "id": "7375562d",
   "metadata": {},
   "source": [
    "ImageDraw objects have shape-drawing methods such as point(), line(), or rectangle(). They are returned by passing the Image object to the ImageDraw.Draw() function"
   ]
  }
 ],
 "metadata": {
  "kernelspec": {
   "display_name": "Python 3 (ipykernel)",
   "language": "python",
   "name": "python3"
  },
  "language_info": {
   "codemirror_mode": {
    "name": "ipython",
    "version": 3
   },
   "file_extension": ".py",
   "mimetype": "text/x-python",
   "name": "python",
   "nbconvert_exporter": "python",
   "pygments_lexer": "ipython3",
   "version": "3.9.7"
  }
 },
 "nbformat": 4,
 "nbformat_minor": 5
}
