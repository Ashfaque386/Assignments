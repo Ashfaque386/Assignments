{
 "cells": [
  {
   "cell_type": "markdown",
   "id": "43c68982",
   "metadata": {},
   "source": [
    "### 1. What is the relationship between def statements and lambda expressions ?"
   ]
  },
  {
   "cell_type": "markdown",
   "id": "64943528",
   "metadata": {},
   "source": [
    "**def** - In python, def defined functions are commonly used because of their simplicity. The def defined functions do not return anything if not explicitly returned whereas the lambda function does return an object. The def functions must be declared in the namespace. The def functions can perform any python task including multiple conditions, nested conditions or loops of any level, printing, importing libraries, raising Exceptions, etc. \n",
    "\n",
    "\n",
    "**lambda** - The lambda functions can be used without any declaration in the namespace. The lambda functions are like single-line functions. These functions do not have parenthesis like the def defined functions but instead, take parameters after the lambda keyword. There is no return keyword defined explicitly because the lambda function does return an object by default."
   ]
  },
  {
   "cell_type": "markdown",
   "id": "32db7901",
   "metadata": {},
   "source": [
    "### 2. What is the benefit of lambda?"
   ]
  },
  {
   "cell_type": "markdown",
   "id": "6ed0bfb7",
   "metadata": {},
   "source": [
    "Lambda functions are inline functions and thus execute comparatively faster Many times lambda functions make code much more readable by avoiding the logical jumps caused by function calls"
   ]
  },
  {
   "cell_type": "markdown",
   "id": "e0331d18",
   "metadata": {},
   "source": [
    "### 3. Compare and contrast map, filter, and reduce."
   ]
  },
  {
   "cell_type": "markdown",
   "id": "77ffd726",
   "metadata": {},
   "source": [
    "- **map applies as a transformation to an element.**\n",
    "    > The **map()** function iterates through all items in the given iterable and executes the function we passed as an argument on each of them. Syntax : **map(function, iterable(s))**\n",
    "\n",
    "- **filter accumulates only elements matching a condition.**\n",
    "    > **filter()** forms a new list that contains only elements that satisfy a certain condition, i.e. the function we passed returns True Syntax : **filter(function, iterable(s))**\n",
    "\n",
    "- **reduce accumulates all elements to a single value, by using immutable values**\n",
    "    > **reduce()** works by calling the function we passed for the first two items in the sequence. The result returned by the function is used in another call to function alongside with the next (third in this case), element Syntax : **reduce(function, sequence[, initial])**"
   ]
  },
  {
   "cell_type": "code",
   "execution_count": 5,
   "id": "7eaaf224",
   "metadata": {},
   "outputs": [],
   "source": [
    "l = [1,2,3,4,5,6]"
   ]
  },
  {
   "cell_type": "code",
   "execution_count": 6,
   "id": "2bef4c7b",
   "metadata": {},
   "outputs": [
    {
     "data": {
      "text/plain": [
       "[6, 7, 8, 9, 10, 11]"
      ]
     },
     "execution_count": 6,
     "metadata": {},
     "output_type": "execute_result"
    }
   ],
   "source": [
    "list(map(lambda x : x+5 , l))"
   ]
  },
  {
   "cell_type": "code",
   "execution_count": 7,
   "id": "11e5418f",
   "metadata": {},
   "outputs": [
    {
     "data": {
      "text/plain": [
       "[2, 4, 6]"
      ]
     },
     "execution_count": 7,
     "metadata": {},
     "output_type": "execute_result"
    }
   ],
   "source": [
    "list(filter(lambda x: x%2==0 ,l))"
   ]
  },
  {
   "cell_type": "code",
   "execution_count": 8,
   "id": "91ef2eac",
   "metadata": {},
   "outputs": [
    {
     "data": {
      "text/plain": [
       "21"
      ]
     },
     "execution_count": 8,
     "metadata": {},
     "output_type": "execute_result"
    }
   ],
   "source": [
    "from functools import reduce\n",
    "reduce(lambda x,y :x+y , l)"
   ]
  },
  {
   "cell_type": "markdown",
   "id": "4cce6d5a",
   "metadata": {},
   "source": [
    "### 4. What are function annotations, and how are they used?"
   ]
  },
  {
   "cell_type": "markdown",
   "id": "c7257a06",
   "metadata": {},
   "source": [
    "Function annotations are arbitrary python expressions that are associated with various part of functions. These expressions are evaluated at compile time and have no life in python’s runtime environment. Python does not attach any meaning to these annotations. They take life when interpreted by third party libraries, for example, mypy."
   ]
  },
  {
   "cell_type": "markdown",
   "id": "b0a855c5",
   "metadata": {},
   "source": [
    "- Syntax :\n",
    "    - def func(a: 'int') -> 'int':\n",
    "        pass\n",
    "        \n",
    "        \n",
    "- Annotations for simple parameters:\n",
    "    - def func(x: 'float'=10.8, y: 'argument2'):\n",
    "        - In the above code the argument, ‘x’ of the function func, has been annotated to float data type and the argument ‘y’ has a string-based annotation. The argument can also be assigned to a default value using a ‘=’ symbol followed by the default value. These default values are optional to the code.\n",
    "\n",
    "\n",
    "- Annotations for return values:\n",
    "    - def func(a: expression) -> 'int':\n",
    "        - The annotations for the return value is written after the ‘->’ symbol.\n"
   ]
  },
  {
   "cell_type": "code",
   "execution_count": 9,
   "id": "9fa6069c",
   "metadata": {},
   "outputs": [
    {
     "name": "stdout",
     "output_type": "stream",
     "text": [
      "{'n': 'float', 'b': 'int', 'return': 'result'}\n"
     ]
    }
   ],
   "source": [
    "def fib(n:'float', b:'int')-> 'result': \n",
    "    pass\n",
    "print(fib.__annotations__)"
   ]
  },
  {
   "cell_type": "markdown",
   "id": "b7ad85ca",
   "metadata": {},
   "source": [
    "### 5. What are recursive functions, and how are they used?"
   ]
  },
  {
   "cell_type": "markdown",
   "id": "52e2d6aa",
   "metadata": {},
   "source": [
    "A recursive function is a function that calls itself during its execution.\n",
    "This means that the function will continue to call itself and repeat its behavior until some condition is met to return a result"
   ]
  },
  {
   "cell_type": "code",
   "execution_count": 12,
   "id": "ffa2142f",
   "metadata": {},
   "outputs": [
    {
     "data": {
      "text/plain": [
       "120"
      ]
     },
     "execution_count": 12,
     "metadata": {},
     "output_type": "execute_result"
    }
   ],
   "source": [
    "def fact(x):\n",
    "    if x == 1 :\n",
    "        return 1\n",
    "    else :\n",
    "        return x * fact(x-1) # recurtion\n",
    "    \n",
    "fact(5)"
   ]
  },
  {
   "cell_type": "markdown",
   "id": "51d30e1b",
   "metadata": {},
   "source": [
    "### 6. What are some general design guidelines for coding functions?"
   ]
  },
  {
   "cell_type": "markdown",
   "id": "b6cc9be4",
   "metadata": {},
   "source": [
    "**Some of the coding standards are given below:**\n",
    "1. Limited use of globals:\n",
    "    - These rules tell about which types of data that can be declared global and the data that can’t be.\n",
    "\n",
    "\n",
    "2. Standard headers for different modules:\n",
    "    - For better understanding and maintenance of the code, the header of different modules should follow some standard format and information. The header format must contain below things that is being used in various companies:\n",
    "        - Name of the module\n",
    "        - Date of module creation\n",
    "        - Author of the module\n",
    "        - Modification history\n",
    "        - Synopsis of the module about what the module does\n",
    "        - Different functions supported in the module along with their input output parameters\n",
    "        - Global variables accessed or modified by the module\n",
    "\n",
    "\n",
    "3. Naming conventions for local variables, global variables, constants and functions:\n",
    "    - Some of the naming conventions are given below:\n",
    "        - Meaningful and understandable variables name helps anyone to understand the reason of using it.\n",
    "        - Local variables should be named using camel case lettering starting with small letter (e.g. localData) whereas Global variables names should start with a capital letter (e.g. GlobalData). Constant names should be formed using capital letters only (e.g. CONSDATA).\n",
    "        - It is better to avoid the use of digits in variable names.\n",
    "        - The names of the function should be written in camel case starting with small letters.\n",
    "        - The name of the function must describe the reason of using the function clearly and briefly.\n",
    "\n",
    "\n",
    "4. Indentation:\n",
    "    - Proper indentation is very important to increase the readability of the code. For making the code readable, programmers should use White spaces properly. Some of the spacing conventions are given below:\n",
    "        - There must be a space after giving a comma between two function arguments.\n",
    "        - Each nested block should be properly indented and spaced.\n",
    "        - Proper Indentation should be there at the beginning and at the end of each block in the program.\n",
    "        - All braces should start from a new line and the code following the end of braces also start from a new line.\n",
    "\n",
    "\n",
    "5. Error return values and exception handling conventions:\n",
    "    - All functions that encountering an error condition should either return a 0 or 1 for simplifying the debugging.\n",
    "\n",
    "**On the other hand, Coding guidelines give some general suggestions regarding the coding style that to be followed for the betterment of understandability and readability of the code. Some of the coding guidelines are given below :**\n",
    "\n",
    "\n",
    "6. Avoid using a coding style that is too difficult to understand:\n",
    "    - Code should be easily understandable. The complex code makes maintenance and debugging difficult and expensive.\n",
    "\n",
    "\n",
    "7. Avoid using an identifier for multiple purposes:\n",
    "    - Each variable should be given a descriptive and meaningful name indicating the reason behind using it. This is not possible if an identifier is used for multiple purposes and thus it can lead to confusion to the reader. Moreover, it leads to more difficulty during future enhancements.\n",
    "\n",
    "\n",
    "8. Code should be well documented:\n",
    "    - The code should be properly commented for understanding easily. Comments regarding the statements increase the understandability of the code.\n",
    "\n",
    "\n",
    "9. Length of functions should not be very large:\n",
    "    - Lengthy functions are very difficult to understand. That’s why functions should be small enough to carry out small work and lengthy functions should be broken into small ones for completing small tasks.\n",
    "\n",
    "\n",
    "10. Try not to use GOTO statement:\n",
    "    - GOTO statement makes the program unstructured, thus it reduces the understandability of the program and also debugging becomes difficult."
   ]
  },
  {
   "cell_type": "markdown",
   "id": "c97edf49",
   "metadata": {},
   "source": [
    "### 7. Name three or more ways that functions can communicate results to a caller."
   ]
  },
  {
   "cell_type": "markdown",
   "id": "37d7d056",
   "metadata": {},
   "source": [
    "1. Function can return single value\n",
    "2. Can return multiple values, tuple\n",
    "3. can return list,dictionary\n",
    "4. can return function object\n",
    "5. can return class object"
   ]
  },
  {
   "cell_type": "code",
   "execution_count": null,
   "id": "c2c69992",
   "metadata": {},
   "outputs": [],
   "source": []
  }
 ],
 "metadata": {
  "kernelspec": {
   "display_name": "Python 3 (ipykernel)",
   "language": "python",
   "name": "python3"
  },
  "language_info": {
   "codemirror_mode": {
    "name": "ipython",
    "version": 3
   },
   "file_extension": ".py",
   "mimetype": "text/x-python",
   "name": "python",
   "nbconvert_exporter": "python",
   "pygments_lexer": "ipython3",
   "version": "3.9.7"
  }
 },
 "nbformat": 4,
 "nbformat_minor": 5
}
