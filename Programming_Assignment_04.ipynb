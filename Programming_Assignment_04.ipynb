{
 "cells": [
  {
   "cell_type": "markdown",
   "id": "0d619de0",
   "metadata": {},
   "source": [
    "### 1.\tWrite a Python Program to Find the Factorial of a Number?"
   ]
  },
  {
   "cell_type": "code",
   "execution_count": 4,
   "id": "3d3c16d4",
   "metadata": {},
   "outputs": [
    {
     "name": "stdout",
     "output_type": "stream",
     "text": [
      "8\n",
      "The factorial of 8 is 40320.\n"
     ]
    }
   ],
   "source": [
    "num = int(input())\n",
    "\n",
    "fact = 1\n",
    "\n",
    "if num < 0:\n",
    "    print(\"Sorry, factorial does not exist for negative numbers\")\n",
    "elif num == 0:\n",
    "    print(\"Factorial of 0 is 1\")\n",
    "else:\n",
    "    for i in range(1, num + 1):\n",
    "        fact = fact * i\n",
    "    print(f\"The factorial of {num} is {fact}.\")"
   ]
  },
  {
   "cell_type": "markdown",
   "id": "6e96b168",
   "metadata": {},
   "source": [
    "### 2.\tWrite a Python Program to Display the multiplication Table?"
   ]
  },
  {
   "cell_type": "code",
   "execution_count": 5,
   "id": "149a28cc",
   "metadata": {},
   "outputs": [
    {
     "name": "stdout",
     "output_type": "stream",
     "text": [
      "Enter a number : 5\n",
      "5 * 1  =  5\n",
      "5 * 2  =  10\n",
      "5 * 3  =  15\n",
      "5 * 4  =  20\n",
      "5 * 5  =  25\n",
      "5 * 6  =  30\n",
      "5 * 7  =  35\n",
      "5 * 8  =  40\n",
      "5 * 9  =  45\n",
      "5 * 10  =  50\n"
     ]
    }
   ],
   "source": [
    "x = int(input(\"Enter a number : \"))\n",
    "for n in range(1,11):\n",
    "    print(x, \"*\", n, \" = \", x*n )"
   ]
  },
  {
   "cell_type": "markdown",
   "id": "495ada89",
   "metadata": {},
   "source": [
    "### 3.\tWrite a Python Program to Print the Fibonacci sequence?"
   ]
  },
  {
   "cell_type": "code",
   "execution_count": 13,
   "id": "1e315b32",
   "metadata": {},
   "outputs": [
    {
     "name": "stdout",
     "output_type": "stream",
     "text": [
      "Enter a number of term's: 9\n",
      "The Fibonacci sequence of the numbers up to 9 : \n",
      "0\n",
      "1\n",
      "1\n",
      "2\n",
      "3\n",
      "5\n",
      "8\n",
      "13\n",
      "21\n"
     ]
    }
   ],
   "source": [
    "n = int(input(\"Enter a number of term's: \"))\n",
    "count = 0\n",
    "# first two terms\n",
    "n1 = 0\n",
    "n2 = 1\n",
    "\n",
    "if n <= 0:\n",
    "    print(\"Incorrect input\")\n",
    "elif n == 1:\n",
    "    print (f\"The Fibonacci sequence of the numbers up to {n} : {n1}\")  \n",
    "else:\n",
    "    print (f\"The Fibonacci sequence of the numbers up to {n} : \") \n",
    "    while count < n:\n",
    "        print(n1)  \n",
    "        nth = n1 + n2  \n",
    "        n1 = n2  \n",
    "        n2 = nth  \n",
    "        count += 1 "
   ]
  },
  {
   "cell_type": "markdown",
   "id": "a881f7f5",
   "metadata": {},
   "source": [
    "### 4.\tWrite a Python Program to Check Armstrong Number?"
   ]
  },
  {
   "cell_type": "code",
   "execution_count": 17,
   "id": "e263b455",
   "metadata": {},
   "outputs": [
    {
     "name": "stdout",
     "output_type": "stream",
     "text": [
      "153\n",
      "Given number is an Armstrong Number\n"
     ]
    }
   ],
   "source": [
    "number = int(input()) \n",
    "digits = len(str(number))\n",
    "temp = number\n",
    "sum1 = 0\n",
    "while temp != 0:\n",
    "    # get the last digit in the number\n",
    "    k = temp % 10\n",
    "    # find k^digits\n",
    "    sum1 += k**digits\n",
    "    # floor division which update number with second last digit as last digit\n",
    "    temp = temp//10\n",
    "\n",
    "if sum1 == number:\n",
    "    print('Given number is an Armstrong Number')\n",
    "else:\n",
    "    print('Given number is not a Armstrong Number')"
   ]
  },
  {
   "cell_type": "markdown",
   "id": "55f38e56",
   "metadata": {},
   "source": [
    "### 5.\tWrite a Python Program to Find Armstrong Number in an Interval?"
   ]
  },
  {
   "cell_type": "code",
   "execution_count": 18,
   "id": "eead1915",
   "metadata": {},
   "outputs": [
    {
     "name": "stdout",
     "output_type": "stream",
     "text": [
      "Lower : 100\n",
      "Upper : 2000\n",
      "153\n",
      "370\n",
      "371\n",
      "407\n",
      "1634\n"
     ]
    }
   ],
   "source": [
    "lower = int(input(\"Lower : \"))\n",
    "upper = int(input(\"Upper : \"))\n",
    "\n",
    "for  num in range(lower, upper+1):\n",
    "    order = len(str(num))  # order of number\n",
    "    sum1 = 0\n",
    "    temp = num\n",
    "    while temp != 0:\n",
    "        digit = temp % 10\n",
    "        sum1 += digit**order\n",
    "        temp = temp//10\n",
    "    if sum1 == num:\n",
    "        print(num)"
   ]
  },
  {
   "cell_type": "markdown",
   "id": "e495b9be",
   "metadata": {},
   "source": [
    "### 6. Write a Python Program to Find the Sum of Natural Numbers?"
   ]
  },
  {
   "cell_type": "code",
   "execution_count": 20,
   "id": "df8b5f3f",
   "metadata": {},
   "outputs": [
    {
     "name": "stdout",
     "output_type": "stream",
     "text": [
      "Enter a number: 16\n",
      "136\n"
     ]
    }
   ],
   "source": [
    "n = int(input(\"Enter a number: \"))\n",
    "sum2 = 0\n",
    "while n > 0:\n",
    "    sum2 = sum2 + n\n",
    "    n = n - 1\n",
    "print(sum2)"
   ]
  },
  {
   "cell_type": "code",
   "execution_count": null,
   "id": "ed633364",
   "metadata": {},
   "outputs": [],
   "source": []
  }
 ],
 "metadata": {
  "kernelspec": {
   "display_name": "Python 3 (ipykernel)",
   "language": "python",
   "name": "python3"
  },
  "language_info": {
   "codemirror_mode": {
    "name": "ipython",
    "version": 3
   },
   "file_extension": ".py",
   "mimetype": "text/x-python",
   "name": "python",
   "nbconvert_exporter": "python",
   "pygments_lexer": "ipython3",
   "version": "3.9.7"
  }
 },
 "nbformat": 4,
 "nbformat_minor": 5
}
