{
 "cells": [
  {
   "cell_type": "markdown",
   "id": "bd4956b2",
   "metadata": {},
   "source": [
    "### 1.\tWrite a Python program to find sum of elements in list?"
   ]
  },
  {
   "cell_type": "code",
   "execution_count": 1,
   "id": "5db35a7d",
   "metadata": {},
   "outputs": [
    {
     "name": "stdout",
     "output_type": "stream",
     "text": [
      "Enter lenth of list : 4\n",
      "5\n",
      "8\n",
      "3\n",
      "6\n",
      "list is :  [5, 8, 3, 6]\n",
      "Sum of elements in List 22\n"
     ]
    }
   ],
   "source": [
    "n = int(input(\"Enter lenth of list : \"))\n",
    "lst = []\n",
    "\n",
    "for i in range(n):\n",
    "    lst.append(int(input()))\n",
    "print(\"list is : \",lst)\n",
    "print(\"Sum of elements in List\",sum(lst))"
   ]
  },
  {
   "cell_type": "markdown",
   "id": "c827a580",
   "metadata": {},
   "source": [
    "### 2.\tWrite a Python program to  Multiply all numbers in the list?"
   ]
  },
  {
   "cell_type": "code",
   "execution_count": 2,
   "id": "53a1d47b",
   "metadata": {},
   "outputs": [
    {
     "name": "stdout",
     "output_type": "stream",
     "text": [
      "Enter lenth of list : 3\n",
      "1\n",
      "2\n",
      "3\n",
      "list is :  [1, 2, 3]\n",
      "Multiple of elements in List 6\n"
     ]
    }
   ],
   "source": [
    "n = int(input(\"Enter lenth of list : \"))\n",
    "lst = []\n",
    "\n",
    "for i in range(n):\n",
    "    lst.append(int(input()))\n",
    "print(\"list is : \",lst)\n",
    "multiple = 1\n",
    "for i in lst:\n",
    "    multiple = multiple * i\n",
    "print(\"Multiple of elements in List\",multiple)"
   ]
  },
  {
   "cell_type": "markdown",
   "id": "70163c11",
   "metadata": {},
   "source": [
    "### 3.\tWrite a Python program to find smallest number in a list?"
   ]
  },
  {
   "cell_type": "code",
   "execution_count": 3,
   "id": "1fcc7e9d",
   "metadata": {},
   "outputs": [
    {
     "name": "stdout",
     "output_type": "stream",
     "text": [
      "Enter lenth of list : 5\n",
      "6\n",
      "8\n",
      "96\n",
      "56\n",
      "2\n",
      "list is :  [6, 8, 96, 56, 2]\n",
      "Smallest number in List 2\n"
     ]
    }
   ],
   "source": [
    "n = int(input(\"Enter lenth of list : \"))\n",
    "lst = []\n",
    "\n",
    "for i in range(n):\n",
    "    lst.append(int(input()))\n",
    "\n",
    "print(\"list is : \",lst)\n",
    "print(\"Smallest number in List\",min(lst))"
   ]
  },
  {
   "cell_type": "markdown",
   "id": "25c56ddb",
   "metadata": {},
   "source": [
    "### 4.\tWrite a Python program to find largest number in a list?"
   ]
  },
  {
   "cell_type": "code",
   "execution_count": 4,
   "id": "ecc31a4b",
   "metadata": {},
   "outputs": [
    {
     "name": "stdout",
     "output_type": "stream",
     "text": [
      "Enter lenth of list : 5\n",
      "6\n",
      "8\n",
      "5\n",
      "21\n",
      "5\n",
      "list is :  [6, 8, 5, 21, 5]\n",
      "Largest number in List 21\n"
     ]
    }
   ],
   "source": [
    "n = int(input(\"Enter lenth of list : \"))\n",
    "lst = []\n",
    "\n",
    "for i in range(n):\n",
    "    lst.append(int(input()))\n",
    "\n",
    "print(\"list is : \",lst)\n",
    "print(\"Largest number in List\",max(lst))"
   ]
  },
  {
   "cell_type": "markdown",
   "id": "d24acab5",
   "metadata": {},
   "source": [
    "### 5.\tWrite a Python program to find second largest number in a list?"
   ]
  },
  {
   "cell_type": "code",
   "execution_count": 7,
   "id": "6b571c5c",
   "metadata": {},
   "outputs": [
    {
     "name": "stdout",
     "output_type": "stream",
     "text": [
      "Enter lenth of list : 6\n",
      "4\n",
      "8\n",
      "56\n",
      "23\n",
      "5\n",
      "8\n",
      "list is :  [4, 8, 56, 23, 5, 8]\n",
      "Second largest number in List 23\n"
     ]
    }
   ],
   "source": [
    "n = int(input(\"Enter lenth of list : \"))\n",
    "lst = []\n",
    "\n",
    "for i in range(n):\n",
    "    lst.append(int(input()))\n",
    "print(\"list is : \",lst)\n",
    "lst.sort()\n",
    "print(\"Second largest number in List\",lst[-2])"
   ]
  },
  {
   "cell_type": "markdown",
   "id": "2fde0cf4",
   "metadata": {},
   "source": [
    "### 6.\tWrite a Python program to find N largest elements from a list?"
   ]
  },
  {
   "cell_type": "code",
   "execution_count": 8,
   "id": "c67f7640",
   "metadata": {},
   "outputs": [
    {
     "name": "stdout",
     "output_type": "stream",
     "text": [
      "Enter lenth of list : 6\n",
      "8\n",
      "5\n",
      "6\n",
      "23\n",
      "48\n",
      "12\n",
      "list is :  [8, 5, 6, 23, 48, 12]\n",
      "Enter how many largest number you want from list:3\n",
      "3 largest elements from the list are : [12, 23, 48]\n"
     ]
    }
   ],
   "source": [
    "n = int(input(\"Enter lenth of list : \"))\n",
    "lst = []\n",
    "\n",
    "for i in range(n):\n",
    "    lst.append(int(input()))\n",
    "print(\"list is : \",lst)\n",
    "lst.sort()\n",
    "nlar = int(input(\"Enter how many largest number you want from list:\"))\n",
    "\n",
    "if n < nlar :\n",
    "    print(\"enterted value is larger then the length of list\")\n",
    "else:\n",
    "    print(nlar,\"largest elements from the list are :\",lst[-nlar:])"
   ]
  },
  {
   "cell_type": "markdown",
   "id": "7cafc9e9",
   "metadata": {},
   "source": [
    "### 7.\tWrite a Python program to print even numbers in a list?"
   ]
  },
  {
   "cell_type": "code",
   "execution_count": 12,
   "id": "3ed8fd0b",
   "metadata": {},
   "outputs": [
    {
     "name": "stdout",
     "output_type": "stream",
     "text": [
      "Enter lenth of list : 5\n",
      "1\n",
      "2\n",
      "3\n",
      "4\n",
      "5\n",
      "list is :  [1, 2, 3, 4, 5]\n",
      "Even number in list are :  [2, 4]\n"
     ]
    }
   ],
   "source": [
    "n = int(input(\"Enter lenth of list : \"))\n",
    "lst = []\n",
    "\n",
    "for i in range(n):\n",
    "    lst.append(int(input()))\n",
    "print(\"list is : \",lst)\n",
    "even = [i for i in lst if i%2==0 ]\n",
    "print(\"Even number in list are : \",even)"
   ]
  },
  {
   "cell_type": "markdown",
   "id": "e79de22f",
   "metadata": {},
   "source": [
    "### 8.\tWrite a Python program to print odd numbers in a List?"
   ]
  },
  {
   "cell_type": "code",
   "execution_count": 13,
   "id": "7368b7a6",
   "metadata": {},
   "outputs": [
    {
     "name": "stdout",
     "output_type": "stream",
     "text": [
      "Enter lenth of list : 5\n",
      "1\n",
      "2\n",
      "3\n",
      "4\n",
      "5\n",
      "list is :  [1, 2, 3, 4, 5]\n",
      "Even number in list are :  [1, 3, 5]\n"
     ]
    }
   ],
   "source": [
    "n = int(input(\"Enter lenth of list : \"))\n",
    "lst = []\n",
    "\n",
    "for i in range(n):\n",
    "    lst.append(int(input()))\n",
    "print(\"list is : \",lst)\n",
    "odd = [i for i in lst if i%2!=0 ]\n",
    "print(\"Even number in list are : \",odd)"
   ]
  },
  {
   "cell_type": "markdown",
   "id": "69ee60a0",
   "metadata": {},
   "source": [
    "### 9.\tWrite a Python program to Remove empty List from List?"
   ]
  },
  {
   "cell_type": "code",
   "execution_count": 14,
   "id": "2ef180df",
   "metadata": {},
   "outputs": [
    {
     "name": "stdout",
     "output_type": "stream",
     "text": [
      "The List : [55, [], 14, 75, [], 96, 80, [], 36]\n",
      "The list after removing empty lists : [55, 14, 75, 96, 80, 36]\n"
     ]
    }
   ],
   "source": [
    "lst = [55,[],14,75,[],96,80,[],36]\n",
    "print(\"The List :\",lst)\n",
    "new_list = [i for i in lst if i != []]\n",
    "print(\"The list after removing empty lists :\" , new_list)"
   ]
  },
  {
   "cell_type": "markdown",
   "id": "4c57080d",
   "metadata": {},
   "source": [
    "### 10.\tWrite a Python program to Cloning or Copying a list?"
   ]
  },
  {
   "cell_type": "code",
   "execution_count": 15,
   "id": "27d43956",
   "metadata": {},
   "outputs": [
    {
     "name": "stdout",
     "output_type": "stream",
     "text": [
      "Enter the lenth of your list : 5\n",
      "7\n",
      "6\n",
      "5662\n",
      "31\n",
      "5\n",
      "The List is  [7, 6, 5662, 31, 5]\n",
      "Clone/copy of lst  [7, 6, 5662, 31, 5]\n"
     ]
    }
   ],
   "source": [
    "n = int(input(\"Enter the lenth of your list : \"))\n",
    "lst = []\n",
    "\n",
    "for i in range(n):\n",
    "    lst.append(int(input()))\n",
    "print(\"The List is \",lst)\n",
    "\n",
    "lst_copy = lst.copy()\n",
    "print(\"Clone/copy of lst \",lst_copy)"
   ]
  },
  {
   "cell_type": "markdown",
   "id": "cb175de5",
   "metadata": {},
   "source": [
    "### 11.\tWrite a Python program to Count occurrences of an element in a list?"
   ]
  },
  {
   "cell_type": "code",
   "execution_count": 19,
   "id": "c1316edb",
   "metadata": {},
   "outputs": [
    {
     "name": "stdout",
     "output_type": "stream",
     "text": [
      "Enter the lenth of your list : 6\n",
      "8\n",
      "8\n",
      "2\n",
      "6\n",
      "5\n",
      "7\n",
      "The List is  [8, 8, 2, 6, 5, 7]\n",
      "Enter the element to find its occurance : 8\n",
      "8 has occured 2 times in the list\n"
     ]
    }
   ],
   "source": [
    "lent = int(input(\"Enter the lenth of your list : \"))\n",
    "lst = []\n",
    "\n",
    "for i in range(lent):\n",
    "    lst.append(int(input()))\n",
    "print(\"The List is \",lst)\n",
    "ele= int(input(\"Enter the element to find its occurance : \"))\n",
    "print(f'{ele} has occured {lst.count(ele)} times in the list')"
   ]
  },
  {
   "cell_type": "code",
   "execution_count": null,
   "id": "ce8b9ac9",
   "metadata": {},
   "outputs": [],
   "source": []
  }
 ],
 "metadata": {
  "kernelspec": {
   "display_name": "Python 3 (ipykernel)",
   "language": "python",
   "name": "python3"
  },
  "language_info": {
   "codemirror_mode": {
    "name": "ipython",
    "version": 3
   },
   "file_extension": ".py",
   "mimetype": "text/x-python",
   "name": "python",
   "nbconvert_exporter": "python",
   "pygments_lexer": "ipython3",
   "version": "3.9.7"
  }
 },
 "nbformat": 4,
 "nbformat_minor": 5
}
