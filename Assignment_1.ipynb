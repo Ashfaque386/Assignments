{
 "cells": [
  {
   "cell_type": "markdown",
   "id": "33785377",
   "metadata": {},
   "source": [
    "### Q1. In the below elements which of them are values or an expression? eg:- values can be integer or string and expressions will be mathematical operators."
   ]
  },
  {
   "cell_type": "raw",
   "id": "07dfcd17",
   "metadata": {},
   "source": [
    "* \n",
    "'hello'\n",
    "-87.8\n",
    "- \n",
    "/ \n",
    "+\t\n",
    "6"
   ]
  },
  {
   "cell_type": "markdown",
   "id": "743aa90c",
   "metadata": {},
   "source": [
    "Values : 'hello', -88.5, 6\n",
    "\n",
    "\n",
    "Expression : *, -, /, +"
   ]
  },
  {
   "cell_type": "markdown",
   "id": "54d57a82",
   "metadata": {},
   "source": [
    "### Q2. What is the difference between string and variable?"
   ]
  },
  {
   "cell_type": "markdown",
   "id": "09b0c6cb",
   "metadata": {},
   "source": [
    "Strings always start and end with quotes while Variable is used to store values/data"
   ]
  },
  {
   "cell_type": "markdown",
   "id": "d5dba4f5",
   "metadata": {},
   "source": [
    "<b>String :</b> A string is a sequence of one or more characters likes letters, numbers or symbols that can be either a constant or a variable. Strings are immutable sequences, meaning they are unchanging. Strings exist within either single quotes (') or double quotes (\") in Python.\n",
    "\n",
    "    Example - 'This is a string in single quotes.'\n",
    "\n",
    "          \"This is a string in double quotes.\"\n",
    "\n",
    "<b>Variables :</b> Variables are symbols that you can use to store data in a program. Strings are data, so we can use them to fill up a variable. In Python, Variable names should start with alphabets, Variable names should not contain any special characters like ^ % $ ! @ # ^ & * ( ) etc and Variable names can contain numbers but you can't start with numbers.\n",
    "\n",
    "    Example - my_str = \"Sammy likes declaring strings.\""
   ]
  },
  {
   "cell_type": "markdown",
   "id": "d271c489",
   "metadata": {},
   "source": [
    "### Q3. Describe three different data types."
   ]
  },
  {
   "cell_type": "markdown",
   "id": "020b55e0",
   "metadata": {},
   "source": [
    "**1. Numeric :** In Python, numeric data type represent the data which has numeric value. Numeric value can be integer, floating number or even complex numbers. These values are defined as int, float and complex class in Python.\n",
    "\n",
    "- Integers – This value is represented by int class. It contains positive or negative whole numbers (without fraction or decimal). In Python there is no limit to how long an integer value can be.\n",
    "- Float – This value is represented by float class. It is a real number with floating point representation. It is specified by a decimal point.\n",
    "- Complex Numbers – Complex number is represented by complex class. It is specified as (real part) + (imaginary part)j. For example – 2+3j\n",
    "\n",
    "**2. Sequence Type :** In Python, sequence is the ordered collection of similar or different data types. Sequences allows to store multiple values in an organized and efficient fashion. There are several sequence types in Python –\n",
    "\n",
    "- String :  Strings are arrays of bytes representing Unicode characters. A string is a collection of one or more characters put in a single quote, double-quote or triple quote. \n",
    "- List : Lists are just like the arrays, declared in other languages which is a ordered collection of data. It is very flexible as the items in a list do not need to be of the same type.\n",
    "- Tuple :  tuple is also an ordered collection of Python objects. The only difference between tuple and list is that tuples are immutable i.e. tuples cannot be modified after it is created. It is represented by tuple class.\n",
    "\n",
    "**3. Boolean :** Data type with one of the two built-in values, True or False. It is denoted by the class bool. True and False with capital 'T' and 'F' are valid booleans otherwise python will throw an error.\n",
    "\n",
    "\n",
    "**4. Set :**  Set is an unordered collection of data type that is iterable, mutable and has no duplicate elements. The order of elements in a set is undefined though it may consist of various elements.\n",
    "\n",
    "**5. Dictionary :** Dictionary in Python is an unordered collection of data values, used to store data values like a map, which unlike other Data Types that hold only single value as an element, Dictionary holds key:value pair. Key-value is provided in the dictionary to make it more optimized. \n",
    "\n",
    "Each key-value pair in a Dictionary is separated by a colon :, \n",
    "whereas each key is separated by a ‘comma’."
   ]
  },
  {
   "cell_type": "markdown",
   "id": "9d5c5d78",
   "metadata": {},
   "source": [
    "### Q4. What is an expression made up of? What do all expressions do?"
   ]
  },
  {
   "cell_type": "markdown",
   "id": "8dafcd7d",
   "metadata": {},
   "source": [
    "An expression is a combination of operators and operands that is interpreted to produce some other value. In any programming language, an expression is evaluated as per the precedence of its operators. All expressions evaluate (that is, reduce) to a single value."
   ]
  },
  {
   "cell_type": "markdown",
   "id": "4d06b1a7",
   "metadata": {},
   "source": [
    "### 5. This assignment statements, like spam = 10. What is the difference between an expression and a statement?"
   ]
  },
  {
   "cell_type": "markdown",
   "id": "6bb002f5",
   "metadata": {},
   "source": [
    "An expression evaluates to a single value. A statement does not."
   ]
  },
  {
   "cell_type": "markdown",
   "id": "46c9324b",
   "metadata": {},
   "source": [
    "### 6. After running the following code, what does the variable bacon contain?\n",
    "bacon = 22\n",
    "\n",
    "\n",
    "bacon + 1"
   ]
  },
  {
   "cell_type": "markdown",
   "id": "b48751ce",
   "metadata": {},
   "source": [
    "It will contan 22"
   ]
  },
  {
   "cell_type": "markdown",
   "id": "724c7a12",
   "metadata": {},
   "source": [
    "### 7. What should the values of the following two terms be?\n",
    "'spam' + 'spamspam'\n",
    "\n",
    "\n",
    "'spam' * 3"
   ]
  },
  {
   "cell_type": "markdown",
   "id": "a5bd5cf7",
   "metadata": {},
   "source": [
    "'spamspamspam' "
   ]
  },
  {
   "cell_type": "markdown",
   "id": "d81e44b8",
   "metadata": {},
   "source": [
    "### 8. Why is eggs a valid variable name while 100 is invalid?"
   ]
  },
  {
   "cell_type": "markdown",
   "id": "b7d29cbe",
   "metadata": {},
   "source": [
    "Because variable names cannot begin with a number."
   ]
  },
  {
   "cell_type": "markdown",
   "id": "0b341935",
   "metadata": {},
   "source": [
    "### 9. What three functions can be used to get the integer, floating-point number, or string version of a value?"
   ]
  },
  {
   "cell_type": "markdown",
   "id": "f347535a",
   "metadata": {},
   "source": [
    "int()</br>\n",
    "float()</br>\n",
    "str()</br>\n",
    "will evaluate to the integer, floating-point number, and string versions of the value passed to them."
   ]
  },
  {
   "cell_type": "markdown",
   "id": "5a22ab7e",
   "metadata": {},
   "source": [
    "### 10. Why does this expression cause an error? How can you fix it?\n",
    "**'I have eaten ' + 99 + ' burritos.'**"
   ]
  },
  {
   "cell_type": "markdown",
   "id": "8d61deff",
   "metadata": {},
   "source": [
    "This expression will give error as 99 is integer and only strings can be concatenated to other strings with the + operator. \n",
    "The correct way is to convert integer to string as -\n",
    "I have eaten ' + str(99) + ' burritos.'"
   ]
  },
  {
   "cell_type": "code",
   "execution_count": null,
   "id": "a7bb9824",
   "metadata": {},
   "outputs": [],
   "source": []
  }
 ],
 "metadata": {
  "kernelspec": {
   "display_name": "Python 3 (ipykernel)",
   "language": "python",
   "name": "python3"
  },
  "language_info": {
   "codemirror_mode": {
    "name": "ipython",
    "version": 3
   },
   "file_extension": ".py",
   "mimetype": "text/x-python",
   "name": "python",
   "nbconvert_exporter": "python",
   "pygments_lexer": "ipython3",
   "version": "3.9.7"
  }
 },
 "nbformat": 4,
 "nbformat_minor": 5
}
