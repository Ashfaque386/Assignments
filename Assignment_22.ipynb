{
 "cells": [
  {
   "cell_type": "markdown",
   "id": "c3cb67d5",
   "metadata": {},
   "source": [
    "### 1. What is the result of the code, and explain?\n",
    "'''\n",
    "\n",
    "    >>> X = 'iNeuron'\n",
    "    >>> def func():\n",
    "            print(X)\n",
    "            \n",
    "    >>> func()\n",
    "\n",
    "'''"
   ]
  },
  {
   "cell_type": "code",
   "execution_count": 1,
   "id": "d070a595",
   "metadata": {},
   "outputs": [
    {
     "name": "stdout",
     "output_type": "stream",
     "text": [
      "iNeuron\n"
     ]
    }
   ],
   "source": [
    "X = 'iNeuron'\n",
    "def func():\n",
    "    print(X)\n",
    "\n",
    "func()"
   ]
  },
  {
   "cell_type": "markdown",
   "id": "105234c2",
   "metadata": {},
   "source": [
    "**The global variables are accessible inside the functions in python. But we can not access function variable out side function. \n",
    "Since x is global variable we are able to print it in side the function solution : 'iNeuron'**"
   ]
  },
  {
   "cell_type": "markdown",
   "id": "4f28e333",
   "metadata": {},
   "source": [
    "### 2. What is the result of the code, and explain?\n",
    "'''\n",
    "\n",
    "    >>> X = 'iNeuron'\n",
    "    >>> def func():\n",
    "    X = 'NI!'\n",
    "    \n",
    "    >>> func()\n",
    "    >>> print(X)\n",
    "    \n",
    "'''"
   ]
  },
  {
   "cell_type": "code",
   "execution_count": 2,
   "id": "1e7563f8",
   "metadata": {},
   "outputs": [],
   "source": [
    "X = 'iNeuron'\n",
    "def func():\n",
    "    X = \"NI!\"\n",
    "func()"
   ]
  },
  {
   "cell_type": "code",
   "execution_count": 3,
   "id": "498b1caa",
   "metadata": {},
   "outputs": [
    {
     "name": "stdout",
     "output_type": "stream",
     "text": [
      "iNeuron\n"
     ]
    }
   ],
   "source": [
    "print(X)"
   ]
  },
  {
   "cell_type": "markdown",
   "id": "3d93fbfe",
   "metadata": {},
   "source": [
    "**The global variables are access in side the functions in python. But we can not access function variable outside function.\n",
    "Since x is golbal variable we are able to print it out side of the function solution = 'iNeuron'**"
   ]
  },
  {
   "cell_type": "markdown",
   "id": "72ed73a1",
   "metadata": {},
   "source": [
    "### 3. What does this code print, and why?\n",
    "'''\n",
    "\n",
    "    >>> X = 'iNeuron'\n",
    "    >>> def func():\n",
    "    X = 'NI'\n",
    "    print(X)\n",
    "    \n",
    "    >>> func()\n",
    "    >>> print(X)\n",
    "\n",
    "\n",
    "'''"
   ]
  },
  {
   "cell_type": "code",
   "execution_count": 4,
   "id": "bec5329a",
   "metadata": {},
   "outputs": [
    {
     "name": "stdout",
     "output_type": "stream",
     "text": [
      "NI\n",
      "iNeuron\n"
     ]
    }
   ],
   "source": [
    "X = 'iNeuron'\n",
    "def func():\n",
    "    X = 'NI'\n",
    "    print(X)\n",
    "\n",
    "func()\n",
    "print(X)"
   ]
  },
  {
   "cell_type": "markdown",
   "id": "b58c44fe",
   "metadata": {},
   "source": [
    "**The global variables are access in side the functions in python. But we can not access function variable outside function. X is updated with 'NI' which is local to function and its immutable. its name space is within the function solution = 'NI!', 'iNeuron'**"
   ]
  },
  {
   "cell_type": "markdown",
   "id": "b6587a61",
   "metadata": {},
   "source": [
    "### 4. What output does this code produce? Why?\n",
    "'''\n",
    "\n",
    "    >>> X = 'iNeuron'\n",
    "    >>> def func():\n",
    "    global X\n",
    "    X = 'NI'\n",
    "    \n",
    "    >>> func()\n",
    "    >>> print(X)\n",
    "\n",
    "\n",
    "'''"
   ]
  },
  {
   "cell_type": "code",
   "execution_count": 5,
   "id": "dcc3c308",
   "metadata": {},
   "outputs": [
    {
     "name": "stdout",
     "output_type": "stream",
     "text": [
      "NI\n"
     ]
    }
   ],
   "source": [
    "X = 'ineuron'\n",
    "def func():\n",
    "    global X\n",
    "    X = 'NI'\n",
    "\n",
    "func()\n",
    "print(X)"
   ]
  },
  {
   "cell_type": "markdown",
   "id": "af466aa0",
   "metadata": {},
   "source": [
    "**since the X in side function is made Global, it will be accesible out side of the function too. Now X will have new value. Solution = 'NI'**"
   ]
  },
  {
   "cell_type": "markdown",
   "id": "b12fb5c6",
   "metadata": {},
   "source": [
    "### 5. What about this code—what’s the output, and why?\n",
    "'''\n",
    "\n",
    "    >>> X = 'iNeuron'\n",
    "    >>> def func():\n",
    "    X = 'NI'\n",
    "    def nested():\n",
    "    print(X)\n",
    "    nested()\n",
    "\n",
    "\n",
    "    >>> func()\n",
    "    >>> X\n",
    "\n",
    "\n",
    "'''"
   ]
  },
  {
   "cell_type": "code",
   "execution_count": 10,
   "id": "38889abe",
   "metadata": {},
   "outputs": [
    {
     "name": "stdout",
     "output_type": "stream",
     "text": [
      "iNeuron\n"
     ]
    },
    {
     "data": {
      "text/plain": [
       "'iNeuron'"
      ]
     },
     "execution_count": 10,
     "metadata": {},
     "output_type": "execute_result"
    }
   ],
   "source": [
    "X = 'iNeuron'\n",
    "def func():\n",
    "    X = 'NI'\n",
    "\n",
    "def nested():\n",
    "    print(X)\n",
    "    \n",
    "nested()\n",
    "func()\n",
    "X"
   ]
  },
  {
   "cell_type": "markdown",
   "id": "effd6e58",
   "metadata": {},
   "source": [
    "**The nested() function will print 'iNeuron', Then func() does not display anything,and x ='NI' is not accessible outside the function. Solution : 'iNeuron'**"
   ]
  },
  {
   "cell_type": "markdown",
   "id": "f913c029",
   "metadata": {},
   "source": [
    "### 6. How about this code: what is its output in Python 3, and explain?\n",
    "'''\n",
    "\n",
    "    >>> def func():\n",
    "    X = 'NI'\n",
    "    def nested():\n",
    "    nonlocal X\n",
    "    X = 'Spam'\n",
    "    nested()\n",
    "    print(X)\n",
    "\n",
    "\n",
    "    >>> func()\n",
    "    \n",
    "'''"
   ]
  },
  {
   "cell_type": "code",
   "execution_count": 11,
   "id": "f7fcdfaa",
   "metadata": {},
   "outputs": [
    {
     "name": "stdout",
     "output_type": "stream",
     "text": [
      "spam\n"
     ]
    }
   ],
   "source": [
    "def func():\n",
    "    X = 'NI'\n",
    "    def nested():\n",
    "        nonlocal X\n",
    "        X = 'spam'\n",
    "    nested()\n",
    "    print(X)\n",
    "\n",
    "func()"
   ]
  },
  {
   "cell_type": "markdown",
   "id": "40a93a9b",
   "metadata": {},
   "source": [
    "**Nonlocal variables are used in nested functions whose local scope is not defined. This means that the variable can be neither the local nor the global. it print the updated value from nested function\n",
    "Solution : 'spam'**"
   ]
  },
  {
   "cell_type": "code",
   "execution_count": null,
   "id": "3eb62904",
   "metadata": {},
   "outputs": [],
   "source": []
  }
 ],
 "metadata": {
  "kernelspec": {
   "display_name": "Python 3 (ipykernel)",
   "language": "python",
   "name": "python3"
  },
  "language_info": {
   "codemirror_mode": {
    "name": "ipython",
    "version": 3
   },
   "file_extension": ".py",
   "mimetype": "text/x-python",
   "name": "python",
   "nbconvert_exporter": "python",
   "pygments_lexer": "ipython3",
   "version": "3.9.7"
  }
 },
 "nbformat": 4,
 "nbformat_minor": 5
}
