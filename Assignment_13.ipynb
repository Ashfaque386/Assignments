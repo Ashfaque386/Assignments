{
 "cells": [
  {
   "cell_type": "markdown",
   "id": "cb751aed",
   "metadata": {},
   "source": [
    "### 1. What advantages do Excel spreadsheets have over CSV spreadsheets?"
   ]
  },
  {
   "cell_type": "markdown",
   "id": "7ca1f59b",
   "metadata": {},
   "source": [
    "- It is a binary file that holds information about all the worksheets in a workbook\n",
    "- An Excel not only stores data but can also do operations on the data\n",
    "- Files saved in excel cannot be opened or edited by text editors\n",
    "- large files user is much easier in Excel for the end user. Also, you can have additional functions like selecting individual cells for import, convert dates and time automatically, reading formulas and their results, filters, sorting, etc\n",
    "- Apart from text, data can also be stored in form of charts and graphs\n",
    "- Excel can connect to external data sources to fetch data. You can use custom add-in in Excel to increase its functionality.\n",
    "- Excel allows for Review of Data with detailed tracking and commenting feature\n",
    "- In Excel, spreadsheets can have values of data types other than strings; cells can have different fonts, sizes, or color settings; cells can have varying widths and heights; adjacent cells can be merged"
   ]
  },
  {
   "cell_type": "markdown",
   "id": "0d01977d",
   "metadata": {},
   "source": [
    "### 2.What do you pass to csv.reader() and csv.writer() to create reader and writer objects?"
   ]
  },
  {
   "cell_type": "markdown",
   "id": "623fe5e3",
   "metadata": {},
   "source": [
    "We can pass file path inside reader and writer objects"
   ]
  },
  {
   "cell_type": "code",
   "execution_count": 1,
   "id": "abdad36f",
   "metadata": {},
   "outputs": [
    {
     "name": "stdout",
     "output_type": "stream",
     "text": [
      "['Username; Identifier;One-time password;Recovery code;First name;Last name;Department;Location']\n",
      "['booker12;9012;12se74;rb9012;Rachel;Booker;Sales;Manchester']\n",
      "['grey07;2070;04ap67;lg2070;Laura;Grey;Depot;London']\n",
      "['johnson81;4081;30no86;cj4081;Craig;Johnson;Depot;London']\n",
      "['jenkins46;9346;14ju73;mj9346;Mary;Jenkins;Engineering;Manchester']\n",
      "['smith79;5079;09ja61;js5079;Jamie;Smith;Engineering;Manchester']\n"
     ]
    }
   ],
   "source": [
    "import csv\n",
    "with open('selectiveFolder/Sample.csv', 'r') as file:\n",
    "    reader = csv.reader(file)\n",
    "    for row in reader:\n",
    "        print(row)"
   ]
  },
  {
   "cell_type": "code",
   "execution_count": 2,
   "id": "d48bacdd",
   "metadata": {},
   "outputs": [],
   "source": [
    "import csv\n",
    "with open('selectiveFolder/protagonist.csv', 'w', newline='') as file:\n",
    "    writer = csv.writer(file)\n",
    "    writer.writerow([\"SN\", \"Movie\", \"Protagonist\"])\n",
    "    writer.writerow([1, \"Lord of the Rings\", \"Frodo Baggins\"])\n",
    "    writer.writerow([2, \"Harry Potter\", \"Harry Potter\"])"
   ]
  },
  {
   "cell_type": "markdown",
   "id": "dc17a7f9",
   "metadata": {},
   "source": [
    "### 3. What modes do File objects for reader and writer objects need to be opened in?"
   ]
  },
  {
   "cell_type": "markdown",
   "id": "98443239",
   "metadata": {},
   "source": [
    "mode means the operation for which the file has to be opened like **'r'** for reading, **'w'** for writing, **'+'** for both reading and writing, **'a'** for appending at the end of an existing file. The default is the read mode. In addition, we can specify whether the file will be handled as binary **'b'** or text mode."
   ]
  },
  {
   "cell_type": "markdown",
   "id": "9b992ef8",
   "metadata": {},
   "source": [
    "### 4. What method takes a list argument and writes it to a CSV file?"
   ]
  },
  {
   "cell_type": "markdown",
   "id": "111affd4",
   "metadata": {},
   "source": [
    "The writerow() method"
   ]
  },
  {
   "cell_type": "code",
   "execution_count": 4,
   "id": "6ce06b76",
   "metadata": {},
   "outputs": [],
   "source": [
    "import csv\n",
    "with open('selectiveFolder/protagonist.csv', 'w', newline='') as file:\n",
    "    writer = csv.writer(file)\n",
    "    writer.writerow([\"SN\", \"Movie\", \"Protagonist\"])\n",
    "    writer.writerow([1, \"Hobbits\", \"Frodo Baggins\"])"
   ]
  },
  {
   "cell_type": "markdown",
   "id": "7127e745",
   "metadata": {},
   "source": [
    "### 5. What do the keyword arguments delimiter and line terminator do?"
   ]
  },
  {
   "cell_type": "markdown",
   "id": "2f5f1ab6",
   "metadata": {},
   "source": [
    "- The delimiter argument changes the string used to separate cells in a row.\n",
    "- The line terminator argument changes the string used to separate rows."
   ]
  },
  {
   "cell_type": "markdown",
   "id": "31d169ba",
   "metadata": {},
   "source": [
    "### 6. What function takes a string of JSON data and returns a Python data structure?"
   ]
  },
  {
   "cell_type": "markdown",
   "id": "0570e0d8",
   "metadata": {},
   "source": [
    "**json.loads()** function takes a string of JSON data and returns a Python data structure"
   ]
  },
  {
   "cell_type": "markdown",
   "id": "d70fab63",
   "metadata": {},
   "source": [
    "### 7. What function takes a Python data structure and returns a string of JSON data?"
   ]
  },
  {
   "cell_type": "markdown",
   "id": "9d550204",
   "metadata": {},
   "source": [
    "**json.dumps()** function takes a Python data structure and returns a string of JSON data"
   ]
  }
 ],
 "metadata": {
  "kernelspec": {
   "display_name": "Python 3 (ipykernel)",
   "language": "python",
   "name": "python3"
  },
  "language_info": {
   "codemirror_mode": {
    "name": "ipython",
    "version": 3
   },
   "file_extension": ".py",
   "mimetype": "text/x-python",
   "name": "python",
   "nbconvert_exporter": "python",
   "pygments_lexer": "ipython3",
   "version": "3.9.7"
  }
 },
 "nbformat": 4,
 "nbformat_minor": 5
}
