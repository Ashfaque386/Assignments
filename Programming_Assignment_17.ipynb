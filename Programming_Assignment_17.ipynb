{
 "cells": [
  {
   "cell_type": "markdown",
   "id": "e38f53d6",
   "metadata": {},
   "source": [
    "### Question1. Create a function that takes three arguments a, b, c and returns the sum of the numbers that are evenly divided by c from the range a, b inclusive.\n",
    "    Examples\n",
    "    evenly_divisible(1, 10, 20) ➞ 0\n",
    "    # No number between 1 and 10 can be evenly divided by 20.\n",
    "\n",
    "    evenly_divisible(1, 10, 2) ➞ 30\n",
    "    # 2 + 4 + 6 + 8 + 10 = 30\n",
    "\n",
    "    evenly_divisible(1, 10, 3) ➞ 18\n",
    "    # 3 + 6 + 9 = 18"
   ]
  },
  {
   "cell_type": "code",
   "execution_count": 2,
   "id": "6bb94f27",
   "metadata": {},
   "outputs": [
    {
     "data": {
      "text/plain": [
       "0"
      ]
     },
     "execution_count": 2,
     "metadata": {},
     "output_type": "execute_result"
    }
   ],
   "source": [
    "def evenly_divisible(a,b,c):\n",
    "    s = 0\n",
    "    for i in range(a,b+1):\n",
    "        if i%c==0:\n",
    "            s += i\n",
    "    return s\n",
    "\n",
    "evenly_divisible(1, 10, 20)"
   ]
  },
  {
   "cell_type": "code",
   "execution_count": 3,
   "id": "a478b864",
   "metadata": {},
   "outputs": [
    {
     "data": {
      "text/plain": [
       "30"
      ]
     },
     "execution_count": 3,
     "metadata": {},
     "output_type": "execute_result"
    }
   ],
   "source": [
    "evenly_divisible(1, 10, 2)"
   ]
  },
  {
   "cell_type": "code",
   "execution_count": 4,
   "id": "f8671db7",
   "metadata": {},
   "outputs": [
    {
     "data": {
      "text/plain": [
       "18"
      ]
     },
     "execution_count": 4,
     "metadata": {},
     "output_type": "execute_result"
    }
   ],
   "source": [
    "evenly_divisible(1, 10, 3)"
   ]
  },
  {
   "cell_type": "markdown",
   "id": "b3380148",
   "metadata": {},
   "source": [
    "### Question2. Create a function that returns True if a given inequality expression is correct and False otherwise.\n",
    "    Examples\n",
    "    correct_signs(\"3 < 7 < 11\") ➞ True\n",
    "\n",
    "    correct_signs(\"13 > 44 > 33 > 1\") ➞ False\n",
    "\n",
    "    correct_signs(\"1 < 2 < 6 < 9 > 3\") ➞ True"
   ]
  },
  {
   "cell_type": "code",
   "execution_count": 5,
   "id": "7b0e0c3d",
   "metadata": {
    "scrolled": true
   },
   "outputs": [
    {
     "data": {
      "text/plain": [
       "True"
      ]
     },
     "execution_count": 5,
     "metadata": {},
     "output_type": "execute_result"
    }
   ],
   "source": [
    "def correct_signs( txt ): \n",
    "    return eval( txt )\n",
    "\n",
    "correct_signs(\"3 < 7 < 11\")"
   ]
  },
  {
   "cell_type": "code",
   "execution_count": 6,
   "id": "7ccf0500",
   "metadata": {},
   "outputs": [
    {
     "data": {
      "text/plain": [
       "False"
      ]
     },
     "execution_count": 6,
     "metadata": {},
     "output_type": "execute_result"
    }
   ],
   "source": [
    "correct_signs(\"13 > 44 > 33 > 1\")"
   ]
  },
  {
   "cell_type": "code",
   "execution_count": 7,
   "id": "5bc77f0d",
   "metadata": {},
   "outputs": [
    {
     "data": {
      "text/plain": [
       "True"
      ]
     },
     "execution_count": 7,
     "metadata": {},
     "output_type": "execute_result"
    }
   ],
   "source": [
    "correct_signs(\"1 < 2 < 6 < 9 > 3\")"
   ]
  },
  {
   "cell_type": "markdown",
   "id": "a8baadad",
   "metadata": {},
   "source": [
    "### Question3. Create a function that replaces all the vowels in a string with a specified character.\n",
    "    Examples\n",
    "    replace_vowels(\"the aardvark\", \"#\") ➞ \"th# ##rdv#rk\"\n",
    "\n",
    "    replace_vowels(\"minnie mouse\", \"?\") ➞ \"m?nn?? m??s?\"\n",
    "\n",
    "    replace_vowels(\"shakespeare\", \"*\") ➞ \"sh*k*sp**r*\""
   ]
  },
  {
   "cell_type": "code",
   "execution_count": 8,
   "id": "74c66f0b",
   "metadata": {},
   "outputs": [],
   "source": [
    "def replace_vowels(str, s):\n",
    "    vowels = 'AEIOUaeiou'\n",
    "    for ele in vowels:\n",
    "        str = str.replace(ele,s)\n",
    "    return str"
   ]
  },
  {
   "cell_type": "code",
   "execution_count": 9,
   "id": "6b40f514",
   "metadata": {},
   "outputs": [
    {
     "data": {
      "text/plain": [
       "'th# ##rdv#rk'"
      ]
     },
     "execution_count": 9,
     "metadata": {},
     "output_type": "execute_result"
    }
   ],
   "source": [
    "replace_vowels(\"the aardvark\", \"#\")"
   ]
  },
  {
   "cell_type": "code",
   "execution_count": 10,
   "id": "2db58118",
   "metadata": {},
   "outputs": [
    {
     "data": {
      "text/plain": [
       "'m?nn?? m??s?'"
      ]
     },
     "execution_count": 10,
     "metadata": {},
     "output_type": "execute_result"
    }
   ],
   "source": [
    "replace_vowels(\"minnie mouse\", \"?\")"
   ]
  },
  {
   "cell_type": "code",
   "execution_count": 11,
   "id": "4d039e31",
   "metadata": {},
   "outputs": [
    {
     "data": {
      "text/plain": [
       "'sh*k*sp**r*'"
      ]
     },
     "execution_count": 11,
     "metadata": {},
     "output_type": "execute_result"
    }
   ],
   "source": [
    "replace_vowels(\"shakespeare\", \"*\")"
   ]
  },
  {
   "cell_type": "markdown",
   "id": "1490743c",
   "metadata": {},
   "source": [
    "### Question4. Write a function that calculates the factorial of a number recursively.\n",
    "    Examples\n",
    "    factorial(5) ➞ 120\n",
    "\n",
    "    factorial(3) ➞ 6\n",
    "\n",
    "    factorial(1) ➞ 1\n",
    "\n",
    "    factorial(0) ➞ 1"
   ]
  },
  {
   "cell_type": "code",
   "execution_count": 12,
   "id": "1683afdc",
   "metadata": {},
   "outputs": [],
   "source": [
    "def factorial(n):\n",
    "    if n==0:\n",
    "        return 1   \n",
    "    return n * factorial(n-1)"
   ]
  },
  {
   "cell_type": "code",
   "execution_count": 14,
   "id": "de9b3581",
   "metadata": {},
   "outputs": [
    {
     "data": {
      "text/plain": [
       "120"
      ]
     },
     "execution_count": 14,
     "metadata": {},
     "output_type": "execute_result"
    }
   ],
   "source": [
    "factorial(5)"
   ]
  },
  {
   "cell_type": "code",
   "execution_count": 15,
   "id": "922c2953",
   "metadata": {},
   "outputs": [
    {
     "data": {
      "text/plain": [
       "6"
      ]
     },
     "execution_count": 15,
     "metadata": {},
     "output_type": "execute_result"
    }
   ],
   "source": [
    "factorial(3)"
   ]
  },
  {
   "cell_type": "code",
   "execution_count": 16,
   "id": "ba37f3a2",
   "metadata": {},
   "outputs": [
    {
     "data": {
      "text/plain": [
       "1"
      ]
     },
     "execution_count": 16,
     "metadata": {},
     "output_type": "execute_result"
    }
   ],
   "source": [
    "factorial(1)"
   ]
  },
  {
   "cell_type": "markdown",
   "id": "91ba3331",
   "metadata": {},
   "source": [
    "### Question 5. Hamming distance is the number of characters that differ between two strings.\n",
    "    To illustrate:\n",
    "    String1: \"abcbba\"\n",
    "    String2: \"abcbda\"\n",
    "\n",
    "    Hamming Distance: 1 - \"b\" vs. \"d\" is the only difference.\n",
    "    Create a function that computes the hamming distance between two strings.\n",
    "    Examples\n",
    "    hamming_distance(\"abcde\", \"bcdef\") ➞ 5\n",
    "\n",
    "    hamming_distance(\"abcde\", \"abcde\") ➞ 0\n",
    "\n",
    "    hamming_distance(\"strong\", \"strung\") ➞ 1\n"
   ]
  },
  {
   "cell_type": "code",
   "execution_count": 25,
   "id": "8e8d9ae3",
   "metadata": {},
   "outputs": [],
   "source": [
    "def hamming_distance(str1,str2):\n",
    "    count = 0\n",
    "    i = 0\n",
    "    while i in range(len(str1)):\n",
    "        if str1[i] != str2[i]:\n",
    "            count += 1\n",
    "        i += 1\n",
    "    return count"
   ]
  },
  {
   "cell_type": "code",
   "execution_count": 26,
   "id": "f2e0fec6",
   "metadata": {},
   "outputs": [
    {
     "data": {
      "text/plain": [
       "5"
      ]
     },
     "execution_count": 26,
     "metadata": {},
     "output_type": "execute_result"
    }
   ],
   "source": [
    "hamming_distance(\"abcde\", \"bcdef\")"
   ]
  },
  {
   "cell_type": "code",
   "execution_count": 27,
   "id": "31c37b67",
   "metadata": {},
   "outputs": [
    {
     "data": {
      "text/plain": [
       "0"
      ]
     },
     "execution_count": 27,
     "metadata": {},
     "output_type": "execute_result"
    }
   ],
   "source": [
    "hamming_distance(\"abcde\", \"abcde\")"
   ]
  },
  {
   "cell_type": "code",
   "execution_count": 28,
   "id": "222e96e7",
   "metadata": {},
   "outputs": [
    {
     "data": {
      "text/plain": [
       "1"
      ]
     },
     "execution_count": 28,
     "metadata": {},
     "output_type": "execute_result"
    }
   ],
   "source": [
    "hamming_distance(\"strong\", \"strung\")"
   ]
  },
  {
   "cell_type": "code",
   "execution_count": null,
   "id": "90021536",
   "metadata": {},
   "outputs": [],
   "source": []
  }
 ],
 "metadata": {
  "kernelspec": {
   "display_name": "Python 3 (ipykernel)",
   "language": "python",
   "name": "python3"
  },
  "language_info": {
   "codemirror_mode": {
    "name": "ipython",
    "version": 3
   },
   "file_extension": ".py",
   "mimetype": "text/x-python",
   "name": "python",
   "nbconvert_exporter": "python",
   "pygments_lexer": "ipython3",
   "version": "3.9.7"
  }
 },
 "nbformat": 4,
 "nbformat_minor": 5
}
