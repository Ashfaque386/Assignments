{
 "cells": [
  {
   "cell_type": "markdown",
   "id": "a051da8e",
   "metadata": {},
   "source": [
    "### 1.\tWrite a Python Program to Find LCM?"
   ]
  },
  {
   "cell_type": "code",
   "execution_count": 2,
   "id": "8831f576",
   "metadata": {},
   "outputs": [
    {
     "name": "stdout",
     "output_type": "stream",
     "text": [
      "Enter num1 : 24\n",
      "Enter num2 : 54\n",
      "The LCM of 24 and 54 is 216\n"
     ]
    }
   ],
   "source": [
    "x = int(input(\"Enter num1 : \"))\n",
    "y = int(input(\"Enter num2 : \"))\n",
    "\n",
    "if x > y:\n",
    "    greater = x\n",
    "else:\n",
    "    greater = y\n",
    "    \n",
    "while(True):\n",
    "    if greater % x == 0 and greater % y == 0 :\n",
    "        lcm = greater\n",
    "        break\n",
    "    greater+=1\n",
    "    \n",
    "print(f\"The LCM of {x} and {y} is {lcm}\")"
   ]
  },
  {
   "cell_type": "markdown",
   "id": "a7f88ceb",
   "metadata": {},
   "source": [
    "### 2.\tWrite a Python Program to Find HCF?"
   ]
  },
  {
   "cell_type": "code",
   "execution_count": 7,
   "id": "5fe5eb8f",
   "metadata": {},
   "outputs": [
    {
     "name": "stdout",
     "output_type": "stream",
     "text": [
      "Enter num1 : 56\n",
      "Enter num2 : 9\n",
      "The HCF of 56 and 9 is : 1\n"
     ]
    }
   ],
   "source": [
    "x = int(input(\"Enter num1 : \"))\n",
    "y = int(input(\"Enter num2 : \"))\n",
    "\n",
    "if x > y:\n",
    "    smaller = y\n",
    "else:\n",
    "    smaller = x\n",
    "    \n",
    "for i in range(1, smaller+1):\n",
    "    if x % i == 0 and y % i == 0:\n",
    "        hcf = i \n",
    "print(f\"The HCF of {x} and {y} is : {hcf}\")"
   ]
  },
  {
   "cell_type": "markdown",
   "id": "580ac1cd",
   "metadata": {},
   "source": [
    "### 3.\tWrite a Python Program to Convert Decimal to Binary, Octal and Hexadecimal?"
   ]
  },
  {
   "cell_type": "code",
   "execution_count": 9,
   "id": "023ef2fd",
   "metadata": {},
   "outputs": [
    {
     "name": "stdout",
     "output_type": "stream",
     "text": [
      "Enter number :9\n",
      "0b1001 : in binary\n",
      "0o11 : in Octal\n",
      "0x9 : in Hexadecimal\n"
     ]
    }
   ],
   "source": [
    "x=int(input(\"Enter number :\"))\n",
    "\n",
    "print(f\"{bin(x)} : in binary\")\n",
    "print(f\"{oct(x)} : in Octal\")\n",
    "print(f\"{hex(x)} : in Hexadecimal\")"
   ]
  },
  {
   "cell_type": "markdown",
   "id": "655f773e",
   "metadata": {},
   "source": [
    "### 4.\tWrite a Python Program To Find ASCII value of a character?"
   ]
  },
  {
   "cell_type": "code",
   "execution_count": 11,
   "id": "a6178fd3",
   "metadata": {},
   "outputs": [
    {
     "name": "stdout",
     "output_type": "stream",
     "text": [
      "Enter Character: f\n",
      "The ASCII value of f is : 102\n"
     ]
    }
   ],
   "source": [
    "s = input(\"Enter Character: \")\n",
    "\n",
    "print(f\"The ASCII value of {s} is : {ord(s)}\")"
   ]
  },
  {
   "cell_type": "markdown",
   "id": "479c7679",
   "metadata": {},
   "source": [
    "### 5.\tWrite a Python Program to Make a Simple Calculator with 4 basic mathematical operations?"
   ]
  },
  {
   "cell_type": "code",
   "execution_count": 12,
   "id": "8f1d4ca6",
   "metadata": {},
   "outputs": [
    {
     "name": "stdout",
     "output_type": "stream",
     "text": [
      "Please select the operation.\n",
      "a. Add\n",
      "b. Subtract\n",
      "c. Multiply\n",
      "d. Divide\n",
      "Please enter choice (a/ b/ c/ d): c\n",
      "Please enter the first number: 8\n",
      "Please enter the second number: 5\n",
      "The Multiplication of 8 and 5 is : 40\n"
     ]
    }
   ],
   "source": [
    "def add(x,y):\n",
    "    \"\"\"This function returns Addition of x and y\"\"\"\n",
    "    return x+y\n",
    "\n",
    "def sub(x,y):\n",
    "    \"\"\"This function return Substraction of x and y\"\"\"\n",
    "    return x-y\n",
    "\n",
    "def mul(x,y):\n",
    "    \"\"\"This function return Multiplication of x and y\"\"\"\n",
    "    return x*y\n",
    "\n",
    "def div(x,y):\n",
    "    \"\"\"This function return Division of x and y\"\"\"\n",
    "    return x/y\n",
    "\n",
    "print (\"Please select the operation.\")    \n",
    "print (\"a. Add\")    \n",
    "print (\"b. Subtract\")    \n",
    "print (\"c. Multiply\")    \n",
    "print (\"d. Divide\")\n",
    "\n",
    "operation = input(\"Please enter choice (a/ b/ c/ d): \")\n",
    "x = int (input (\"Please enter the first number: \"))    \n",
    "y = int (input (\"Please enter the second number: \"))\n",
    "\n",
    "if operation == \"a\":\n",
    "    print(f\"The Sum of {x} and {y} is : {add(x,y)}\")\n",
    "elif operation == \"b\":\n",
    "    print(f\"The Substraction of {x} and {y} is : {sub(x,y)}\")\n",
    "elif operation == \"c\":\n",
    "    print(f\"The Multiplication of {x} and {y} is : {mul(x,y)}\")\n",
    "elif operation == \"d\":\n",
    "    print(f\"The Division of {x} and {y} is : {div(x,y)}\")\n",
    "else:\n",
    "    print(\"Invalid input\")"
   ]
  },
  {
   "cell_type": "code",
   "execution_count": null,
   "id": "56aa32bb",
   "metadata": {},
   "outputs": [],
   "source": []
  }
 ],
 "metadata": {
  "kernelspec": {
   "display_name": "Python 3 (ipykernel)",
   "language": "python",
   "name": "python3"
  },
  "language_info": {
   "codemirror_mode": {
    "name": "ipython",
    "version": 3
   },
   "file_extension": ".py",
   "mimetype": "text/x-python",
   "name": "python",
   "nbconvert_exporter": "python",
   "pygments_lexer": "ipython3",
   "version": "3.9.7"
  }
 },
 "nbformat": 4,
 "nbformat_minor": 5
}
