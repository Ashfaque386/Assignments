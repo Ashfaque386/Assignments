{
 "cells": [
  {
   "cell_type": "markdown",
   "id": "65b741aa",
   "metadata": {},
   "source": [
    "### Question1. Write a function that stutters a word as if someone is struggling to read it. The first two letters are repeated twice with an ellipsis ... and space after each, and then the word is pronounced with a question mark ?.\n",
    "    Examples\n",
    "    stutter(\"incredible\") ➞ \"in... in... incredible?\"\n",
    "\n",
    "    stutter(\"enthusiastic\") ➞ \"en... en... enthusiastic?\"\n",
    "\n",
    "    stutter(\"outstanding\") ➞ \"ou... ou... outstanding?\"\n",
    "\n",
    "    Hint :- Assume all input is in lower case and at least two characters long."
   ]
  },
  {
   "cell_type": "code",
   "execution_count": 4,
   "id": "586d076d",
   "metadata": {},
   "outputs": [
    {
     "name": "stdout",
     "output_type": "stream",
     "text": [
      "Enter word : incredible\n"
     ]
    },
    {
     "data": {
      "text/plain": [
       "'in... in... incredible?'"
      ]
     },
     "execution_count": 4,
     "metadata": {},
     "output_type": "execute_result"
    }
   ],
   "source": [
    "def shutter(word):\n",
    "    return f'{word[:2]}... {word[:2]}... {word}?'\n",
    "word = input(\"Enter word : \")\n",
    "shutter(word)"
   ]
  },
  {
   "cell_type": "code",
   "execution_count": 5,
   "id": "8c9c8922",
   "metadata": {},
   "outputs": [
    {
     "name": "stdout",
     "output_type": "stream",
     "text": [
      "Enter word : enthusiastic\n"
     ]
    },
    {
     "data": {
      "text/plain": [
       "'en... en... enthusiastic?'"
      ]
     },
     "execution_count": 5,
     "metadata": {},
     "output_type": "execute_result"
    }
   ],
   "source": [
    "word = input(\"Enter word : \")\n",
    "shutter(word)"
   ]
  },
  {
   "cell_type": "code",
   "execution_count": 6,
   "id": "10b19029",
   "metadata": {},
   "outputs": [
    {
     "name": "stdout",
     "output_type": "stream",
     "text": [
      "Enter word : outstanding\n"
     ]
    },
    {
     "data": {
      "text/plain": [
       "'ou... ou... outstanding?'"
      ]
     },
     "execution_count": 6,
     "metadata": {},
     "output_type": "execute_result"
    }
   ],
   "source": [
    "word = input(\"Enter word : \")\n",
    "shutter(word)"
   ]
  },
  {
   "cell_type": "markdown",
   "id": "c2fc39d5",
   "metadata": {},
   "source": [
    "### Question 2.Create a function that takes an angle in radians and returns the corresponding angle in degrees rounded to one decimal place.\n",
    "    Examples\n",
    "    radians_to_degrees(1) ➞ 57.3\n",
    "\n",
    "    radians_to_degrees(20) ➞ 1145.9\n",
    "\n",
    "    radians_to_degrees(50) ➞ 2864.8"
   ]
  },
  {
   "cell_type": "code",
   "execution_count": 8,
   "id": "4b7f5e30",
   "metadata": {},
   "outputs": [
    {
     "name": "stdout",
     "output_type": "stream",
     "text": [
      "Enter the Radian : 1\n",
      "Degree :  57.3\n"
     ]
    }
   ],
   "source": [
    "def radians_to_degrees(radian):\n",
    "    pi = 3.14159\n",
    "    degree = round(radian * (180/pi),1)\n",
    "    return degree\n",
    "\n",
    "radian = float(input('Enter the Radian : '))\n",
    "print(\"Degree : \",radians_to_degrees(radian))"
   ]
  },
  {
   "cell_type": "code",
   "execution_count": 9,
   "id": "dd3a3861",
   "metadata": {},
   "outputs": [
    {
     "name": "stdout",
     "output_type": "stream",
     "text": [
      "Enter the Radian : 20\n",
      "Degree :  1145.9\n"
     ]
    }
   ],
   "source": [
    "radian = float(input('Enter the Radian : '))\n",
    "print(\"Degree : \",radians_to_degrees(radian))"
   ]
  },
  {
   "cell_type": "code",
   "execution_count": 10,
   "id": "0bb5fddd",
   "metadata": {},
   "outputs": [
    {
     "name": "stdout",
     "output_type": "stream",
     "text": [
      "Enter the Radian : 50\n",
      "Degree :  2864.8\n"
     ]
    }
   ],
   "source": [
    "radian = float(input('Enter the Radian : '))\n",
    "print(\"Degree : \",radians_to_degrees(radian))"
   ]
  },
  {
   "cell_type": "markdown",
   "id": "851875ea",
   "metadata": {},
   "source": [
    "### Question 3. In this challenge, establish if a given integer num is a Curzon number. If 1 plus 2 elevated to num is exactly divisible by 1 plus 2 multiplied by num, then num is a Curzon number.\n",
    "    Given a non-negative integer num, implement a function that returns True if num is a Curzon number, or False otherwise.\n",
    "    Examples\n",
    "    is_curzon(5) ➞ True\n",
    "    # 2 ** 5 + 1 = 33\n",
    "    # 2 * 5 + 1 = 11\n",
    "    # 33 is a multiple of 11\n",
    "\n",
    "    is_curzon(10) ➞ False\n",
    "    # 2 ** 10 + 1 = 1025\n",
    "    # 2 * 10 + 1 = 21\n",
    "    # 1025 is not a multiple of 21\n",
    "\n",
    "    is_curzon(14) ➞ True\n",
    "    # 2 ** 14 + 1 = 16385\n",
    "    # 2 * 14 + 1 = 29\n",
    "    # 16385 is a multiple of 29"
   ]
  },
  {
   "cell_type": "code",
   "execution_count": 24,
   "id": "bd93430c",
   "metadata": {},
   "outputs": [
    {
     "name": "stdout",
     "output_type": "stream",
     "text": [
      "Enter a number : 5\n",
      "5 is Curzon Number\n"
     ]
    }
   ],
   "source": [
    "def CurzonNumber(n):\n",
    "    power, product = 0, 0\n",
    "    power = pow(2, n) + 1\n",
    "    product = 2 * n + 1\n",
    "    if (power % product == 0):\n",
    "        print(n, \"is Curzon Number\")\n",
    "    else:\n",
    "        print(n, \"is not a Curzon Number\")\n",
    "    \n",
    "n = int(input('Enter a number : '))\n",
    "CurzonNumber(n)"
   ]
  },
  {
   "cell_type": "code",
   "execution_count": 25,
   "id": "33569717",
   "metadata": {},
   "outputs": [
    {
     "name": "stdout",
     "output_type": "stream",
     "text": [
      "Enter a number : 10\n",
      "10 is not a Curzon Number\n"
     ]
    }
   ],
   "source": [
    "n = int(input('Enter a number : '))\n",
    "CurzonNumber(n)"
   ]
  },
  {
   "cell_type": "code",
   "execution_count": 26,
   "id": "aed40cc3",
   "metadata": {},
   "outputs": [
    {
     "name": "stdout",
     "output_type": "stream",
     "text": [
      "Enter a number : 14\n",
      "14 is Curzon Number\n"
     ]
    }
   ],
   "source": [
    "n = int(input('Enter a number : '))\n",
    "CurzonNumber(n)"
   ]
  },
  {
   "cell_type": "markdown",
   "id": "3174cf10",
   "metadata": {},
   "source": [
    "### Question 4.Given the side length x find the area of a hexagon.\n",
    " \n",
    "    Examples\n",
    "    area_of_hexagon(1) ➞ 2.6\n",
    "\n",
    "    area_of_hexagon(2) ➞ 10.4\n",
    "\n",
    "    area_of_hexagon(3) ➞ 23.4"
   ]
  },
  {
   "cell_type": "code",
   "execution_count": 17,
   "id": "a7fb13a9",
   "metadata": {},
   "outputs": [],
   "source": [
    "import math"
   ]
  },
  {
   "cell_type": "code",
   "execution_count": 18,
   "id": "fb600804",
   "metadata": {},
   "outputs": [
    {
     "name": "stdout",
     "output_type": "stream",
     "text": [
      "Enter the length : 1\n",
      "Area of hexagon : 2.6\n"
     ]
    }
   ],
   "source": [
    "def area_of_hexagon(s):     \n",
    "    return round((3 * math.sqrt(3) * (s * s)) / 2,1);\n",
    "     \n",
    "s = float(input('Enter the length : '))\n",
    "print(f'Area of hexagon : {area_of_hexagon(s)}')"
   ]
  },
  {
   "cell_type": "code",
   "execution_count": 19,
   "id": "65254820",
   "metadata": {},
   "outputs": [
    {
     "name": "stdout",
     "output_type": "stream",
     "text": [
      "Enter the length : 2\n",
      "Area of hexagon : 10.4\n"
     ]
    }
   ],
   "source": [
    "s = float(input('Enter the length : '))\n",
    "print(f'Area of hexagon : {area_of_hexagon(s)}')"
   ]
  },
  {
   "cell_type": "code",
   "execution_count": 20,
   "id": "3df7914c",
   "metadata": {},
   "outputs": [
    {
     "name": "stdout",
     "output_type": "stream",
     "text": [
      "Enter the length : 3\n",
      "Area of hexagon : 23.4\n"
     ]
    }
   ],
   "source": [
    "s = float(input('Enter the length : '))\n",
    "print(f'Area of hexagon : {area_of_hexagon(s)}')"
   ]
  },
  {
   "cell_type": "markdown",
   "id": "1c5c217d",
   "metadata": {},
   "source": [
    "### Question 5. Create a function that returns a base-2 (binary) representation of a base-10 (decimal) string number. To convert is simple: ((2) means base-2 and (10) means base-10) 010101001(2) = 1 + 8 + 32 + 128. Going from right to left, the value of the most right bit is 1, now from that every bit to the left will be x2 the value, value of an 8 bit binary numbers are (256, 128, 64, 32, 16, 8, 4, 2, 1).\n",
    "    Examples\n",
    "    binary(1) ➞ \"1\"\n",
    "    # 1*1 = 1\n",
    "\n",
    "    binary(5) ➞ \"101\"\n",
    "    # 1*1 + 1*4 = 5\n",
    "\n",
    "    binary(10) ➞ \"1010\"\n",
    "    # 1*2 + 1*8 = 10\n"
   ]
  },
  {
   "cell_type": "code",
   "execution_count": 21,
   "id": "72741b67",
   "metadata": {},
   "outputs": [
    {
     "data": {
      "text/plain": [
       "'1'"
      ]
     },
     "execution_count": 21,
     "metadata": {},
     "output_type": "execute_result"
    }
   ],
   "source": [
    "def decimalToBinary(n):\n",
    "    return bin(n).replace(\"0b\", \"\")\n",
    "\n",
    "decimalToBinary(1)"
   ]
  },
  {
   "cell_type": "code",
   "execution_count": 22,
   "id": "70e1115e",
   "metadata": {},
   "outputs": [
    {
     "data": {
      "text/plain": [
       "'101'"
      ]
     },
     "execution_count": 22,
     "metadata": {},
     "output_type": "execute_result"
    }
   ],
   "source": [
    "decimalToBinary(5)"
   ]
  },
  {
   "cell_type": "code",
   "execution_count": 23,
   "id": "715c980c",
   "metadata": {},
   "outputs": [
    {
     "data": {
      "text/plain": [
       "'1010'"
      ]
     },
     "execution_count": 23,
     "metadata": {},
     "output_type": "execute_result"
    }
   ],
   "source": [
    "decimalToBinary(10)"
   ]
  },
  {
   "cell_type": "code",
   "execution_count": null,
   "id": "26e3168e",
   "metadata": {},
   "outputs": [],
   "source": []
  }
 ],
 "metadata": {
  "kernelspec": {
   "display_name": "Python 3 (ipykernel)",
   "language": "python",
   "name": "python3"
  },
  "language_info": {
   "codemirror_mode": {
    "name": "ipython",
    "version": 3
   },
   "file_extension": ".py",
   "mimetype": "text/x-python",
   "name": "python",
   "nbconvert_exporter": "python",
   "pygments_lexer": "ipython3",
   "version": "3.9.7"
  }
 },
 "nbformat": 4,
 "nbformat_minor": 5
}
